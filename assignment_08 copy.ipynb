{
 "cells": [
  {
   "cell_type": "markdown",
   "id": "b559df7b-cc7f-4618-a7bc-bbaeb9d75aec",
   "metadata": {},
   "source": [
    "Q1. What is an Exception in python? Write the differene between Exceptions and syntax errors."
   ]
  },
  {
   "cell_type": "markdown",
   "id": "cd3741f6-4ac5-4438-b6e4-af6069cf1a27",
   "metadata": {},
   "source": [
    "Ans: In Python, an exception is an event that occurs during the execution of a program that disrupts the normal flow of instructions. When an exceptional situation arises, Python raises an exception, which is a signal that an error or unexpected condition has occurred. This allows the program to handle the exceptional situation gracefully and take appropriate actions.\n",
    "\n",
    "syntax errors are errors that occur when the Python interpreter encounters code that does not follow the language's syntax rules. These errors are usually detected before the program is executed, during the parsing stage. Syntax errors indicate mistakes in the structure of the code, such as missing colons, parentheses, or incorrect indentation.\n",
    "\n",
    " differences between exceptions and syntax errors:\n",
    " \n",
    "1)Occurrence: Exceptions occur during the execution of a program when an error or unexpected condition arises. Syntax errors, on the other hand, occur during the parsing stage before the execution begins.\n",
    "\n",
    "2)Detection: Exceptions are raised by Python when it encounters an exceptional situation. Syntax errors are detected by the Python interpreter while parsing the code.\n",
    "\n",
    "3)Handling: Exceptions can be caught and handled using try-except blocks, allowing the program to take appropriate actions and continue execution. Syntax errors need to be fixed before the program can run.\n",
    "\n",
    "4)Impact on program flow: Exceptions disrupt the normal flow of instructions and allow the program to handle unexpected situations. Syntax errors prevent the program from executing until they are fixed."
   ]
  },
  {
   "cell_type": "markdown",
   "id": "068b99ef-61e5-4fb9-ba30-48889287b4d9",
   "metadata": {},
   "source": [
    "Q2. What happens when an exception is not handled? Explain with an example"
   ]
  },
  {
   "cell_type": "markdown",
   "id": "bc468ce7-69e8-4e7b-8d7c-c600f786524b",
   "metadata": {},
   "source": [
    "Ans: When an exception is not handled in a program, it results in the termination of the program's execution. This termination is accompanied by an error message that provides information about the unhandled exception and the traceback, which shows the sequence of function calls that led to the exception.\n",
    "Ex:"
   ]
  },
  {
   "cell_type": "code",
   "execution_count": 7,
   "id": "81611ee1-111d-4466-9a9a-29005eaa2610",
   "metadata": {},
   "outputs": [
    {
     "name": "stderr",
     "output_type": "stream",
     "text": [
      "2023-06-21 05:49:23,035 - ERROR - ERROR : division by zero\n",
      "2023-06-21 05:49:23,037 - INFO - division result is : None\n"
     ]
    }
   ],
   "source": [
    "import logging\n",
    "# logging.basicConfig(filename=\"er.log\",level=logging.INFO)\n",
    "logging.basicConfig(level=logging.INFO)\n",
    "\n",
    "def di(a,b):\n",
    "    try:\n",
    "        return a/b\n",
    "    except ZeroDivisionError as e:\n",
    "        logging.error(\"ERROR : %s\",e)\n",
    "a,b=10,0\n",
    "r=di(a,b)\n",
    "logging.info(\"division result is : %s\",r)\n",
    "        \n"
   ]
  },
  {
   "cell_type": "markdown",
   "id": "7c827cf5-8e27-4bdc-975f-32b0da718e06",
   "metadata": {},
   "source": [
    "Q3. Whih Python statements are used to catch and handle exceptions? Explain with an example"
   ]
  },
  {
   "cell_type": "markdown",
   "id": "f47c8a8c-693c-4ebb-ba5a-e86a92c63c5e",
   "metadata": {},
   "source": [
    "Ans: In Python, the try and except statements are used to catch and handle exceptions. The try block contains the code that may raise an exception, while the except block specifies the code to be executed when a specific exception occurs. Here's an example that demonstrates the usage of try and except statements\n",
    "EX:"
   ]
  },
  {
   "cell_type": "code",
   "execution_count": 6,
   "id": "944c28a4-01fb-40bb-b126-dd8901877587",
   "metadata": {},
   "outputs": [
    {
     "name": "stderr",
     "output_type": "stream",
     "text": [
      "2023-06-21 05:48:55,416 - ERROR - empty list \n",
      "2023-06-21 05:48:55,418 - INFO - average is : None\n"
     ]
    }
   ],
   "source": [
    "import logging\n",
    "# logging.basicConfig(filename=\"error.log\",level=logging.ERROR)\n",
    "logging.basicConfig(level=logging.ERROR)\n",
    "\n",
    "def avg(l):\n",
    "    try:\n",
    "        total=sum(l)\n",
    "        return total/len(l)\n",
    "    except ZeroDivisionError:\n",
    "        logging.error(\"empty list \")\n",
    "    except TypeError :\n",
    "        logging.error(\"Invalid input\")\n",
    "l=[]\n",
    "av=avg(l)\n",
    "logging.info(\"average is : %s\",av)"
   ]
  },
  {
   "cell_type": "markdown",
   "id": "009770e7-9a7d-4e6d-9a1a-fee3222b6082",
   "metadata": {},
   "source": [
    "Q4. Explain with an example:\n",
    "a. try and else\n",
    "Ans: "
   ]
  },
  {
   "cell_type": "code",
   "execution_count": 7,
   "id": "1fd0a1f6-0003-43fd-a280-09ad870d8131",
   "metadata": {},
   "outputs": [
    {
     "name": "stdin",
     "output_type": "stream",
     "text": [
      "Enter the first number:  2\n",
      "Enter the second number:  0\n"
     ]
    },
    {
     "name": "stdout",
     "output_type": "stream",
     "text": [
      "Error: Division by zero is not allowed.\n"
     ]
    }
   ],
   "source": [
    "def divide_numbers(a, b):\n",
    "    try:\n",
    "        result = a / b\n",
    "    except ZeroDivisionError:\n",
    "        print(\"Error: Division by zero is not allowed.\")\n",
    "    else:\n",
    "        print(\"The division result is:\", result)\n",
    "\n",
    "num1 = int(input(\"Enter the first number: \"))\n",
    "num2 = int(input(\"Enter the second number: \"))\n",
    "\n",
    "divide_numbers(num1, num2)\n"
   ]
  },
  {
   "cell_type": "markdown",
   "id": "e6adf2cc-ec39-401b-b3b0-371b1ba67f78",
   "metadata": {},
   "source": [
    "b. finally\n",
    "Ans:"
   ]
  },
  {
   "cell_type": "code",
   "execution_count": 4,
   "id": "37c42d65-239e-46c7-b10c-cd1870bdd9e0",
   "metadata": {},
   "outputs": [
    {
     "name": "stdin",
     "output_type": "stream",
     "text": [
      "Enter the filename:  y.txt\n"
     ]
    },
    {
     "name": "stderr",
     "output_type": "stream",
     "text": [
      "2023-06-21 05:48:14,742 - ERROR - Error: File not found.\n"
     ]
    }
   ],
   "source": [
    "import logging\n",
    "\n",
    "\n",
    "# logging.basicConfig(filename='app.log', level=logging.INFO)\n",
    "logging.basicConfig( level=logging.INFO)\n",
    "\n",
    "\n",
    "def open_and_read_file(filename):\n",
    "    try:\n",
    "        file = open(filename, \"r\")\n",
    "        content = file.read()\n",
    "        logging.info(\"File content: %s\", content)\n",
    "    except FileNotFoundError:\n",
    "        logging.error(\"Error: File not found.\")\n",
    "    finally:\n",
    "        if 'file' in locals():\n",
    "            file.close()\n",
    "            logging.info(\"File closed.\")\n",
    "\n",
    "filename = input(\"Enter the filename: \")\n",
    "\n",
    "open_and_read_file(filename)\n"
   ]
  },
  {
   "cell_type": "markdown",
   "id": "8531d957-a621-4edf-beec-609e28d55abe",
   "metadata": {},
   "source": [
    "c. raise\n",
    "Ans:"
   ]
  },
  {
   "cell_type": "code",
   "execution_count": 2,
   "id": "e64acd71-6aa0-43d8-9209-2610e069dffd",
   "metadata": {},
   "outputs": [
    {
     "name": "stdin",
     "output_type": "stream",
     "text": [
      "Enter the first number:  2\n",
      "Enter the second number:  0\n"
     ]
    },
    {
     "name": "stderr",
     "output_type": "stream",
     "text": [
      "2023-06-21 05:47:12,572 - ERROR - Error occurred: Division by zero is not allowed.\n",
      "2023-06-21 05:47:12,573 - INFO - The result of the division is: None\n"
     ]
    }
   ],
   "source": [
    "import logging\n",
    "# logging.basicConfig(filename='a.log', level=logging.ERROR)\n",
    "logging.basicConfig( level=logging.ERROR)\n",
    "\n",
    "\n",
    "def divide_numbers(a, b):\n",
    "    try:\n",
    "        if b == 0:\n",
    "            raise ZeroDivisionError(\"Division by zero is not allowed.\")\n",
    "        result = a / b\n",
    "        return result\n",
    "    except ZeroDivisionError as e:\n",
    "        logging.error(\"Error occurred: %s\", e)\n",
    "\n",
    "# Prompting the user for input\n",
    "num1 = int(input(\"Enter the first number: \"))\n",
    "num2 = int(input(\"Enter the second number: \"))\n",
    "\n",
    "result = divide_numbers(num1, num2)\n",
    "logging.info(\"The result of the division is: %s\", result)\n"
   ]
  },
  {
   "cell_type": "markdown",
   "id": "135b77c9-af67-4ef6-8b0f-6e5c896d171b",
   "metadata": {},
   "source": [
    "Q5. What are Custom Exceptions in python? Why do we need Custom Exceptions? Explain with an example"
   ]
  },
  {
   "cell_type": "markdown",
   "id": "f3607432-cd8a-4989-89d3-9e4db4d98b3f",
   "metadata": {},
   "source": [
    "Ans: In Python, custom exceptions are user-defined exceptions that allow you to create your own specific exception types to handle exceptional situations in your code. While Python provides a rich set of built-in exceptions, sometimes they may not adequately represent the specific error conditions you want to handle. In such cases, you can create custom exceptions to provide more meaningful and specific error messages and to differentiate them from the built-in exceptions.\n",
    "Ex:"
   ]
  },
  {
   "cell_type": "code",
   "execution_count": 3,
   "id": "01ea5b47-6d85-4305-b983-02fa6da2c223",
   "metadata": {},
   "outputs": [
    {
     "name": "stderr",
     "output_type": "stream",
     "text": [
      "2023-06-21 05:47:33,909 - ERROR - Insufficient funds in Savings Account. Required amount: 2000\n",
      "2023-06-21 05:47:33,910 - ERROR - Insufficient funds in Savings Account. Required amount: 2000\n"
     ]
    }
   ],
   "source": [
    "import logging\n",
    "\n",
    "\n",
    "logging.basicConfig(\n",
    "    level=logging.DEBUG,\n",
    "    format='%(asctime)s - %(levelname)s - %(message)s'\n",
    ")\n",
    "\n",
    "class InsufficientFundsError(Exception):\n",
    "    \"\"\"Raised when there are insufficient funds in an account.\"\"\"\n",
    "\n",
    "    def __init__(self, account, amount):\n",
    "        self.account = account\n",
    "        self.amount = amount\n",
    "\n",
    "    def __str__(self):\n",
    "        return f\"Insufficient funds in {self.account}. Required amount: {self.amount}\"\n",
    "\n",
    "\n",
    "class BankAccount:\n",
    "    def __init__(self, balance):\n",
    "        self.balance = balance\n",
    "\n",
    "    def withdraw(self, amount):\n",
    "        if amount > self.balance:\n",
    "            logging.error(InsufficientFundsError(\"Savings Account\", amount))\n",
    "            raise InsufficientFundsError(\"Savings Account\", amount)\n",
    "        else:\n",
    "            self.balance -= amount\n",
    "            logging.info(\"Withdrawal successful.\")\n",
    "\n",
    "\n",
    "account = BankAccount(1000)\n",
    "\n",
    "try:\n",
    "    account.withdraw(2000)\n",
    "except InsufficientFundsError as e:\n",
    "    logging.error(e)\n"
   ]
  },
  {
   "cell_type": "markdown",
   "id": "73e50ddc-3af4-40d7-831a-51cf86944017",
   "metadata": {},
   "source": [
    "Q6. Create custom exception class. Use this class to handle an exception."
   ]
  },
  {
   "cell_type": "code",
   "execution_count": 10,
   "id": "c07be86c-3493-4a28-a3f6-cc9b6b488b7a",
   "metadata": {},
   "outputs": [
    {
     "name": "stderr",
     "output_type": "stream",
     "text": [
      "2023-06-21 06:01:10,363 - ERROR - Invalid Input ERROR: invalid input value -81\n",
      "2023-06-21 06:01:10,364 - ERROR - Invalid Input ERROR: invalid input value -81\n"
     ]
    }
   ],
   "source": [
    "import logging\n",
    "\n",
    "class Invalid_in(Exception):\n",
    "    \"\"\"Custom exception class for invalid input\"\"\"\n",
    "    def __init__(self,cin):\n",
    "        self.cin=cin\n",
    "    def __str__(self):\n",
    "        return f\"Invalid Input ERROR: invalid input value {self.cin}\"\n",
    "logging.basicConfig(level=logging.ERROR,format='%(asctime)s - %(levelname)s - %(message)s')\n",
    "\n",
    "def sq(n):\n",
    "    if n<0:\n",
    "        logging.error(Invalid_in(n))\n",
    "        raise Invalid_in(n)\n",
    "    return n**0.5\n",
    "try:\n",
    "    res=sq(-81)\n",
    "    logging.info(\"square root: %s\",res)\n",
    "except Invalid_in as e:\n",
    "    logging.error(e)"
   ]
  }
 ],
 "metadata": {
  "kernelspec": {
   "display_name": "Python 3 (ipykernel)",
   "language": "python",
   "name": "python3"
  },
  "language_info": {
   "codemirror_mode": {
    "name": "ipython",
    "version": 3
   },
   "file_extension": ".py",
   "mimetype": "text/x-python",
   "name": "python",
   "nbconvert_exporter": "python",
   "pygments_lexer": "ipython3",
   "version": "3.10.8"
  }
 },
 "nbformat": 4,
 "nbformat_minor": 5
}
