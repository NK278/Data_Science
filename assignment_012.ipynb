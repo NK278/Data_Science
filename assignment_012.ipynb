{
 "cells": [
  {
   "cell_type": "markdown",
   "id": "427869be-d311-4d45-b645-becd2e2e7121",
   "metadata": {},
   "source": [
    "Q1. What is a database? Differentiate between SQL and NoSQL databases."
   ]
  },
  {
   "cell_type": "markdown",
   "id": "74627fa4-98f0-4053-bfb3-a641a9c3246a",
   "metadata": {},
   "source": [
    "Ans: A database is a structured collection of data that is organized and stored in a way that allows for efficient retrieval, manipulation, and management of data. It is designed to store and manage large amounts of information, and it provides mechanisms for accessing and updating that information.\n",
    "\n",
    "SQL (Structured Query Language) and NoSQL (Not only SQL) are two different types of database management systems that differ in their data models and query languages:\n",
    "\n",
    "1)SQL Databases: SQL databases, also known as relational databases, are based on the relational model proposed by E.F. Codd in 1970. They organize data into tables consisting of rows and columns, where each row represents a record, and each column represents a data attribute. SQL databases use SQL as the standard language for defining and manipulating the data.\n",
    "Key characteristics of SQL databases:\n",
    "\n",
    ">Structured data: Data is organized in predefined tables with a fixed schema.\n",
    ">ACID properties: SQL databases enforce ACID (Atomicity, Consistency, Isolation, Durability) properties, ensuring data integrity and transactional consistency.\n",
    ">Strong data consistency: SQL databases provide strong consistency guarantees, where data is always in a valid state.\n",
    ">Complex queries: SQL databases excel at handling complex queries involving multiple tables and relationships.\n",
    ">Scalability challenges: Scaling SQL databases horizontally (across multiple machines) can be challenging due to their rigid structure and strong consistency requirements.\n",
    "\n",
    "2)NoSQL Databases:\n",
    "NoSQL databases are designed to handle large volumes of unstructured and semi-structured data. They provide flexible schemas that allow for easy modification and addition of new data types. NoSQL databases are categorized into different types, including document databases, key-value stores, columnar databases, and graph databases, each optimized for specific use cases.\n",
    "Key characteristics of NoSQL databases:\n",
    "\n",
    ">Flexible schema: NoSQL databases offer schema flexibility, allowing for dynamic and evolving data models.\n",
    ">Distributed and scalable: NoSQL databases are designed to scale horizontally, making it easier to handle high traffic and large data volumes.\n",
    ">Eventual consistency: NoSQL databases may sacrifice immediate consistency for scalability, providing eventual consistency models.\n",
    ">Simpler queries: NoSQL databases typically have simpler query languages tailored for specific data models, focusing on key-based lookups, document traversal, or column operations."
   ]
  },
  {
   "cell_type": "markdown",
   "id": "66887fe6-bc1f-427b-92ab-176274df009c",
   "metadata": {},
   "source": [
    "Q2. What is DDL? Explain why CREATE, DROP, ALTER, and TRUNCATE are used with an example."
   ]
  },
  {
   "cell_type": "markdown",
   "id": "2542950e-0162-4b6f-993e-39d65c3372a5",
   "metadata": {},
   "source": [
    "Ans: DDL stands for Data Definition Language, which is a subset of SQL (Structured Query Language) used for defining and managing the structure of a database. DDL statements are used to create, modify, and delete database objects such as tables, indexes, views, and schemas. DDL statements are executed by the database management system (DBMS) to carry out the requested changes to the database structure.\n",
    "\n",
    "1)CREATE: The CREATE statement is used to create new database objects, such as tables, indexes, views, or schemas. It specifies the name of the object and defines its structure and attributes.\n",
    "Example: Creating a table named \"Customers\" with columns for customer information.\n",
    "Ex:"
   ]
  },
  {
   "cell_type": "markdown",
   "id": "999651a4-35ce-49f4-9f3a-046556933bff",
   "metadata": {},
   "source": [
    "CREATE TABLE Customers (\n",
    "    id INT PRIMARY KEY,\n",
    "    name VARCHAR(100),\n",
    "    email VARCHAR(255),\n",
    "    address VARCHAR(200)\n",
    ");"
   ]
  },
  {
   "cell_type": "markdown",
   "id": "6f961685-e4ce-439a-a085-1b9538a57955",
   "metadata": {},
   "source": [
    "2)DROP: The DROP statement is used to remove or delete existing database objects. It permanently removes the specified object and all associated data.\n",
    "Example: Dropping a table named \"Customers\" from the database.\n",
    "DROP TABLE Customers;"
   ]
  },
  {
   "cell_type": "markdown",
   "id": "ef2f281c-2193-4a5a-859c-c8403e273b9f",
   "metadata": {},
   "source": [
    "3)ALTER: The ALTER statement is used to modify the structure of an existing database object. It allows you to add, modify, or drop columns, constraints, or other attributes of the object.\n",
    "Example: Adding a new column named \"phone\" to the \"Customers\" table.\n",
    "ALTER TABLE Customers\n",
    "ADD COLUMN phone VARCHAR(20);"
   ]
  },
  {
   "cell_type": "markdown",
   "id": "7014c76d-669a-4498-a707-b3eccbe8e388",
   "metadata": {},
   "source": [
    "3)TRUNCATE: The TRUNCATE statement is used to remove all data from a table, but keeps the table structure intact. It is faster than deleting all rows individually, as it deallocates the space occupied by the table data.\n",
    "Example: Truncating the \"Orders\" table to remove all its data\n",
    "TRUNCATE TABLE Orders;"
   ]
  },
  {
   "cell_type": "markdown",
   "id": "52d8ed38-7500-48bd-9ebb-bd4f6939e9f0",
   "metadata": {},
   "source": [
    "Q3. What is DML? Explain INSERT, UPDATE, and DELETE with an example."
   ]
  },
  {
   "cell_type": "markdown",
   "id": "d0fd8ea2-0536-45c3-88ec-600cb29e52d2",
   "metadata": {},
   "source": [
    "Ans: DML stands for Data Manipulation Language, which is a subset of SQL (Structured Query Language) used for manipulating data within a database. DML statements are used to insert, update, and delete data stored in database tables. These statements allow you to interact with the data, modify existing records, and add new records to the tables.\n"
   ]
  },
  {
   "cell_type": "markdown",
   "id": "8d470c8b-6f63-46e3-a94a-03677d997543",
   "metadata": {},
   "source": [
    "1)INSERT: The INSERT statement is used to add new records or rows to a table. It specifies the table name and the values to be inserted into the corresponding columns.\n",
    "Example: Inserting a new record into the \"Customers\" table.\n",
    "INSERT INTO Customers (id, name, email)\n",
    "VALUES (1, 'John Doe', 'john@example.com');\n"
   ]
  },
  {
   "cell_type": "markdown",
   "id": "42f49d4a-81f8-4363-8c29-6260b20dd3bf",
   "metadata": {},
   "source": [
    "2)UPDATE: The UPDATE statement is used to modify existing records in a table. It allows you to change the values of specific columns in one or more rows that match a certain condition.\n",
    "Example: Updating the email address of a customer in the \"Customers\" table.\n",
    "UPDATE Customers\n",
    "SET email = 'newemail@example.com'\n",
    "WHERE id = 1;\n"
   ]
  },
  {
   "cell_type": "markdown",
   "id": "8e1344e2-086a-4e66-9ec2-99b9d59f7d82",
   "metadata": {},
   "source": [
    "3)DELETE: The DELETE statement is used to remove one or more rows from a table. It allows you to specify a condition to identify the rows to be deleted.\n",
    "Example: Deleting a specific record from the \"Customers\" table.\n",
    "DELETE FROM Customers\n",
    "WHERE id = 1;\n"
   ]
  },
  {
   "cell_type": "markdown",
   "id": "d5198584-171e-485c-93a6-5ffa993fa8de",
   "metadata": {},
   "source": [
    "Q4. What is DQL? Explain SELECT with an example."
   ]
  },
  {
   "cell_type": "markdown",
   "id": "4c252a51-6396-4c9b-9979-48a53564435a",
   "metadata": {},
   "source": [
    "Ans: DQL stands for Data Query Language, which is a subset of SQL (Structured Query Language) used for querying and retrieving data from a database. DQL statements primarily include the SELECT statement, which allows you to specify the data you want to retrieve and the conditions for filtering and sorting the results."
   ]
  },
  {
   "cell_type": "markdown",
   "id": "cd7ca42c-def5-4a63-a794-7c0285e089fe",
   "metadata": {},
   "source": [
    "SELECT: The SELECT statement is used to retrieve data from one or more tables in a database. It allows you to specify the columns you want to retrieve, the table(s) to query, and optional filtering and sorting conditions.\n",
    "Example: Retrieving customer names and email addresses from the \"Customers\" table.\n",
    "SELECT name, email\n",
    "FROM Customers;"
   ]
  },
  {
   "cell_type": "markdown",
   "id": "9c26f8fb-f0a8-4910-b3a1-9f8e0114542e",
   "metadata": {},
   "source": [
    "Q5. Explain Primary Key and Foreign Key."
   ]
  },
  {
   "cell_type": "markdown",
   "id": "ff5525db-3526-4239-9d62-4cf4950f0e75",
   "metadata": {},
   "source": [
    "Ans: \n",
    "Primary Key: A primary key is a column or a set of columns in a database table that uniquely identifies each row in that table. It serves as a unique identifier for the records and ensures the integrity and uniqueness of the data. Key characteristics of a primary key are:\n",
    "\n",
    "1)Uniqueness: Each value in the primary key column(s) must be unique, meaning no two rows can have the same key value.\n",
    "\n",
    "2)Non-nullability: A primary key column cannot have a null (empty) value. It must always contain a valid value.\n",
    "\n",
    "3)Immutability: The values in a primary key should remain constant and not change over time.\n",
    "\n",
    "4)Single-valued: A primary key consists of one or more columns that collectively form a unique identifier for each row."
   ]
  },
  {
   "cell_type": "markdown",
   "id": "69203409-434c-453b-b3ed-d1b2dbd9e6f0",
   "metadata": {},
   "source": [
    "Foreign Key: A foreign key is a column or a set of columns in a database table that refers to the primary key of another table. It establishes a relationship between two tables based on the values of the key columns. The foreign key represents a link between the tables and enforces referential integrity.\n",
    "Key characteristics of a foreign key are:\n",
    "\n",
    "1)Referential Integrity: The values in the foreign key column(s) must exist as values in the referenced primary key column(s) of another table, or be null if the foreign key allows null values.\n",
    "\n",
    "2)Relationship: A foreign key establishes a relationship between two tables, typically representing a parent-child relationship or a relationship between related entities.\n",
    "\n",
    "3)Can be Nullable: A foreign key column can allow null values if the relationship is optional.\n"
   ]
  },
  {
   "cell_type": "markdown",
   "id": "45106d65-1e92-4519-a61d-97dd125e356c",
   "metadata": {},
   "source": [
    "Q6. Write a python code to connect MySQL to python. Explain the cursor() and execute() method."
   ]
  },
  {
   "cell_type": "code",
   "execution_count": null,
   "id": "e4802000-4b90-4fa1-b40b-0ba238f2c39e",
   "metadata": {},
   "outputs": [],
   "source": [
    "import mysql.connector\n",
    "\n",
    "# Establish a connection to MySQL\n",
    "connection = mysql.connector.connect(\n",
    "    host=\"localhost\",\n",
    "    user=\"your_username\",\n",
    "    password=\"your_password\",\n",
    "    database=\"your_database\"\n",
    ")\n",
    "\n",
    "# Create a cursor object\n",
    "cursor = connection.cursor()\n",
    "\n",
    "# Execute a SQL query\n",
    "query = \"SELECT * FROM Customers\"\n",
    "cursor.execute(query)\n",
    "\n",
    "# Fetch and print the result\n",
    "result = cursor.fetchall()\n",
    "for row in result:\n",
    "    print(row)\n",
    "\n",
    "# Close the cursor and connection\n",
    "cursor.close()\n",
    "connection.close()\n"
   ]
  },
  {
   "cell_type": "markdown",
   "id": "3db3ef05-056b-46e6-95c0-fa190e05f03c",
   "metadata": {},
   "source": [
    "1)cursor(): \n",
    ">The cursor() method is called on the MySQL connection object to create a cursor.\n",
    "\n",
    ">The cursor acts as a control structure that enables you to execute SQL statements and retrieve results from the database.\n",
    "\n",
    ">"
   ]
  },
  {
   "cell_type": "markdown",
   "id": "87c4029d-d09e-4de7-873c-7a03b966e755",
   "metadata": {},
   "source": [
    "2)execute():\n",
    ">The execute() method is called on the cursor object to execute a SQL query or statement.\n",
    "\n",
    ">It takes the SQL query as a parameter and executes it on the connected MySQL database.\n",
    "\n",
    ">It can be used for both data retrieval (SELECT queries) and data modification (INSERT, UPDATE, DELETE queries).\n",
    "\n",
    ">After executing the query, the result, if any, can be fetched using methods like fetchone(), fetchmany(), or fetchall()."
   ]
  },
  {
   "cell_type": "markdown",
   "id": "97e68aec-01c0-4d1a-89f7-2d81e889ad57",
   "metadata": {},
   "source": [
    "Q7. Give the order of execution of SQL clauses in an SQL query."
   ]
  },
  {
   "cell_type": "markdown",
   "id": "a2ed3c36-cf7a-46ef-addb-8c142a11e3e4",
   "metadata": {},
   "source": [
    "Ans: 1)FROM clause:\n",
    "The FROM clause specifies the table or tables from which the data will be retrieved. It identifies the source tables for the query.\n",
    "\n",
    "2)WHERE clause:\n",
    "The WHERE clause filters the rows from the specified table(s) based on specified conditions. It narrows down the result set based on the specified criteria.\n",
    "\n",
    "3)GROUP BY clause:\n",
    "The GROUP BY clause is used to group rows with the same values in specified columns. It is typically used in conjunction with aggregate functions to perform calculations on groups of data.\n",
    "\n",
    "4)HAVING clause:\n",
    "The HAVING clause filters the grouped rows further based on specified conditions. It is similar to the WHERE clause but operates on grouped data.\n",
    "\n",
    "5)SELECT clause:\n",
    "The SELECT clause specifies the columns to be retrieved from the table(s) or the result of the query. It determines the structure and content of the result set.\n",
    "\n",
    "6)DISTINCT keyword:\n",
    "The DISTINCT keyword, if used, eliminates duplicate rows from the result set.\n",
    "\n",
    "7)ORDER BY clause:\n",
    "The ORDER BY clause sorts the rows in the result set based on specified column(s) in ascending or descending order.\n",
    "\n",
    "8)LIMIT clause:\n",
    "The LIMIT clause, if supported by the database, is used to limit the number of rows returned by the query.\n"
   ]
  }
 ],
 "metadata": {
  "kernelspec": {
   "display_name": "Python 3 (ipykernel)",
   "language": "python",
   "name": "python3"
  },
  "language_info": {
   "codemirror_mode": {
    "name": "ipython",
    "version": 3
   },
   "file_extension": ".py",
   "mimetype": "text/x-python",
   "name": "python",
   "nbconvert_exporter": "python",
   "pygments_lexer": "ipython3",
   "version": "3.10.8"
  }
 },
 "nbformat": 4,
 "nbformat_minor": 5
}
