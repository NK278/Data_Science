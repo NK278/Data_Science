{
 "cells": [
  {
   "cell_type": "code",
   "execution_count": 2,
   "id": "ce01cab7-5c66-4067-9cfd-ccb7eea1172d",
   "metadata": {},
   "outputs": [],
   "source": [
    "import pandas as pd\n",
    "course_name=['Data Science', 'Machine Learning', 'Big Data', 'Data Engineer']\n",
    "duration = [2,3,6,4]\n",
    "df=pd.DataFrame(data={'course_name' : course_name, 'duration' : duration})"
   ]
  },
  {
   "cell_type": "markdown",
   "id": "11cb0bd0-34de-466f-b9f1-c485dad7a27f",
   "metadata": {},
   "source": [
    "Q1. Write a code to print the data present in the second row of the dataframe, df."
   ]
  },
  {
   "cell_type": "code",
   "execution_count": 3,
   "id": "2fbc0931-5b13-45a3-9806-559ff2011275",
   "metadata": {},
   "outputs": [
    {
     "name": "stdout",
     "output_type": "stream",
     "text": [
      "course_name    Machine Learning\n",
      "duration                      3\n",
      "Name: 1, dtype: object\n"
     ]
    }
   ],
   "source": [
    "s_row=df.iloc[1]\n",
    "print(s_row)"
   ]
  },
  {
   "cell_type": "markdown",
   "id": "e030daaf-597b-490b-8780-f6e215d6c6db",
   "metadata": {},
   "source": [
    "Q2. What is the difference between the functions loc and iloc in pandas.DataFrame?"
   ]
  },
  {
   "cell_type": "markdown",
   "id": "2e059018-46f2-4226-b9e2-0138fb7bf736",
   "metadata": {},
   "source": [
    "Ans:In pandas, the loc and iloc are two commonly used methods to access data in a DataFrame. They serve similar purposes but have different ways of indexing data:\n",
    "\n",
    "1)loc: This method is used to access a group of rows and columns by labels (index labels and column names). It accepts label-based indexing. When using loc, you specify the row and column labels to extract data.\n",
    "\n",
    "2)iloc: This method is used for integer-based indexing. It allows you to access rows and columns by their integer positions (index positions). With iloc, you provide the numerical indices of the rows and columns you want to access."
   ]
  },
  {
   "cell_type": "markdown",
   "id": "70eb4e34-1dac-4267-988c-09a18ba97096",
   "metadata": {},
   "source": [
    "Q3. Reindex the given dataframe using a variable, reindex = [3,0,1,2] and store it in the variable, new_df\n",
    "then find the output for both new_df.loc[2] and new_df.iloc[2]."
   ]
  },
  {
   "cell_type": "code",
   "execution_count": 4,
   "id": "fc602db3-b255-4263-949a-28fdb0cc1a95",
   "metadata": {},
   "outputs": [],
   "source": [
    "r_idx=[3,0,1,2]\n",
    "new_df=df.reindex(r_idx)"
   ]
  },
  {
   "cell_type": "code",
   "execution_count": 6,
   "id": "e8949897-bea2-4d53-89c5-58216ced3000",
   "metadata": {},
   "outputs": [
    {
     "data": {
      "text/html": [
       "<div>\n",
       "<style scoped>\n",
       "    .dataframe tbody tr th:only-of-type {\n",
       "        vertical-align: middle;\n",
       "    }\n",
       "\n",
       "    .dataframe tbody tr th {\n",
       "        vertical-align: top;\n",
       "    }\n",
       "\n",
       "    .dataframe thead th {\n",
       "        text-align: right;\n",
       "    }\n",
       "</style>\n",
       "<table border=\"1\" class=\"dataframe\">\n",
       "  <thead>\n",
       "    <tr style=\"text-align: right;\">\n",
       "      <th></th>\n",
       "      <th>course_name</th>\n",
       "      <th>duration</th>\n",
       "    </tr>\n",
       "  </thead>\n",
       "  <tbody>\n",
       "    <tr>\n",
       "      <th>3</th>\n",
       "      <td>Data Engineer</td>\n",
       "      <td>4</td>\n",
       "    </tr>\n",
       "    <tr>\n",
       "      <th>0</th>\n",
       "      <td>Data Science</td>\n",
       "      <td>2</td>\n",
       "    </tr>\n",
       "    <tr>\n",
       "      <th>1</th>\n",
       "      <td>Machine Learning</td>\n",
       "      <td>3</td>\n",
       "    </tr>\n",
       "    <tr>\n",
       "      <th>2</th>\n",
       "      <td>Big Data</td>\n",
       "      <td>6</td>\n",
       "    </tr>\n",
       "  </tbody>\n",
       "</table>\n",
       "</div>"
      ],
      "text/plain": [
       "        course_name  duration\n",
       "3     Data Engineer         4\n",
       "0      Data Science         2\n",
       "1  Machine Learning         3\n",
       "2          Big Data         6"
      ]
     },
     "execution_count": 6,
     "metadata": {},
     "output_type": "execute_result"
    }
   ],
   "source": [
    "new_df"
   ]
  },
  {
   "cell_type": "code",
   "execution_count": 7,
   "id": "1d45a53a-2170-4042-80d1-1c441e2a4eb0",
   "metadata": {},
   "outputs": [
    {
     "data": {
      "text/plain": [
       "course_name    Big Data\n",
       "duration              6\n",
       "Name: 2, dtype: object"
      ]
     },
     "execution_count": 7,
     "metadata": {},
     "output_type": "execute_result"
    }
   ],
   "source": [
    "new_df.loc[2]"
   ]
  },
  {
   "cell_type": "code",
   "execution_count": 8,
   "id": "1b661486-3300-4bec-8513-9cc7e20b801f",
   "metadata": {},
   "outputs": [
    {
     "data": {
      "text/plain": [
       "course_name    Machine Learning\n",
       "duration                      3\n",
       "Name: 1, dtype: object"
      ]
     },
     "execution_count": 8,
     "metadata": {},
     "output_type": "execute_result"
    }
   ],
   "source": [
    "new_df.iloc[2]"
   ]
  },
  {
   "cell_type": "markdown",
   "id": "f681637d-87f1-4cd9-9828-d36ba65dd870",
   "metadata": {},
   "source": [
    "new_df.loc[2]:\n",
    "This will use label-based indexing to access the row with the label 2 in the new_df\n",
    "\n",
    "new_df.iloc[2]:\n",
    "This will use integer-based indexing to access the row with the index 2 in the new_df"
   ]
  },
  {
   "cell_type": "code",
   "execution_count": 1,
   "id": "7d6984d1-1cdb-4c3d-b425-3193d423324f",
   "metadata": {},
   "outputs": [],
   "source": [
    "import pandas as pd\n",
    "import numpy as np\n",
    "columns = ['column_1', 'column_2', 'column_3', 'column_4', 'column_5', 'column_6']\n",
    "indices = [1,2,3,4,5,6]\n",
    "#Creating a dataframe:\n",
    "df1 = pd.DataFrame(np.random.rand(6,6), columns = columns, index = indices)"
   ]
  },
  {
   "cell_type": "markdown",
   "id": "813c9535-3f0a-4c5f-a56e-0338714a6bb7",
   "metadata": {},
   "source": [
    "Q4. Write a code to find the following statistical measurements for the above dataframe df1:\n",
    "(i) mean of each and every column present in the dataframe.\n",
    "(ii) standard deviation of column, ‘column_2’"
   ]
  },
  {
   "cell_type": "code",
   "execution_count": 3,
   "id": "bb04bc03-596e-4398-b0c4-b8e96e1b71f3",
   "metadata": {},
   "outputs": [
    {
     "name": "stdout",
     "output_type": "stream",
     "text": [
      "Mean of every col:  column_1    0.485912\n",
      "column_2    0.598391\n",
      "column_3    0.639924\n",
      "column_4    0.376193\n",
      "column_5    0.304021\n",
      "column_6    0.535804\n",
      "dtype: float64\n"
     ]
    }
   ],
   "source": [
    "col_mean=df1.mean()\n",
    "print(\"Mean of every col: \",col_mean)"
   ]
  },
  {
   "cell_type": "code",
   "execution_count": 4,
   "id": "f6cc86f1-46a0-4d6b-b812-9ecbad56655f",
   "metadata": {},
   "outputs": [
    {
     "name": "stdout",
     "output_type": "stream",
     "text": [
      "Standard dev of col->column_2:  0.193839081464933\n"
     ]
    }
   ],
   "source": [
    "cl_std=df1['column_2'].std()\n",
    "print(\"Standard dev of col->column_2: \",cl_std)"
   ]
  },
  {
   "cell_type": "markdown",
   "id": "40501bce-c51d-42dd-9b15-58d9edd879e2",
   "metadata": {},
   "source": [
    "Q5. Replace the data present in the second row of column, ‘column_2’ by a string variable then find the\n",
    "mean of column, column_2.\n",
    "If you are getting errors in executing it then explain why.\n",
    "[Hint: To replace the data use df1.loc[] and equate this to string data of your choice.]"
   ]
  },
  {
   "cell_type": "code",
   "execution_count": 5,
   "id": "5a132653-25af-4ef4-bc0e-03c244b0446d",
   "metadata": {},
   "outputs": [
    {
     "name": "stdout",
     "output_type": "stream",
     "text": [
      "ERROR:  unsupported operand type(s) for +: 'float' and 'str'\n"
     ]
    }
   ],
   "source": [
    "val=\"Nish_col\"\n",
    "df1.loc[2,'column_2']=val\n",
    "\n",
    "try:\n",
    "    col2_m=df1['column_2'].mean()\n",
    "    \n",
    "except TypeError as e:\n",
    "    print(\"ERROR: \",e)"
   ]
  },
  {
   "cell_type": "markdown",
   "id": "be3547eb-b290-44e6-8725-466ad29d0e89",
   "metadata": {},
   "source": [
    "This error occurs due to the attempt to calculate the mean of a column containing both numeric and string values."
   ]
  },
  {
   "cell_type": "markdown",
   "id": "df71558d-6246-41a7-8e74-302ec3010fac",
   "metadata": {},
   "source": [
    "Q6. What do you understand about the windows function in pandas and list the types of windows\n",
    "functions?"
   ]
  },
  {
   "cell_type": "markdown",
   "id": "1e50cd44-8714-42ef-9908-873922629ee6",
   "metadata": {},
   "source": [
    "Ans:In pandas, window functions (also known as rolling or moving functions) are powerful tools for performing calculations on a specific subset of data points within a defined window or range. These functions are particularly useful for time series and sequential data analysis. Window functions allow you to compute metrics that depend on a sliding window of values, such as moving averages, cumulative sums, and more.\n",
    "\n",
    "Types of Window Functions in pandas:\n",
    "\n",
    "1)Rolling Windows Functions: These functions operate over a rolling window of a fixed size, which slides over the data frame. They are commonly used for calculations like moving averages, moving sums, and other rolling statistics.\n",
    "rolling().mean(): Calculates the rolling mean.\n",
    "rolling().sum(): Calculates the rolling sum.\n",
    "rolling().min(): Calculates the rolling minimum.\n",
    "rolling().max(): Calculates the rolling maximum.\n",
    "\n",
    "2)Expanding Windows Functions: Expanding windows include all data points from the start of the data up to the current point. They are useful for cumulative calculations like cumulative sums and cumulative products.\n",
    "expanding().sum(): Calculates the cumulative sum.\n",
    "expanding().prod(): Calculates the cumulative product.\n",
    "expanding().mean(): Calculates the cumulative mean.\n",
    "\n",
    "3)Exponential Moving Windows Functions: These are a variation of rolling windows functions that assign exponentially decreasing weights to data points as they move away from the current point. These functions are useful for calculating weighted averages and smoothing data.\n",
    "ewm().mean(): Calculates the exponentially weighted moving average.\n",
    "ewm().std(): Calculates the exponentially weighted moving standard deviation.\n",
    "\n",
    "4)Custom Window Functions: You can also define your own custom window functions using the apply() method combined with a custom function that operates on a specific window of data."
   ]
  },
  {
   "cell_type": "markdown",
   "id": "0db8f013-985f-463b-97fe-b7038363b8c8",
   "metadata": {},
   "source": [
    "Q7. Write a code to print only the current month and year at the time of answering this question.\n",
    "[Hint: Use pandas.datetime function]"
   ]
  },
  {
   "cell_type": "code",
   "execution_count": 6,
   "id": "7a5e963e-9a24-47ad-8584-4f993427f081",
   "metadata": {},
   "outputs": [
    {
     "name": "stdout",
     "output_type": "stream",
     "text": [
      "Current month: 8\n",
      "Current year: 2023\n"
     ]
    }
   ],
   "source": [
    "import pandas as pd\n",
    "\n",
    "# Get the current date and time\n",
    "current_datetime = pd.Timestamp.now()\n",
    "\n",
    "# Extract the month and year\n",
    "current_month = current_datetime.month\n",
    "current_year = current_datetime.year\n",
    "\n",
    "print(\"Current month:\", current_month)\n",
    "print(\"Current year:\", current_year)\n"
   ]
  },
  {
   "cell_type": "markdown",
   "id": "a04b867e-8970-4c30-97a1-18c96e35068b",
   "metadata": {},
   "source": [
    "Q8. Write a Python program that takes in two dates as input (in the format YYYY-MM-DD) and\n",
    "calculates the difference between them in days, hours, and minutes using Pandas time delta. The\n",
    "program should prompt the user to enter the dates and display the result."
   ]
  },
  {
   "cell_type": "code",
   "execution_count": 1,
   "id": "8e37260b-ec4b-434d-b6f2-e90299714c16",
   "metadata": {},
   "outputs": [
    {
     "name": "stdin",
     "output_type": "stream",
     "text": [
      "Enter the first date (YYYY-MM-DD):  2020 3 4\n",
      "Enter the second date (YYYY-MM-DD):  2021 5 8\n"
     ]
    },
    {
     "name": "stdout",
     "output_type": "stream",
     "text": [
      "Difference between the two dates:\n",
      "Days: 430\n",
      "Hours: 0\n",
      "Minutes: 0\n"
     ]
    }
   ],
   "source": [
    "import pandas as pd\n",
    "\n",
    "# Get input from the user\n",
    "date1_input = input(\"Enter the first date (YYYY-MM-DD): \")\n",
    "date2_input = input(\"Enter the second date (YYYY-MM-DD): \")\n",
    "\n",
    "# Convert input strings to datetime objects\n",
    "date1 = pd.to_datetime(date1_input)\n",
    "date2 = pd.to_datetime(date2_input)\n",
    "\n",
    "# Calculate the time difference using Timedelta\n",
    "time_difference = date2 - date1\n",
    "\n",
    "# Extract days, hours, and minutes from the time difference\n",
    "days_difference = time_difference.days\n",
    "hours_difference = time_difference.seconds // 3600  # 3600 seconds in an hour\n",
    "minutes_difference = (time_difference.seconds % 3600) // 60  # 60 seconds in a minute\n",
    "\n",
    "# Display the result\n",
    "print(f\"Difference between the two dates:\")\n",
    "print(f\"Days: {days_difference}\")\n",
    "print(f\"Hours: {hours_difference}\")\n",
    "print(f\"Minutes: {minutes_difference}\")\n"
   ]
  },
  {
   "cell_type": "markdown",
   "id": "abee75ae-8f76-4c68-9df3-8bb7537e0763",
   "metadata": {},
   "source": [
    "Q9. Write a Python program that reads a CSV file containing categorical data and converts a specified\n",
    "column to a categorical data type. The program should prompt the user to enter the file path, column\n",
    "name, and category order, and then display the sorted data."
   ]
  },
  {
   "cell_type": "code",
   "execution_count": null,
   "id": "7bb71b34-5536-437b-93e1-0af1ee5f762d",
   "metadata": {},
   "outputs": [],
   "source": [
    "import pandas as pd\n",
    "\n",
    "# Get the file path from the user\n",
    "file_path = input(\"Enter the path to the CSV file: \")\n",
    "\n",
    "# Read the CSV file\n",
    "df = pd.read_csv(file_path)\n",
    "\n",
    "# Display available column names to the user\n",
    "print(\"Available columns in the CSV file:\")\n",
    "print(', '.join(df.columns))\n",
    "\n",
    "# Get the column name and category order from the user\n",
    "column_name = input(\"Enter the column name to convert to categorical: \")\n",
    "category_order = input(\"Enter the desired category order (comma-separated): \").split(',')\n",
    "\n",
    "# Convert the specified column to categorical\n",
    "df[column_name] = pd.Categorical(df[column_name], categories=category_order, ordered=True)\n",
    "\n",
    "# Sort the DataFrame based on the categorical column\n",
    "sorted_df = df.sort_values(by=column_name)\n",
    "\n",
    "# Display the sorted data\n",
    "print(\"\\nSorted Data:\")\n",
    "print(sorted_df)\n"
   ]
  },
  {
   "cell_type": "markdown",
   "id": "33078365-13e6-4c57-88dd-19609d762c6e",
   "metadata": {},
   "source": [
    "Q10. Write a Python program that reads a CSV file containing sales data for different products and\n",
    "visualizes the data using a stacked bar chart to show the sales of each product category over time. The\n",
    "program should prompt the user to enter the file path and display the chart."
   ]
  },
  {
   "cell_type": "code",
   "execution_count": 11,
   "id": "932410cc-b5ad-4ede-afde-ed0cf4bfc479",
   "metadata": {},
   "outputs": [
    {
     "name": "stdout",
     "output_type": "stream",
     "text": [
      "CSV file 'sales_data.csv' has been created.\n"
     ]
    }
   ],
   "source": [
    "import csv\n",
    "\n",
    "data = [\n",
    "    [\"Date\", \"Product\", \"Sales\"],\n",
    "    [\"2023-08-01\", \"Product A\", 500],\n",
    "    [\"2023-08-01\", \"Product B\", 750],\n",
    "    [\"2023-08-01\", \"Product C\", 300],\n",
    "    [\"2023-08-02\", \"Product A\", 600],\n",
    "    [\"2023-08-02\", \"Product B\", 800],\n",
    "    [\"2023-08-02\", \"Product C\", 400],\n",
    "    [\"2023-08-03\", \"Product A\", 550],\n",
    "    [\"2023-08-03\", \"Product B\", 700],\n",
    "    [\"2023-08-03\", \"Product C\", 350],\n",
    "]\n",
    "\n",
    "file_path = \"sales_data.csv\"\n",
    "\n",
    "with open(file_path, mode=\"w\", newline=\"\") as file:\n",
    "    writer = csv.writer(file)\n",
    "    writer.writerows(data)\n",
    "\n",
    "print(f\"CSV file '{file_path}' has been created.\")\n"
   ]
  },
  {
   "cell_type": "code",
   "execution_count": null,
   "id": "56063b05-39b9-4136-8175-22bbd45689d4",
   "metadata": {},
   "outputs": [],
   "source": [
    "import pandas as pd\n",
    "import matplotlib.pyplot as plt\n",
    "\n",
    "# Get the file path from the user\n",
    "file_path = input(\"Enter the path to the CSV file: \")\n",
    "\n",
    "# Read the CSV file\n",
    "df = pd.read_csv(file_path)\n",
    "\n",
    "# Ensure the 'Date' column is in datetime format\n",
    "df['Date'] = pd.to_datetime(df['Date'])\n",
    "\n",
    "# Group the data by 'Date' and 'Category', and sum the sales\n",
    "grouped_df = df.groupby(['Date', 'Category'])['Sales'].sum().reset_index()\n",
    "\n",
    "# Pivot the data for plotting\n",
    "pivot_df = grouped_df.pivot(index='Date', columns='Category', values='Sales')\n",
    "\n",
    "# Plotting the stacked bar chart\n",
    "pivot_df.plot(kind='bar', stacked=True, figsize=(10, 6))\n",
    "plt.title('Sales of Product Categories Over Time')\n",
    "plt.xlabel('Date')\n",
    "plt.ylabel('Sales')\n",
    "plt.legend(title='Category')\n",
    "plt.show()\n"
   ]
  },
  {
   "cell_type": "markdown",
   "id": "c424e9a5-1c1f-4819-a817-359b6083558e",
   "metadata": {},
   "source": [
    "Q11. You are given a CSV file containing student data that includes the student ID and their test score. Write\n",
    "a Python program that reads the CSV file, calculates the mean, median, and mode of the test scores, and\n",
    "displays the results in a table.\n",
    "The program should do the followingM\n",
    "I Prompt the user to enter the file path of the CSV file containing the student dataR\n",
    "I Read the CSV file into a Pandas DataFrameR\n",
    "I Calculate the mean, median, and mode of the test scores using Pandas toolsR\n",
    "I Display the mean, median, and mode in a table."
   ]
  },
  {
   "cell_type": "code",
   "execution_count": 3,
   "id": "04034bb2-765d-49d3-9db8-9d17a3ab4996",
   "metadata": {},
   "outputs": [
    {
     "name": "stdout",
     "output_type": "stream",
     "text": [
      "CSV file 'student_data.csv' has been created.\n"
     ]
    }
   ],
   "source": [
    "import csv\n",
    "\n",
    "data = [\n",
    "    [\"Student ID\", \"Test Score\"],\n",
    "    [1, 85],\n",
    "    [2, 90],\n",
    "    [3, 80],\n",
    "    [4, 75],\n",
    "    [5, 85],\n",
    "    [6, 82],\n",
    "    [7, 78],\n",
    "    [8, 85],\n",
    "    [9, 90],\n",
    "    [10, 85]\n",
    "]\n",
    "\n",
    "file_path = \"student_data.csv\"\n",
    "\n",
    "with open(file_path, mode=\"w\", newline=\"\") as file:\n",
    "    writer = csv.writer(file)\n",
    "    writer.writerows(data)\n",
    "\n",
    "print(f\"CSV file '{file_path}' has been created.\")\n"
   ]
  },
  {
   "cell_type": "markdown",
   "id": "89356c54-e7d9-4ac1-88b3-4608d629a1ee",
   "metadata": {},
   "source": []
  },
  {
   "cell_type": "code",
   "execution_count": 10,
   "id": "99e183d9-d6ba-4069-8e90-8e37b1055197",
   "metadata": {},
   "outputs": [
    {
     "name": "stdin",
     "output_type": "stream",
     "text": [
      "Enter the path to the CSV file:  student_data.csv\n"
     ]
    },
    {
     "name": "stdout",
     "output_type": "stream",
     "text": [
      "  Statistic  Test Score\n",
      "0      Mean        83.5\n",
      "1    Median        85.0\n",
      "2      Mode        85.0\n"
     ]
    }
   ],
   "source": [
    "import pandas as pd\n",
    "\n",
    "# Get the file path from the user\n",
    "file_path = input(\"Enter the path to the CSV file: \")\n",
    "\n",
    "# Read the CSV file into a DataFrame\n",
    "df = pd.read_csv(file_path)\n",
    "\n",
    "# Calculate mean, median, and mode of the test scores\n",
    "mean_score = df['Test Score'].mean()\n",
    "median_score = df['Test Score'].median()\n",
    "mode_score = df['Test Score'].mode().values[0]  # Mode can have multiple values, we pick the first one\n",
    "\n",
    "# Create a summary DataFrame\n",
    "summary_data = {'Statistic': ['Mean', 'Median', 'Mode'],\n",
    "                'Test Score': [mean_score, median_score, mode_score]}\n",
    "summary_df = pd.DataFrame(summary_data)\n",
    "\n",
    "# Display the summary table\n",
    "print(summary_df)\n"
   ]
  },
  {
   "cell_type": "code",
   "execution_count": null,
   "id": "594cd3bd-4bf2-4020-ac39-b515e6537fbb",
   "metadata": {},
   "outputs": [],
   "source": []
  }
 ],
 "metadata": {
  "kernelspec": {
   "display_name": "Python 3 (ipykernel)",
   "language": "python",
   "name": "python3"
  },
  "language_info": {
   "codemirror_mode": {
    "name": "ipython",
    "version": 3
   },
   "file_extension": ".py",
   "mimetype": "text/x-python",
   "name": "python",
   "nbconvert_exporter": "python",
   "pygments_lexer": "ipython3",
   "version": "3.10.8"
  }
 },
 "nbformat": 4,
 "nbformat_minor": 5
}
