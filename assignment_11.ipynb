{
 "cells": [
  {
   "cell_type": "markdown",
   "id": "ca890725-b33d-482f-a57c-b8642fe6048d",
   "metadata": {},
   "source": [
    "Q1. What is multiprocessing in python? Why is it useful?"
   ]
  },
  {
   "cell_type": "markdown",
   "id": "b2069927-1840-4a75-8b64-7744bc01cfa7",
   "metadata": {},
   "source": [
    "Ans: Multiprocessing in Python refers to the ability of the language to execute multiple processes or tasks concurrently. It allows you to utilize multiple CPU cores or processors to execute tasks in parallel, thereby improving the overall performance and efficiency of your program.\n",
    "\n",
    "Python's multiprocessing module provides a way to create and manage multiple processes, each with its own separate memory space. This allows for true parallelism, where multiple tasks can be executed simultaneously. Here are some key reasons why multiprocessing is useful:\n",
    "\n",
    "1) Increased performance: By leveraging multiple CPU cores, multiprocessing allows you to distribute the workload across them, resulting in faster execution times. It is particularly beneficial for CPU-bound tasks that can be parallelized, such as mathematical computations or data processing.\n",
    "\n",
    "2) Efficient resource utilization: Multiprocessing enables efficient utilization of system resources, especially in multi-core or multi-processor environments. It maximizes the available computing power by running tasks concurrently, thereby making better use of the hardware capabilities.\n",
    "\n",
    "3) Improved responsiveness: In certain cases, using multiprocessing can enhance the responsiveness of an application. For example, if you have a long-running task that blocks the main thread, using multiprocessing can ensure that the user interface remains responsive while the task runs in the background.\n",
    "\n",
    "4) Simplified programming model: Python's multiprocessing module provides a high-level interface for working with processes. It abstracts away many low-level details, making it easier to write parallel code compared to lower-level threading or concurrent programming.\n",
    "\n",
    "5) Isolation and fault tolerance: Each process created using multiprocessing has its own separate memory space, which ensures isolation between them. If one process encounters an error or crashes, it does not affect the other processes, providing better fault tolerance and stability.\n"
   ]
  },
  {
   "cell_type": "markdown",
   "id": "942fdf33-defd-4a7e-9177-e6ebe2b6fc12",
   "metadata": {},
   "source": [
    "Q2. What are the differences between multiprocessing and multithreading?"
   ]
  },
  {
   "cell_type": "markdown",
   "id": "48bdd367-71a4-433c-af76-f6f3581a017f",
   "metadata": {},
   "source": [
    "Ans: Multiprocessing and multithreading are two different approaches to achieve concurrency in programming. Here are the key differences between them:\n",
    "\n",
    "> Execution model: In multiprocessing, multiple processes are created, each with its own memory space and execution context. Each process runs independently and can execute tasks in parallel on different CPU cores. In multithreading, multiple threads are created within a single process. All threads share the same memory space and can execute tasks concurrently. However, due to the Global Interpreter Lock (GIL) in CPython, only one thread can execute Python bytecode at a time, limiting true parallelism.\n",
    "\n",
    "> Memory and data sharing: In multiprocessing, each process has its own memory space, which means data needs to be explicitly shared between processes using mechanisms like inter-process communication (IPC), such as pipes, queues, or shared memory. In multithreading, all threads within a process share the same memory space, making it easier to share data between threads. However, caution must be exercised to ensure proper synchronization and avoid race conditions when multiple threads access and modify shared data simultaneously.\n",
    "\n",
    "> Scalability: Multiprocessing can achieve true parallelism by utilizing multiple CPU cores, making it suitable for CPU-bound tasks that can be parallelized. As each process has its own memory space, multiprocessing can scale well across multiple cores or processors. On the other hand, due to the GIL, multithreading in CPython is more suitable for I/O-bound tasks where the threads can perform other operations while waiting for I/O operations to complete. However, in cases where the GIL is not a bottleneck, or when using alternative Python implementations like Jython or IronPython that do not have the GIL, multithreading can also be used for CPU-bound tasks.\n",
    "\n",
    "> Complexity: Multithreading is generally considered more complex than multiprocessing due to the shared memory space and the need for proper synchronization mechanisms. Synchronization primitives like locks, mutexes, and condition variables are often required to coordinate access to shared resources and avoid race conditions. Multiprocessing, on the other hand, provides isolation between processes, reducing the complexity of handling shared data.\n",
    "\n",
    "> Fault tolerance: In multiprocessing, if one process encounters an error or crashes, it does not affect the other processes. This provides better fault tolerance and stability. In multithreading, if one thread encounters an unhandled exception or crashes, it can potentially bring down the entire process, affecting all threads.\n"
   ]
  },
  {
   "cell_type": "markdown",
   "id": "c1d5a5bb-9391-45a6-bf20-8f81fabb23d7",
   "metadata": {},
   "source": [
    "Q3. Write a python code to create a process using the multiprocessing module."
   ]
  },
  {
   "cell_type": "code",
   "execution_count": 2,
   "id": "5da3c387-294c-40f2-b857-b565b03ac7b5",
   "metadata": {},
   "outputs": [
    {
     "name": "stderr",
     "output_type": "stream",
     "text": [
      "INFO:root:Process executing..\n",
      "INFO:root:main prgm\n"
     ]
    }
   ],
   "source": [
    "import multiprocessing\n",
    "import logging\n",
    "\n",
    "def fun():\n",
    "    \"\"\"Fx to be executed\"\"\"\n",
    "    logging.info(\"Process executing..\")\n",
    "if __name__=='__main__':\n",
    "    logging.basicConfig(level=logging.INFO)\n",
    "    p=multiprocessing.Process(target=fun)\n",
    "    p.start()\n",
    "    p.join()\n",
    "    logging.info(\"main prgm\")\n"
   ]
  },
  {
   "cell_type": "markdown",
   "id": "bd858672-fba7-4007-a538-ce213890ab10",
   "metadata": {},
   "source": [
    "Q4. What is a multiprocessing pool in python? Why is it used?"
   ]
  },
  {
   "cell_type": "markdown",
   "id": "f75cf9f8-06b7-4db1-904b-85d2780c70ca",
   "metadata": {},
   "source": [
    "Ans: A multiprocessing pool in Python refers to a mechanism provided by the multiprocessing module that allows you to create a pool of worker processes to execute tasks concurrently. It provides a convenient way to distribute a large number of tasks across multiple processes and efficiently utilize available system resources.\n",
    "\n",
    "The multiprocessing pool allows you to parallelize the execution of a large number of tasks across multiple processes, making efficient use of available CPU cores or processors. It simplifies the process of distributing tasks, managing worker processes, and collecting the results. It is particularly useful for CPU-bound tasks where parallel processing can significantly speed up the execution."
   ]
  },
  {
   "cell_type": "markdown",
   "id": "00e2f9a1-01fa-4d4b-b8c0-49bab788e540",
   "metadata": {},
   "source": [
    "Q5. How can we create a pool of worker processes in python using the multiprocessing module?"
   ]
  },
  {
   "cell_type": "markdown",
   "id": "6f64f66f-9016-4cf3-8dbe-02796a62cac7",
   "metadata": {},
   "source": [
    "Ans: The multiprocessing.Pool class is used to create a pool of worker processes. \n",
    "Ex:"
   ]
  },
  {
   "cell_type": "code",
   "execution_count": 3,
   "id": "57db8cca-0852-4a22-9c30-bb08cd163f43",
   "metadata": {},
   "outputs": [
    {
     "name": "stderr",
     "output_type": "stream",
     "text": [
      "INFO:root:Processed task: 1\n",
      "INFO:root:Processed task: 2\n",
      "INFO:root:Processed task: 4\n",
      "INFO:root:Processed task: 3\n",
      "INFO:root:Processed task: 5\n",
      "INFO:root:Results: [2, 4, 6, 8, 10]\n"
     ]
    }
   ],
   "source": [
    "import multiprocessing\n",
    "import logging\n",
    "\n",
    "def worker(task):\n",
    "    \"\"\"Function to be executed by the worker processes\"\"\"\n",
    "    result = task * 2\n",
    "    logging.info(\"Processed task: %s\", task)\n",
    "    return result\n",
    "\n",
    "if __name__ == '__main__':\n",
    "    # Configure logging\n",
    "    logging.basicConfig(level=logging.INFO)\n",
    "\n",
    "    # Create a multiprocessing pool with 4 worker processes\n",
    "    pool = multiprocessing.Pool(processes=4)\n",
    "\n",
    "    # Define a list of tasks\n",
    "    tasks = [1, 2, 3, 4, 5]\n",
    "\n",
    "    # Apply the worker function to the tasks using the pool\n",
    "    results = pool.map(worker, tasks)\n",
    "\n",
    "    # Close the pool and wait for the worker processes to finish\n",
    "    pool.close()\n",
    "    pool.join()\n",
    "\n",
    "    logging.info(\"Results: %s\", results)\n"
   ]
  },
  {
   "cell_type": "markdown",
   "id": "b8ca1525-3d16-420b-949e-39db32885c06",
   "metadata": {},
   "source": [
    "Q6. Write a python program to create 4 processes, each process should print a different number using the multiprocessing module in python."
   ]
  },
  {
   "cell_type": "code",
   "execution_count": 4,
   "id": "ec27f6fa-2ec5-4c35-9ff1-5a159651acec",
   "metadata": {},
   "outputs": [
    {
     "name": "stderr",
     "output_type": "stream",
     "text": [
      "INFO:root:1\n",
      "INFO:root:2\n",
      "INFO:root:3\n",
      "INFO:root:4\n"
     ]
    }
   ],
   "source": [
    "import multiprocessing\n",
    "import logging\n",
    "\n",
    "def print_number(number):\n",
    "    \"\"\"Function to be executed by the process\"\"\"\n",
    "    logging.info(number)\n",
    "\n",
    "if __name__ == '__main__':\n",
    "    # Configure logging\n",
    "    logging.basicConfig(level=logging.INFO)\n",
    "\n",
    "    # Create a list of numbers\n",
    "    numbers = [1, 2, 3, 4]\n",
    "\n",
    "    # Create a list to store the processes\n",
    "    processes = []\n",
    "\n",
    "    # Create and start a process for each number\n",
    "    for number in numbers:\n",
    "        process = multiprocessing.Process(target=print_number, args=(number,))\n",
    "        process.start()\n",
    "        processes.append(process)\n",
    "\n",
    "    # Wait for all processes to finish\n",
    "    for process in processes:\n",
    "        process.join()\n"
   ]
  }
 ],
 "metadata": {
  "kernelspec": {
   "display_name": "Python 3 (ipykernel)",
   "language": "python",
   "name": "python3"
  },
  "language_info": {
   "codemirror_mode": {
    "name": "ipython",
    "version": 3
   },
   "file_extension": ".py",
   "mimetype": "text/x-python",
   "name": "python",
   "nbconvert_exporter": "python",
   "pygments_lexer": "ipython3",
   "version": "3.10.8"
  }
 },
 "nbformat": 4,
 "nbformat_minor": 5
}
