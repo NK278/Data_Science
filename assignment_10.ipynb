{
 "cells": [
  {
   "cell_type": "markdown",
   "id": "baefe632-69d5-48f4-8750-d9290863a2ac",
   "metadata": {},
   "source": [
    "Q1). What is multithreading in python? why is it used? Name the module used to handle threads in python"
   ]
  },
  {
   "cell_type": "markdown",
   "id": "c5b32e23-b948-49be-a669-2e4b72d4a7ad",
   "metadata": {},
   "source": [
    "Ans: Multithreading in Python refers to the ability of a program to concurrently execute multiple threads of execution within a single process. A thread is a lightweight unit of execution that can run independently and share the same memory space as other threads within a process.\n",
    "\n",
    "Multithreading is used in Python to achieve parallelism, where multiple tasks or operations can be executed simultaneously, improving the overall performance and responsiveness of the program. By dividing a program into multiple threads, different parts of the code can run concurrently, allowing for efficient utilization of available system resources, such as CPU cores.\n",
    "\n",
    "Multithreading is particularly useful in scenarios where a program has tasks that can run independently, such as I/O-bound operations, network requests, or computationally expensive tasks that can be parallelized. By using multiple threads, these tasks can execute concurrently, enabling better utilization of system resources and potentially reducing the overall execution time.\n",
    "\n",
    "In Python, the threading module is commonly used to handle threads. It provides a high-level interface for creating, managing, and synchronizing threads. The threading module allows you to define and start new threads, synchronize their execution, and handle communication and coordination between threads. It provides various constructs, such as locks, conditions, semaphores, and events, to facilitate thread synchronization and communication."
   ]
  },
  {
   "cell_type": "markdown",
   "id": "c7006a08-cc04-4c86-a27a-3f81d7f9c0a1",
   "metadata": {},
   "source": [
    "Q2). Why threading module used? Write the use of the following functions:\n",
    " 1)activeCount()\n",
    " 2)currentThread()\n",
    " 3)enumerate()"
   ]
  },
  {
   "cell_type": "markdown",
   "id": "2aaa78b2-49cd-47e3-a375-a68f1fc1f2b7",
   "metadata": {},
   "source": [
    "Ans: The threading module in Python is used for achieving concurrency and parallelism in programs. It allows multiple threads to run simultaneously within a single process, improving performance and responsiveness. It is useful for handling independent tasks, performing I/O operations, and executing computationally intensive tasks. The module provides synchronization primitives for coordinating threads, ensuring data integrity, and facilitating communication between them. Overall, threading enables efficient utilization of system resources and enhances code modularity and organization.\n",
    "\n",
    "1) activeCount():\n",
    "The activeCount() function is a method provided by the threading module in Python. It is used to retrieve the current number of active Thread objects in the program.\n",
    "Ex:"
   ]
  },
  {
   "cell_type": "code",
   "execution_count": 4,
   "id": "32ea503d-e671-4491-9171-6bf594dc915a",
   "metadata": {},
   "outputs": [
    {
     "name": "stderr",
     "output_type": "stream",
     "text": [
      "[DEBUG] nishchal\n",
      "[DEBUG] nishchal\n",
      "/tmp/ipykernel_84/2289147797.py:13: DeprecationWarning: activeCount() is deprecated, use active_count() instead\n",
      "  num_active_threads = threading.activeCount()\n",
      "[DEBUG] nishchal\n",
      "[DEBUG] nishchal\n",
      "[DEBUG] nishchal\n",
      "[INFO] Number of active threads: 11\n"
     ]
    }
   ],
   "source": [
    "import threading\n",
    "import logging\n",
    "\n",
    "logging.basicConfig(level=logging.DEBUG, format='[%(levelname)s] %(message)s')\n",
    "l=logging.getLogger()\n",
    "def fun():\n",
    "    l.debug(\"nishchal\")\n",
    "threads = []\n",
    "for _ in range(5):\n",
    "    thread = threading.Thread(target=fun)\n",
    "    threads.append(thread)\n",
    "    thread.start()\n",
    "num_active_threads = threading.activeCount()\n",
    "\n",
    "l.info(\"Number of active threads: %d\", num_active_threads)"
   ]
  },
  {
   "cell_type": "markdown",
   "id": "4a24c069-287f-4101-b2aa-bbab69b9025e",
   "metadata": {},
   "source": [
    "2) currentThread():\n",
    "The currentThread() function is a method provided by the threading module in Python. It is used to retrieve the current Thread object representing the thread in which the function is called.\n",
    "Ex:"
   ]
  },
  {
   "cell_type": "code",
   "execution_count": 5,
   "id": "4dce721f-70dc-4058-b8fd-62f2efc6e36f",
   "metadata": {},
   "outputs": [
    {
     "name": "stderr",
     "output_type": "stream",
     "text": [
      "/tmp/ipykernel_84/1765777936.py:7: DeprecationWarning: currentThread() is deprecated, use current_thread() instead\n",
      "  current_thread = threading.currentThread()\n",
      "/tmp/ipykernel_84/1765777936.py:8: DeprecationWarning: getName() is deprecated, get the name attribute instead\n",
      "  l.debug(\"Current thread: %s\", current_thread.getName())\n",
      "[DEBUG] Current thread: Thread-20 (my_f)\n"
     ]
    }
   ],
   "source": [
    "import threading\n",
    "import logging\n",
    "\n",
    "logging.basicConfig(level=logging.DEBUG, format='[%(levelname)s] %(message)s')\n",
    "l=logging.getLogger()\n",
    "def my_f():\n",
    "    current_thread = threading.currentThread()\n",
    "    l.debug(\"Current thread: %s\", current_thread.getName())\n",
    "thread=threading.Thread(target=my_f)\n",
    "thread.start()\n",
    "thread.join()\n"
   ]
  },
  {
   "cell_type": "markdown",
   "id": "eb1126f6-9663-4794-9ee5-660b521ac93f",
   "metadata": {},
   "source": [
    "3) enumerate():\n",
    "The enumerate() function in Python is a built-in function used to iterate over a sequence while simultaneously tracking the index of each item in the sequence. It returns an iterator of tuples containing both the index and the corresponding item from the iterable."
   ]
  },
  {
   "cell_type": "code",
   "execution_count": 6,
   "id": "d9aeafa4-6cef-4ca7-b401-a136c2423aab",
   "metadata": {},
   "outputs": [
    {
     "name": "stderr",
     "output_type": "stream",
     "text": [
      "[DEBUG] Index: 0, Fruit: apple\n",
      "[DEBUG] Index: 1, Fruit: banana\n",
      "[DEBUG] Index: 2, Fruit: orange\n"
     ]
    }
   ],
   "source": [
    "import logging\n",
    "\n",
    "logging.basicConfig(level=logging.DEBUG, format='[%(levelname)s] %(message)s')\n",
    "\n",
    "\n",
    "logger = logging.getLogger()\n",
    "\n",
    "fruits = ['apple', 'banana', 'orange']\n",
    "\n",
    "for index, fruit in enumerate(fruits):\n",
    "    logger.debug(\"Index: %d, Fruit: %s\", index, fruit)\n"
   ]
  },
  {
   "cell_type": "markdown",
   "id": "fd9c2752-e2e7-43fa-a425-a530e9c60876",
   "metadata": {},
   "source": [
    "Q3. Explain the following functions\n",
    "1)run()\n",
    " 2)start()\n",
    " 3)join()\n",
    " 4)isAlive()"
   ]
  },
  {
   "cell_type": "markdown",
   "id": "16987348-8da6-464e-9210-b8140fc59ae9",
   "metadata": {},
   "source": [
    "Ans:\n",
    "1) run():\n",
    "The run() function is a method provided by the Thread class in the threading module of Python. It represents the entry point or the main body of code that will be executed when a thread is started.\n",
    "\n",
    "1)Thread Creation: To use the run() function, you need to create a subclass of the Thread class and override the run() method. This subclass serves as a blueprint for creating individual thread objects.\n",
    "\n",
    "2)Method Override: In the subclass, you override the run() method with your custom code that defines the behavior of the thread. This code will be executed when the thread is started.\n",
    "\n",
    "3)Thread Execution: When you create an instance of the subclass and call the start() method, it internally calls the overridden run() method. The run() method contains the logic you defined, and it will be executed in the newly created thread.\n",
    "\n",
    "4)Concurrent Execution: If you create multiple instances of the subclass and start them, each thread will have its own separate execution of the run() method. These threads can run concurrently, performing their designated tasks simultaneously or in an interleaved manner.\n",
    "\n",
    "Ex:\n"
   ]
  },
  {
   "cell_type": "code",
   "execution_count": 7,
   "id": "24cf6069-93b3-4ade-bf50-943140297173",
   "metadata": {},
   "outputs": [
    {
     "name": "stderr",
     "output_type": "stream",
     "text": [
      "[DEBUG] Thread executing...\n"
     ]
    }
   ],
   "source": [
    "import threading\n",
    "import logging\n",
    "\n",
    "logging.basicConfig(level=logging.DEBUG, format='[%(levelname)s] %(message)s')\n",
    "\n",
    "logger = logging.getLogger()\n",
    "\n",
    "class MyThread(threading.Thread):\n",
    "    def run(self):\n",
    "       \n",
    "        logger.debug(\"Thread executing...\")\n",
    "\n",
    "\n",
    "thread = MyThread()\n",
    "thread.start()\n"
   ]
  },
  {
   "cell_type": "markdown",
   "id": "653305da-0479-45ff-b3b1-b3e7e3cf5272",
   "metadata": {},
   "source": [
    "2) start():\n",
    "The start() function is a method provided by the Thread class in the threading module of Python. It is used to start the execution of a thread by invoking its run() method in a separate thread of control.\n",
    "\n",
    "1)Thread Creation: Before calling the start() function, you need to create an instance of the Thread class or its subclass. This thread object represents a separate thread of execution.\n",
    "\n",
    "2)Thread Initialization: Once you have the thread object, you can call the start() function on it. This function prepares the necessary resources and internal structures for the thread to run.\n",
    "\n",
    "3)Thread Execution: After calling start(), the thread's run() method is automatically invoked. The run() method contains the main body of code that will be executed in the separate thread.\n",
    "\n",
    "4)Concurrent Execution: When a thread is started using start(), it runs concurrently with the main thread and any other active threads. This concurrency allows multiple threads to execute their code simultaneously or in an interleaved manner, depending on the system's scheduling.\n",
    "\n",
    "Ex:\n"
   ]
  },
  {
   "cell_type": "code",
   "execution_count": 8,
   "id": "b88a958c-4a1b-44f7-b715-68065d9d8db8",
   "metadata": {},
   "outputs": [
    {
     "name": "stderr",
     "output_type": "stream",
     "text": [
      "[DEBUG] Thread executing...\n"
     ]
    }
   ],
   "source": [
    "import threading\n",
    "import logging\n",
    "\n",
    "\n",
    "logging.basicConfig(level=logging.DEBUG, format='[%(levelname)s] %(message)s')\n",
    "\n",
    "\n",
    "logger = logging.getLogger()\n",
    "\n",
    "def my_function():\n",
    "    \n",
    "    logger.debug(\"Thread executing...\")\n",
    "\n",
    "\n",
    "thread = threading.Thread(target=my_function)\n",
    "thread.start()\n"
   ]
  },
  {
   "cell_type": "markdown",
   "id": "01d768f7-9491-4411-974b-e1b4c067eec8",
   "metadata": {},
   "source": [
    "3) join():\n",
    "The join() function is a method provided by the Thread class in the threading module of Python. It is used to block the execution of the calling thread until the thread it is called on completes its execution.\n",
    "\n",
    "1)Thread Creation: Before calling the join() function, you need to create an instance of the Thread class or its subclass. This thread object represents a separate thread of execution.\n",
    "\n",
    "2)Thread Execution: After starting the thread using the start() function, it begins executing its code concurrently with other active threads. The join() function is typically called on the thread object from the main thread or any other thread that needs to wait for the completion of the target thread.\n",
    "\n",
    "3)Blocking Behavior: When the join() function is called, the calling thread will be blocked and put in a waiting state until the target thread completes its execution. This means that the program flow of the calling thread will be paused until the target thread finishes.\n",
    "\n",
    "4)Thread Completion: Once the target thread finishes its execution, the calling thread that was waiting on the join() call will resume its execution. It continues from the point immediately after the join() call.\n",
    "\n",
    "Ex:"
   ]
  },
  {
   "cell_type": "code",
   "execution_count": 11,
   "id": "0dfbf8ca-73a7-49d8-ad5b-bd237235b20a",
   "metadata": {},
   "outputs": [
    {
     "name": "stderr",
     "output_type": "stream",
     "text": [
      "[DEBUG] Thread executing...\n",
      "[DEBUG] Thread execution completed\n"
     ]
    }
   ],
   "source": [
    "import threading\n",
    "import logging\n",
    "\n",
    "logging.basicConfig(level=logging.DEBUG, format='[%(levelname)s] %(message)s')\n",
    "\n",
    "logger = logging.getLogger()\n",
    "\n",
    "def my_function():\n",
    "    \n",
    "    logger.debug(\"Thread executing...\")\n",
    "\n",
    "\n",
    "thread = threading.Thread(target=my_function)\n",
    "thread.start()\n",
    "\n",
    "\n",
    "thread.join()\n",
    "\n",
    "logger.debug(\"Thread execution completed\")\n"
   ]
  },
  {
   "cell_type": "markdown",
   "id": "1b19fbba-cc5a-4538-9c56-ccbb3b81e295",
   "metadata": {},
   "source": [
    "4) isAlive():\n",
    "The isAlive() function is a method provided by the Thread class in the threading module of Python. It is used to check whether a thread is currently executing or has completed its execution.\n",
    "\n",
    "1)hread Creation: Before calling the isAlive() function, you need to create an instance of the Thread class or its subclass. This thread object represents a separate thread of execution.\n",
    "\n",
    "2)Thread Execution: After starting the thread using the start() function, it begins executing its code concurrently with other active threads. The isAlive() function allows you to determine the current execution status of the thread.\n",
    "\n",
    "3)ecution Status: When you call the isAlive() function on a thread object, it returns True if the thread is still executing. It returns False if the thread has completed its execution or has not yet been started.\n",
    "Ex:"
   ]
  },
  {
   "cell_type": "code",
   "execution_count": 13,
   "id": "81f01bd6-4a1e-4a78-a87c-cb8630717d93",
   "metadata": {},
   "outputs": [
    {
     "name": "stderr",
     "output_type": "stream",
     "text": [
      "[DEBUG] Thread executing...\n",
      "[DEBUG] Thread is still executing\n"
     ]
    }
   ],
   "source": [
    "import threading\n",
    "import logging\n",
    "\n",
    "\n",
    "logging.basicConfig(level=logging.DEBUG, format='[%(levelname)s] %(message)s')\n",
    "\n",
    "\n",
    "logger = logging.getLogger()\n",
    "\n",
    "def my_function():\n",
    "    \n",
    "    logger.debug(\"Thread executing...\")\n",
    "\n",
    "\n",
    "thread = threading.Thread(target=my_function)\n",
    "thread.start()\n",
    "\n",
    "\n",
    "if thread.is_alive():\n",
    "    logger.debug(\"Thread is still executing\")\n",
    "else:\n",
    "    logger.debug(\"Thread has completed its execution\")\n"
   ]
  },
  {
   "cell_type": "markdown",
   "id": "df663cf0-db24-4b3f-99c3-4cc3df16fcb3",
   "metadata": {},
   "source": [
    "Q4.Write a python program to create two threads. Thread one must print the list of squares and thread\n",
    "two must print the list of cubes"
   ]
  },
  {
   "cell_type": "code",
   "execution_count": 1,
   "id": "330bb1b4-0e1c-4081-b956-65cc58b86649",
   "metadata": {},
   "outputs": [
    {
     "name": "stdin",
     "output_type": "stream",
     "text": [
      "Enter numbers: 1 2 3 4 5 6\n"
     ]
    },
    {
     "name": "stderr",
     "output_type": "stream",
     "text": [
      "[DEBUG] square of 1=1\n",
      "[DEBUG] cube of 1=1\n",
      "[DEBUG] square of 2=4\n",
      "[DEBUG] cube of 2=8\n",
      "[DEBUG] square of 3=9\n",
      "[DEBUG] square of 4=16\n",
      "[DEBUG] cube of 3=27\n",
      "[DEBUG] square of 5=25\n",
      "[DEBUG] cube of 4=64\n",
      "[DEBUG] square of 6=36\n",
      "[DEBUG] cube of 5=125\n",
      "[DEBUG] cube of 6=216\n",
      "[DEBUG] Tread execution completed...\n"
     ]
    }
   ],
   "source": [
    "import threading\n",
    "import logging\n",
    "\n",
    "logging.basicConfig(level=logging.DEBUG, format='[%(levelname)s] %(message)s')\n",
    "\n",
    "logger = logging.getLogger()\n",
    "def square(l):\n",
    "    for n in l:\n",
    "        s=n**2\n",
    "        logger.debug(f\"square of {n}={s}\")\n",
    "def cube(l):\n",
    "    for n in l:\n",
    "        s=n**3\n",
    "        logger.debug(f\"cube of {n}={s}\")\n",
    "input_=input(\"Enter numbers:\")\n",
    "l=[int(n) for n in input_.split()]\n",
    "# for squares\n",
    "thread1=threading.Thread(target=square,args=(l,))\n",
    "thread1.start()\n",
    "# for cubes\n",
    "thread2=threading.Thread(target=cube,args=(l,))\n",
    "thread2.start()\n",
    "\n",
    "thread1.join()\n",
    "thread2.join()\n",
    "\n",
    "logger.debug(\"Tread execution completed...\")"
   ]
  },
  {
   "cell_type": "markdown",
   "id": "e0f9e36f-e543-432c-9fe9-25613355f3e5",
   "metadata": {},
   "source": [
    "Q5 State advantages and disadvantages of multithreading"
   ]
  },
  {
   "cell_type": "markdown",
   "id": "c6e05b07-f4ba-4a1b-ab3e-f445752a7495",
   "metadata": {},
   "source": [
    "Ans:\n",
    "Advantages of Multithreading:\n",
    "1)Concurrency: Multithreading allows multiple tasks to run concurrently, improving overall system efficiency by utilizing available resources effectively. It enables parallel execution of independent or loosely coupled tasks, resulting in increased throughput and faster response times.\n",
    "\n",
    "2)Responsiveness: Multithreading enhances the responsiveness of applications by keeping the user interface (UI) thread or critical operations responsive while performing background tasks. This prevents the application from becoming unresponsive or freezing during lengthy operations.\n",
    "\n",
    "3)Resource Sharing: Threads within a process share the same memory space, allowing them to share data and resources more efficiently compared to separate processes. This facilitates communication and data exchange between threads, reducing the need for complex inter-process communication mechanisms.\n",
    "\n",
    "4)Efficient Utilization of CPU: Multithreading takes advantage of multi-core CPUs and can distribute the workload across available cores. This maximizes CPU utilization and improves overall system performance.\n",
    "\n",
    "Disadvantages of Multithreading:\n",
    "1)Complexity: Multithreaded programming can be challenging and complex due to the need for synchronization and coordination between threads. Issues like race conditions, deadlocks, and thread safety need to be carefully handled, which can increase the complexity of development and debugging.\n",
    "\n",
    "2)Synchronization Overhead: When multiple threads access shared resources concurrently, synchronization mechanisms like locks, mutexes, or semaphores are required to prevent data corruption or inconsistent results. These synchronization mechanisms introduce overhead and can impact performance.\n",
    "\n",
    "3)Debugging and Testing: Identifying and resolving issues in multithreaded applications can be more challenging than in single-threaded ones. Debugging and testing multithreaded code require careful consideration of thread interactions, timing issues, and possible race conditions.\n",
    "\n",
    "4)Increased Memory Usage: Each thread requires its own stack space, which can lead to increased memory consumption. If a large number of threads are created, it can strain the system's memory resources.\n",
    "\n",
    "5)Complex Program Design: Designing a multithreaded program requires careful consideration of thread interactions, task decomposition, and load balancing. The program's structure and logic need to be designed with thread safety and efficient synchronization in mind."
   ]
  },
  {
   "cell_type": "markdown",
   "id": "bd68b8b5-6278-41f3-a217-9e39e32dce41",
   "metadata": {},
   "source": [
    "Q6. Explain deadlocks and race conditions."
   ]
  },
  {
   "cell_type": "markdown",
   "id": "545b0ac9-ff45-4353-924f-cfc60224394e",
   "metadata": {},
   "source": [
    "Ans:\n",
    "Deadlock:\n",
    " A deadlock occurs when two or more threads or processes are blocked indefinitely, waiting for each other to release resources that they hold. In a deadlock situation, none of the involved threads can proceed, resulting in a system-wide halt. Deadlocks typically occur due to the following four conditions, known as the Coffman conditions:\n",
    ">Mutual Exclusion: Resources involved in the deadlock can only be held by one thread or process at a time.\n",
    ">Hold and Wait: A thread/process holds a resource and waits for additional resources that are currently held by other threads/processes.\n",
    ">No Preemption: Resources cannot be forcibly taken away from threads/processes; they can only be released voluntarily.\n",
    ">Circular Wait: There exists a circular chain of threads/processes, where each is waiting for a resource held by the next thread/process in the chain.\n",
    "\n",
    "Deadlocks are complex to debug and can lead to system failures or performance degradation. To prevent deadlocks, techniques like resource ordering, deadlock detection, and deadlock avoidance strategies can be employed.\n",
    "\n",
    "Race Condition:\n",
    "A race condition occurs when multiple threads or processes access shared data or resources concurrently, and the final outcome of the program depends on the relative timing or interleaving of their operations. In other words, the result of the program becomes unpredictable because the order of execution of concurrent operations is not deterministic.\n",
    "\n",
    "Race conditions typically arise when threads or processes perform read-modify-write operations on shared data without proper synchronization. If proper synchronization mechanisms, such as locks or mutexes, are not used to control access to shared resources, race conditions can lead to data corruption, inconsistent state, or incorrect program behavior.\n",
    "\n",
    "Race conditions can be challenging to reproduce and debug, as they often depend on specific timing and thread scheduling. To avoid race conditions, synchronization techniques like locks, semaphores, or atomic operations should be employed to ensure exclusive access or proper coordination of shared resources.\n"
   ]
  }
 ],
 "metadata": {
  "kernelspec": {
   "display_name": "Python 3 (ipykernel)",
   "language": "python",
   "name": "python3"
  },
  "language_info": {
   "codemirror_mode": {
    "name": "ipython",
    "version": 3
   },
   "file_extension": ".py",
   "mimetype": "text/x-python",
   "name": "python",
   "nbconvert_exporter": "python",
   "pygments_lexer": "ipython3",
   "version": "3.10.8"
  }
 },
 "nbformat": 4,
 "nbformat_minor": 5
}
