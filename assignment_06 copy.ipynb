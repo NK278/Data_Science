{
 "cells": [
  {
   "cell_type": "markdown",
   "id": "18bf75d5-0ec8-4045-9238-191937420e08",
   "metadata": {},
   "source": [
    "Q1. Explain Class and Object with respect to Object-Oriented Programming. Give a suitable example."
   ]
  },
  {
   "cell_type": "markdown",
   "id": "6a685d86-f755-4d50-85d4-481a2a57237e",
   "metadata": {},
   "source": [
    "Ans: In object-oriented programming (OOP), a class is a blueprint or template for creating objects. It defines the common properties and behaviors that objects of that class will possess. An object, on the other hand, is an instance of a class. It represents a specific entity or concept that can be manipulated and interacted with in the program.\n",
    "Eg:"
   ]
  },
  {
   "cell_type": "code",
   "execution_count": 8,
   "id": "c45ff453-35a6-4119-ae0a-effb00e3118d",
   "metadata": {},
   "outputs": [],
   "source": [
    "\n",
    "class identity:\n",
    "    def __init__(self,name,idno):\n",
    "        self.__name=name\n",
    "        self.__idno=idno\n",
    "    def set_name(self,name):\n",
    "        self.__name=name\n",
    "    def get_name(self):\n",
    "        print(self.__name)\n",
    "    def set_id(self,idno):\n",
    "        self.__idno=idno\n",
    "    def get_id(self):\n",
    "        print(self.__idno)  "
   ]
  },
  {
   "cell_type": "code",
   "execution_count": 3,
   "id": "86d5b5cb-892e-4005-b7d3-b737a2b92f8d",
   "metadata": {},
   "outputs": [
    {
     "name": "stdout",
     "output_type": "stream",
     "text": [
      "Niteen\n"
     ]
    }
   ],
   "source": [
    "n=identity(\"Niteen\",2022336)\n",
    "n.get_name()"
   ]
  },
  {
   "cell_type": "markdown",
   "id": "bbe1a9f3-86a6-49ee-bb72-2e3b28a71c07",
   "metadata": {},
   "source": [
    "Q2. Name the four pillars of OOPs."
   ]
  },
  {
   "cell_type": "markdown",
   "id": "a238c917-e31a-42af-b713-f6ee24574b9c",
   "metadata": {},
   "source": [
    "Ans:Encapsulation\n",
    "Inheritance\n",
    "Polymorphism\n",
    "Abstraction"
   ]
  },
  {
   "cell_type": "markdown",
   "id": "6bde907a-49d0-4bc1-b0d0-90e491b6d2ed",
   "metadata": {},
   "source": [
    "Q3. Explain why the __init__() function is used. Give a suitable example."
   ]
  },
  {
   "cell_type": "markdown",
   "id": "bf611faf-3434-4a0e-b933-70ec0f1099e9",
   "metadata": {},
   "source": [
    "Ans:The __init__() function, also known as the constructor, is a special method in Python classes. It is automatically called when an object of a class is created. The primary purpose of the __init__() function is to initialize the attributes of the object with the provided values or default values."
   ]
  },
  {
   "cell_type": "markdown",
   "id": "a39bf55b-01ad-4eb9-a969-6758d89996c7",
   "metadata": {},
   "source": [
    "Q4. Why self is used in OOPs?"
   ]
  },
  {
   "cell_type": "markdown",
   "id": "287b3fea-fb09-4852-8042-04024cc37657",
   "metadata": {},
   "source": [
    "Ans: n object-oriented programming (OOP), self is a conventionally used parameter name that refers to the instance of a class. It acts as a reference to the current object that is being operated on. The purpose of self is to differentiate between the instance variables and methods of the object and variables or parameters that are local to a specific method.\n",
    "\n",
    "When a method is called on an object, the object itself is automatically passed as the first argument to that method. By convention, this first parameter is named self. It allows the method to access and manipulate the object's attributes and invoke other methods associated with that object.\n",
    "\n"
   ]
  },
  {
   "cell_type": "markdown",
   "id": "78ca1410-7a56-4480-adbb-36eeb50b64e4",
   "metadata": {},
   "source": [
    "Q5. What is inheritance? Give an example for each type of inheritance."
   ]
  },
  {
   "cell_type": "markdown",
   "id": "fa22a71b-dc15-4d9a-b647-2ce602cf1612",
   "metadata": {},
   "source": [
    "Ans: Inheritance is the process of creating a new class (derived class) from an existing class (base class) by inheriting its properties and behaviors. The derived class inherits the attributes and methods of the base class, allowing code reuse and promoting the concept of hierarchy. It facilitates the implementation of the \"is-a\" relationship, where a derived class can be considered as a specialized version of the base class."
   ]
  },
  {
   "cell_type": "code",
   "execution_count": null,
   "id": "3cbe2ddf-e457-4a2f-9199-777b19d5d17d",
   "metadata": {},
   "outputs": [],
   "source": []
  }
 ],
 "metadata": {
  "kernelspec": {
   "display_name": "Python 3 (ipykernel)",
   "language": "python",
   "name": "python3"
  },
  "language_info": {
   "codemirror_mode": {
    "name": "ipython",
    "version": 3
   },
   "file_extension": ".py",
   "mimetype": "text/x-python",
   "name": "python",
   "nbconvert_exporter": "python",
   "pygments_lexer": "ipython3",
   "version": "3.10.8"
  }
 },
 "nbformat": 4,
 "nbformat_minor": 5
}
