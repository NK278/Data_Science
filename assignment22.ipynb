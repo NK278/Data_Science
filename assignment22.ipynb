{
 "cells": [
  {
   "cell_type": "code",
   "execution_count": 1,
   "id": "3c82c666-3bec-4320-94eb-9bbb28047fbf",
   "metadata": {},
   "outputs": [],
   "source": [
    "import numpy as np\n",
    "list_ = [ '1' , '2' , '3' , '4' , '5' ]\n",
    "array_list = np.array(object = list_)"
   ]
  },
  {
   "cell_type": "markdown",
   "id": "ea5da842-6633-41c5-b5d1-3cbcfcb90bc2",
   "metadata": {},
   "source": [
    "Q1. Is there any difference in the data type of variables list_ and array_list? If there is then write a code\n",
    "to print the data types of both the variables."
   ]
  },
  {
   "cell_type": "markdown",
   "id": "89eb6510-489b-4294-89c3-c1020c836e0e",
   "metadata": {},
   "source": [
    "Ans: list_ is a Python list containing string elements.\n",
    "array_list is a NumPy array created from the list_, but since all elements are strings, the data type of the array will be set to a common data type that can accommodate all the elements, which is dtype='<U1' (a Unicode string of length 1)."
   ]
  },
  {
   "cell_type": "code",
   "execution_count": 2,
   "id": "8d966872-4ae7-497f-a10c-1f3897baffe7",
   "metadata": {},
   "outputs": [
    {
     "name": "stdout",
     "output_type": "stream",
     "text": [
      "dtype of list_: <class 'list'>\n",
      "dtype of array_list: <U1\n"
     ]
    }
   ],
   "source": [
    "print(f'dtype of list_: {type(list_)}')\n",
    "print(f'dtype of array_list: {array_list.dtype}')"
   ]
  },
  {
   "cell_type": "markdown",
   "id": "1c68241d-9433-4311-b017-98871d092803",
   "metadata": {},
   "source": [
    "Q2. Write a code to print the data type of each and every element of both the variables list_ and\n",
    "arra_list."
   ]
  },
  {
   "cell_type": "code",
   "execution_count": 3,
   "id": "c237834e-8518-4e50-9f7b-5347d1c359dc",
   "metadata": {},
   "outputs": [
    {
     "name": "stdout",
     "output_type": "stream",
     "text": [
      "<class 'str'>\n",
      "<class 'str'>\n",
      "<class 'str'>\n",
      "<class 'str'>\n",
      "<class 'str'>\n"
     ]
    }
   ],
   "source": [
    "for ele in list_:\n",
    "    print(type(ele))"
   ]
  },
  {
   "cell_type": "code",
   "execution_count": 4,
   "id": "f8115f89-08c5-42d1-a7bd-3719742e3889",
   "metadata": {},
   "outputs": [
    {
     "name": "stdout",
     "output_type": "stream",
     "text": [
      "<class 'numpy.str_'>\n",
      "<class 'numpy.str_'>\n",
      "<class 'numpy.str_'>\n",
      "<class 'numpy.str_'>\n",
      "<class 'numpy.str_'>\n"
     ]
    }
   ],
   "source": [
    "for ele in array_list:\n",
    "    print(type(ele))"
   ]
  },
  {
   "cell_type": "markdown",
   "id": "f556dca1-b26a-4ded-a488-a02d3fda7f3f",
   "metadata": {},
   "source": [
    "Q3. Considering the following changes in the variable, array_list:\n",
    "array_list = np.array(object = list_, dtype = int)\n",
    "Will there be any difference in the data type of the elements present in both the variables, list_ and\n",
    "arra_list? If so then print the data types of each and every element present in both the variables, list_\n",
    "and arra_list."
   ]
  },
  {
   "cell_type": "markdown",
   "id": "f0b4ffeb-2ed4-4f10-a008-3f50d07686cd",
   "metadata": {},
   "source": [
    "Ans:Yes, there will be a difference in the data type of elements in the list_ variable and the array_list variable after the change you've mentioned. In the updated code, you're converting the elements from strings to integers by specifying the dtype as int."
   ]
  },
  {
   "cell_type": "code",
   "execution_count": 5,
   "id": "a11ad4d3-ee4f-4664-a5a7-59a7c08f5275",
   "metadata": {},
   "outputs": [
    {
     "name": "stdout",
     "output_type": "stream",
     "text": [
      "Data types of elements in list_:\n",
      "<class 'str'>\n",
      "<class 'str'>\n",
      "<class 'str'>\n",
      "<class 'str'>\n",
      "<class 'str'>\n",
      "\n",
      "Data types of elements in updated array_list:\n",
      "<class 'numpy.int64'>\n",
      "<class 'numpy.int64'>\n",
      "<class 'numpy.int64'>\n",
      "<class 'numpy.int64'>\n",
      "<class 'numpy.int64'>\n"
     ]
    }
   ],
   "source": [
    "array_list = np.array(object=list_, dtype=int)\n",
    "\n",
    "print(\"Data types of elements in list_:\")\n",
    "for element in list_:\n",
    "    print(type(element))\n",
    "\n",
    "print(\"\\nData types of elements in updated array_list:\")\n",
    "for element in array_list:\n",
    "    print(type(element))"
   ]
  },
  {
   "cell_type": "code",
   "execution_count": 6,
   "id": "12fae801-d16f-4bae-b619-6186dd5fb0db",
   "metadata": {},
   "outputs": [],
   "source": [
    "import numpy as np\n",
    "num_list = [ [ 1 , 2 , 3 ] , [ 4 , 5 , 6 ] ]\n",
    "num_array = np.array(object = num_list)"
   ]
  },
  {
   "cell_type": "markdown",
   "id": "21b421f5-0237-476d-912b-570cfd9fa1c4",
   "metadata": {},
   "source": [
    "Q4. Write a code to find the following characteristics of variable, num_array:\n",
    "(i) shape\n",
    "(ii) size"
   ]
  },
  {
   "cell_type": "code",
   "execution_count": 7,
   "id": "c32e8ff9-4e25-46fc-800c-86681a1665b4",
   "metadata": {},
   "outputs": [
    {
     "name": "stdout",
     "output_type": "stream",
     "text": [
      "shape:(2, 3)\n",
      "shize:6\n"
     ]
    }
   ],
   "source": [
    "print(f'shape:{num_array.shape}')\n",
    "print(f'shize:{num_array.size}')"
   ]
  },
  {
   "cell_type": "markdown",
   "id": "6b9ca4e7-1c0b-404d-a46d-1a58024f220d",
   "metadata": {},
   "source": [
    "Q5. Write a code to create numpy array of 3*3 matrix containing zeros only, using a numpy array\n",
    "creation function."
   ]
  },
  {
   "cell_type": "code",
   "execution_count": 8,
   "id": "613c1f79-e906-4a36-82e8-d58e820736d6",
   "metadata": {},
   "outputs": [
    {
     "name": "stdout",
     "output_type": "stream",
     "text": [
      "[[0. 0. 0.]\n",
      " [0. 0. 0.]\n",
      " [0. 0. 0.]]\n"
     ]
    }
   ],
   "source": [
    "z_arr=np.zeros((3,3))\n",
    "print(z_arr)"
   ]
  },
  {
   "cell_type": "markdown",
   "id": "282c540f-130e-44b5-816b-e1db04e1029b",
   "metadata": {},
   "source": [
    "Q6. Create an identity matrix of shape (5,5) using numpy functions?"
   ]
  },
  {
   "cell_type": "code",
   "execution_count": 9,
   "id": "c46658ff-e053-4a46-a8f1-37bf43f27857",
   "metadata": {},
   "outputs": [
    {
     "name": "stdout",
     "output_type": "stream",
     "text": [
      "[[1. 0. 0. 0. 0.]\n",
      " [0. 1. 0. 0. 0.]\n",
      " [0. 0. 1. 0. 0.]\n",
      " [0. 0. 0. 1. 0.]\n",
      " [0. 0. 0. 0. 1.]]\n"
     ]
    }
   ],
   "source": [
    "i_mat=np.eye(5)\n",
    "print(i_mat)"
   ]
  }
 ],
 "metadata": {
  "kernelspec": {
   "display_name": "Python 3 (ipykernel)",
   "language": "python",
   "name": "python3"
  },
  "language_info": {
   "codemirror_mode": {
    "name": "ipython",
    "version": 3
   },
   "file_extension": ".py",
   "mimetype": "text/x-python",
   "name": "python",
   "nbconvert_exporter": "python",
   "pygments_lexer": "ipython3",
   "version": "3.10.8"
  }
 },
 "nbformat": 4,
 "nbformat_minor": 5
}
