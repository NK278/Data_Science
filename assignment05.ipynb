{
 "cells": [
  {
   "cell_type": "markdown",
   "id": "de6136ce-815e-4519-b439-b07522f6e428",
   "metadata": {},
   "source": [
    "Q1, Create a vehicle class with an init method having instance variables as name_of_vehicle, max_speed\n",
    "and average_of_vehicle."
   ]
  },
  {
   "cell_type": "code",
   "execution_count": 10,
   "id": "7e63bd20-9861-4243-bfd7-4f8b5da1b3ea",
   "metadata": {},
   "outputs": [],
   "source": [
    "class Vehicle:\n",
    "    def __init__(self,name_of_vehicle,max_speed,avg_vehicle):\n",
    "        self.__name_v=name_of_vehicle\n",
    "        self.__max_s=max_speed\n",
    "        self.__avg_v=avg_vehicle\n",
    "    def get_n_v(self):\n",
    "        return self.__name_v\n",
    "    def get_mx_s(self):\n",
    "        return self.__max_s\n",
    "    def get_a_v(self):\n",
    "        return self.__avg_v"
   ]
  },
  {
   "cell_type": "code",
   "execution_count": 11,
   "id": "2300d32c-e8b5-4439-a590-a0be4a729ae4",
   "metadata": {},
   "outputs": [
    {
     "name": "stdout",
     "output_type": "stream",
     "text": [
      "Name: car\n",
      "Max Speed: 200\n",
      "Average Speed: 60\n",
      "\n",
      "Name: ship\n",
      "Max Speed: 180\n",
      "Average Speed: 80\n",
      "\n",
      "Name: jet\n",
      "Max Speed: 150\n",
      "Average Speed: 50\n",
      "\n"
     ]
    }
   ],
   "source": [
    "vehicles = [\n",
    "    Vehicle(\"car\", 200, 60),\n",
    "    Vehicle(\"ship\", 180, 80),\n",
    "    Vehicle(\"jet\", 150, 50)\n",
    "]\n",
    "for vehicle in vehicles:\n",
    "    print(\"Name:\", vehicle.get_n_v())\n",
    "    print(\"Max Speed:\", vehicle.get_mx_s())\n",
    "    print(\"Average Speed:\", vehicle.get_a_v())\n",
    "    print()"
   ]
  },
  {
   "cell_type": "markdown",
   "id": "bf26886c-54aa-4ed8-b9e6-443f3691a3e5",
   "metadata": {},
   "source": [
    "Q2. Create a child class car from the vehicle class created in Que 1, which will inherit the vehicle class.\n",
    "Create a method named seating_capacity which takes capacity as an argument and returns the name of\n",
    "the vehicle and its seating capacity."
   ]
  },
  {
   "cell_type": "code",
   "execution_count": 20,
   "id": "125b251f-30b5-4ce8-9709-715f9d4ee7a8",
   "metadata": {},
   "outputs": [],
   "source": [
    "class Car(Vehicle):\n",
    "    def __init__(self, name_of_vehicle, max_speed, avg_vehicle):\n",
    "        super().__init__(name_of_vehicle, max_speed, avg_vehicle)\n",
    "    def seatin_capacity(self,seating_cap):\n",
    "        return f\"{self.get_n_v()} - Seating Capacity: {seating_cap}\""
   ]
  },
  {
   "cell_type": "code",
   "execution_count": 21,
   "id": "5d417a09-2d1a-4a20-99ed-6a589a178157",
   "metadata": {},
   "outputs": [
    {
     "name": "stdout",
     "output_type": "stream",
     "text": [
      "BMW - Seating Capacity: 2\n",
      "Tesla - Seating Capacity: 2\n"
     ]
    }
   ],
   "source": [
    "c=[Car(\"BMW\",120,30),Car(\"Tesla\",200,60)]\n",
    "for i in c:\n",
    "    print(i.seatin_capacity(2))"
   ]
  },
  {
   "cell_type": "markdown",
   "id": "36cfb831-1422-467c-bff7-2181b4d3f566",
   "metadata": {},
   "source": [
    "Q3. What is multiple inheritance? Write a python code to demonstrate multiple inheritance."
   ]
  },
  {
   "cell_type": "markdown",
   "id": "09941e23-e3c3-4264-b770-54a80c55b137",
   "metadata": {},
   "source": [
    "Ans: Multiple inheritance is a feature in object-oriented programming where a class can inherit attributes and methods from multiple parent classes. It allows a subclass to inherit characteristics from more than one base class, thereby incorporating multiple sources of functionality into a single class."
   ]
  },
  {
   "cell_type": "code",
   "execution_count": 22,
   "id": "b3b826e2-695d-4cc1-aa57-77d25e57d8fa",
   "metadata": {},
   "outputs": [],
   "source": [
    "class cl1:\n",
    "    def t1(self):\n",
    "        return \"cl1\"\n",
    "class cl2:\n",
    "    def t2(self):\n",
    "        return \"cl2\"\n",
    "class cl3(cl1,cl2):\n",
    "    pass"
   ]
  },
  {
   "cell_type": "code",
   "execution_count": 23,
   "id": "eb92273f-c119-476f-946c-df4b091ca1e5",
   "metadata": {},
   "outputs": [
    {
     "name": "stdout",
     "output_type": "stream",
     "text": [
      "cl1\n",
      "cl2\n"
     ]
    }
   ],
   "source": [
    "d=cl3()\n",
    "print(d.t1())\n",
    "print(d.t2())"
   ]
  },
  {
   "cell_type": "markdown",
   "id": "7e489357-c32c-4b8d-8556-5d9c3d1ff0ab",
   "metadata": {},
   "source": [
    "Q4. What are getter and setter in python? Create a class and create a getter and a setter method in this\n",
    "class."
   ]
  },
  {
   "cell_type": "markdown",
   "id": "09c1ec26-395d-4a7f-8f16-fa8118e4c8d8",
   "metadata": {},
   "source": [
    "Ans:In Python, getter and setter methods are used to access and modify the attributes of a class. They provide an interface for accessing and updating the values of private or protected attributes, allowing better control over the encapsulation of data.\n",
    "\n",
    "A getter method is used to retrieve the value of an attribute, while a setter method is used to set or modify the value of an attribute. These methods provide a level of abstraction, allowing us to perform additional logic or validation when getting or setting attribute values."
   ]
  },
  {
   "cell_type": "code",
   "execution_count": 24,
   "id": "bae8ddc6-2633-4837-84e1-7dd30c727f25",
   "metadata": {},
   "outputs": [],
   "source": [
    "class car2:\n",
    "    def __init__(self,yr,mk,model,speed):\n",
    "        self.__yr=yr\n",
    "        self.__mk=mk\n",
    "        self.__model=model \n",
    "        self.__speed=speed\n",
    "    def set_s(self,speed):\n",
    "        self.__speed=0 if speed<0 else speed\n",
    "    def get_s(self):\n",
    "        return self.__speed"
   ]
  },
  {
   "cell_type": "code",
   "execution_count": 26,
   "id": "c1eabcf7-3a3b-4860-9321-70221693d0c8",
   "metadata": {},
   "outputs": [
    {
     "data": {
      "text/plain": [
       "0"
      ]
     },
     "execution_count": 26,
     "metadata": {},
     "output_type": "execute_result"
    }
   ],
   "source": [
    "c1=car2(2021,\"Tesla\",\"78hy\",45)\n",
    "c1.set_s(-6577)\n",
    "c1.get_s()"
   ]
  },
  {
   "cell_type": "code",
   "execution_count": 27,
   "id": "83ac9fd2-07fd-48be-ba66-fc5924e4808b",
   "metadata": {},
   "outputs": [
    {
     "data": {
      "text/plain": [
       "34"
      ]
     },
     "execution_count": 27,
     "metadata": {},
     "output_type": "execute_result"
    }
   ],
   "source": [
    "c1.set_s(34)\n",
    "c1.get_s()"
   ]
  },
  {
   "cell_type": "markdown",
   "id": "7c34fe02-4b30-4cd5-9f22-729b9a610963",
   "metadata": {},
   "source": [
    "Q5.What is method overriding in python? Write a python code to demonstrate method overriding."
   ]
  },
  {
   "cell_type": "markdown",
   "id": "2d5d4d16-28c1-4b74-bcb1-89b8d29c2aff",
   "metadata": {},
   "source": [
    "Ans: Method overriding is a concept in object-oriented programming where a subclass provides its own implementation of a method that is already defined in its parent class. It allows the subclass to change the behavior of the inherited method to suit its specific requirements.\n",
    "\n",
    "In Python, method overriding is achieved by defining a method with the same name in the subclass as the one present in the parent class. When an instance of the subclass calls the overridden method, the subclass's implementation will be executed instead of the parent class's implementation."
   ]
  },
  {
   "cell_type": "code",
   "execution_count": null,
   "id": "ccf56d5e-4e6b-4a63-a98c-939f2188bb61",
   "metadata": {},
   "outputs": [],
   "source": []
  }
 ],
 "metadata": {
  "kernelspec": {
   "display_name": "Python 3 (ipykernel)",
   "language": "python",
   "name": "python3"
  },
  "language_info": {
   "codemirror_mode": {
    "name": "ipython",
    "version": 3
   },
   "file_extension": ".py",
   "mimetype": "text/x-python",
   "name": "python",
   "nbconvert_exporter": "python",
   "pygments_lexer": "ipython3",
   "version": "3.10.8"
  }
 },
 "nbformat": 4,
 "nbformat_minor": 5
}
