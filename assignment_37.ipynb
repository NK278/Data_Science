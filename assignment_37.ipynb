{
 "cells": [
  {
   "cell_type": "markdown",
   "id": "38e22245-3028-4d5d-81c8-661123db96ea",
   "metadata": {},
   "source": [
    "Q1: What is the difference between a t-test and a z-test? Provide an example scenario where you would\n",
    "use each type of test."
   ]
  },
  {
   "cell_type": "markdown",
   "id": "00835dec-4a9a-4f74-95cf-431afa128681",
   "metadata": {},
   "source": [
    "Ans: The main difference between a t-test and a z-test lies in the information available about the population variance. Here's a brief overview:\n",
    "\n",
    "1. **T-test:**\n",
    "   - **When to use:** Use a t-test when the sample size is small, and the population standard deviation is unknown. T-tests are often used when dealing with smaller sample sizes and situations where the population variance is not known.\n",
    "   - **Example Scenario:** Suppose you want to compare the average scores of two groups of students (Group A and Group B) on a test. You collect samples from each group, and since you don't know the population standard deviation, you use a t-test to compare the means of the two groups.\n",
    "\n",
    "2. **Z-test:**\n",
    "   - **When to use:** Use a z-test when the sample size is large, and the population standard deviation is known. Z-tests are more suitable for larger sample sizes and situations where the population variance is known.\n",
    "   - **Example Scenario:** Consider a situation where you have a large dataset of exam scores for a population, and you know the population standard deviation. If you want to test whether the average exam score is significantly different from a certain value, you might use a z-test.\n",
    "\n",
    "In summary, choose a t-test when dealing with smaller sample sizes and unknown population variances, and opt for a z-test when dealing with larger sample sizes and known population variances."
   ]
  },
  {
   "cell_type": "markdown",
   "id": "4cd449da-e292-4001-b217-753bc3d53f15",
   "metadata": {},
   "source": [
    "Q2: Differentiate between one-tailed and two-tailed tests."
   ]
  },
  {
   "cell_type": "markdown",
   "id": "2d09bcef-e961-4894-8926-5832b85be76d",
   "metadata": {},
   "source": [
    "Ans: The distinction between one-tailed and two-tailed tests is related to the directionality of the hypothesis and the area considered in the tail(s) of the distribution when conducting hypothesis testing. Here's a breakdown of the differences:\n",
    "\n",
    "1. **One-Tailed Test:**\n",
    "   - **Hypothesis:** In a one-tailed test, the null hypothesis (H0) and the alternative hypothesis (H1) are concerned with the direction of the effect (greater than or less than) but not both.\n",
    "   - **Critical Region:** The critical region is located entirely in one tail of the distribution (either the left or right).\n",
    "   - **Decision Rule:** If the test statistic falls into the critical region, you reject the null hypothesis. The decision is based on evidence favoring the direction specified in the alternative hypothesis.\n",
    "   - **Example:** Testing whether a new drug increases the average performance on a cognitive task compared to a placebo.\n",
    "\n",
    "2. **Two-Tailed Test:**\n",
    "   - **Hypothesis:** In a two-tailed test, the null hypothesis (H0) usually states that there is no effect, and the alternative hypothesis (H1) typically asserts that there is an effect, without specifying the direction (either greater than or less than).\n",
    "   - **Critical Region:** The critical region is divided between both tails of the distribution.\n",
    "   - **Decision Rule:** If the test statistic falls into either tail, you reject the null hypothesis. The decision is based on evidence that the sample result is significantly different from what is expected under the null hypothesis, without specifying the direction of the difference.\n",
    "   - **Example:** Testing whether a coin is fair (null: probability of heads = 0.5) or biased (alternative: probability of heads is not equal to 0.5).\n",
    "\n",
    "In summary, one-tailed tests are used when you have a specific hypothesis about the direction of the effect, while two-tailed tests are more conservative and used when you are interested in detecting any significant difference, regardless of the direction."
   ]
  },
  {
   "cell_type": "markdown",
   "id": "15dfaf76-20f6-40dd-b7ce-5cd86a871a69",
   "metadata": {},
   "source": [
    "Q3: Explain the concept of Type 1 and Type 2 errors in hypothesis testing. Provide an example scenario for\n",
    "each type of error."
   ]
  },
  {
   "cell_type": "markdown",
   "id": "8b032bef-ef62-4f60-a11c-430802a49faf",
   "metadata": {},
   "source": [
    "Ans: **Type I and Type II errors** are potential mistakes made in hypothesis testing:\n",
    "\n",
    "1. **Type I Error (False Positive):**\n",
    "   - **Definition:** Rejecting a true null hypothesis. It occurs when you conclude that there is an effect or difference when there isn't one.\n",
    "   - **Example Scenario:** Imagine a pharmaceutical company testing a new drug. The null hypothesis is that the drug has no side effects, but due to random variability or an experimental error, the test incorrectly concludes that there are significant side effects, leading to the drug being rejected even though it is safe.\n",
    "\n",
    "2. **Type II Error (False Negative):**\n",
    "   - **Definition:** Failing to reject a false null hypothesis. It occurs when you conclude that there is no effect or difference when there actually is one.\n",
    "   - **Example Scenario:** Continuing with the drug example, the null hypothesis now states that the drug has no side effects, but in reality, it does have side effects. If the test fails to detect these side effects, it would be a Type II error. Patients might use the drug thinking it's safe, but they experience side effects that were not identified by the test.\n",
    "\n",
    "In summary, Type I errors involve incorrectly concluding that an effect exists when it doesn't, while Type II errors involve failing to detect a real effect. The balance between Type I and Type II errors is often controlled by choosing an appropriate significance level (alpha) and considering the power of the test. Researchers aim to minimize both types of errors, but there is typically a trade-off between them."
   ]
  },
  {
   "cell_type": "markdown",
   "id": "991b1a36-0b57-43e4-a31a-90e1ae0b93a0",
   "metadata": {},
   "source": [
    "Q4: Explain Bayes's theorem with an example."
   ]
  },
  {
   "cell_type": "markdown",
   "id": "9998a1a2-c09e-4466-a90e-f8b1de952b2f",
   "metadata": {},
   "source": [
    "Ans: **Bayes' Theorem** is a mathematical formula used in probability theory to update the probability of a hypothesis based on new evidence. It is named after the Reverend Thomas Bayes. The formula is as follows:\n",
    "\n",
    "\\[ P(A|B) = \\frac{P(B|A) \\cdot P(A)}{P(B)} \\]\n",
    "\n",
    "Where:\n",
    "- \\( P(A|B) \\) is the probability of hypothesis A given evidence B.\n",
    "- \\( P(B|A) \\) is the probability of evidence B given hypothesis A.\n",
    "- \\( P(A) \\) is the prior probability of hypothesis A.\n",
    "- \\( P(B) \\) is the probability of evidence B.\n",
    "\n",
    "Let's go through an example to illustrate Bayes' Theorem:\n",
    "\n",
    "**Example: Medical Diagnosis**\n",
    "Suppose there's a rare disease that affects 1 in 1000 people (\\( P(A) = 0.001 \\)). There's also a medical test for this disease that is 99% accurate (\\( P(B|A) = 0.99 \\)) but has a 1% false positive rate (\\( P(B|\\neg A) = 0.01 \\), where \\( \\neg A \\) represents not having the disease).\n",
    "\n",
    "Now, let's say a person takes the test and it comes back positive (\\( B \\)). We want to find the probability that the person actually has the disease (\\( A \\)).\n",
    "\n",
    "1. **Prior Probability (\\( P(A) \\)):** The initial probability of having the disease is 0.001.\n",
    "\n",
    "2. **Likelihood (\\( P(B|A) \\)):** The probability of getting a positive test result given that the person has the disease is 0.99.\n",
    "\n",
    "3. **Evidence Probability (\\( P(B) \\)):** The probability of getting a positive test result can occur either because the person has the disease or because of a false positive.\n",
    "\n",
    "\\[ P(B) = P(B|A) \\cdot P(A) + P(B|\\neg A) \\cdot P(\\neg A) \\]\n",
    "\\[ P(B) = (0.99 \\cdot 0.001) + (0.01 \\cdot 0.999) \\]\n",
    "\n",
    "4. **Posterior Probability (\\( P(A|B) \\)):** Using Bayes' Theorem to find the updated probability of having the disease given the positive test result.\n",
    "\n",
    "\\[ P(A|B) = \\frac{P(B|A) \\cdot P(A)}{P(B)} \\]\n",
    "\n",
    "Plug in the values to get the updated probability.\n",
    "\n",
    "This example demonstrates how Bayes' Theorem can be used to update the probability of a hypothesis (having the disease) based on new evidence (positive test result)."
   ]
  },
  {
   "cell_type": "markdown",
   "id": "71ebfb2d-7a3b-4ed7-8cdc-21c4b7fd1385",
   "metadata": {},
   "source": [
    "Q5: What is a confidence interval? How to calculate the confidence interval, explain with an example."
   ]
  },
  {
   "cell_type": "markdown",
   "id": "ce38770b-7ce7-40c4-90fb-0ec515e06c90",
   "metadata": {},
   "source": [
    "Ans: A **confidence interval** is a statistical tool used to estimate a range of values within which the true population parameter is likely to fall with a certain level of confidence. It provides a range rather than a single point estimate, acknowledging the uncertainty inherent in statistical sampling.\n",
    "\n",
    "The general form of a confidence interval is:\n",
    "\n",
    "\\[ \\text{Point Estimate} \\pm \\text{Margin of Error} \\]\n",
    "\n",
    "where the margin of error is influenced by the desired level of confidence and the variability in the data.\n",
    "\n",
    "To calculate a confidence interval, you typically follow these steps:\n",
    "\n",
    "1. **Determine the Point Estimate:** Calculate the sample mean or proportion, depending on the parameter of interest.\n",
    "\n",
    "2. **Select the Confidence Level:** Choose a confidence level, often expressed as a percentage (e.g., 95%, 99%).\n",
    "\n",
    "3. **Determine the Critical Value:** Find the z-score or t-score corresponding to the chosen confidence level. This value is based on the normal distribution for large sample sizes or the t-distribution for smaller sample sizes.\n",
    "\n",
    "4. **Calculate the Margin of Error:** Multiply the standard error of the sample mean or proportion by the critical value to determine the margin of error.\n",
    "\n",
    "5. **Construct the Confidence Interval:** Combine the point estimate and the margin of error to establish the interval.\n",
    "\n",
    "Here's an example of calculating a confidence interval for the mean:\n",
    "\n",
    "**Example: Confidence Interval for Mean Height**\n",
    "\n",
    "Suppose you want to estimate the average height of a population. You collect a random sample of 30 individuals and find that the sample mean height is 65 inches, with a standard deviation of 3 inches. You want to calculate a 95% confidence interval for the true average height.\n",
    "\n",
    "1. **Point Estimate:** Sample Mean (\\( \\bar{X} \\)) = 65 inches.\n",
    "\n",
    "2. **Confidence Level:** 95%.\n",
    "\n",
    "3. **Critical Value:** Since the sample size is small (30), you consult the t-distribution. For a 95% confidence level with 29 degrees of freedom, the critical t-value is approximately 2.045.\n",
    "\n",
    "4. **Margin of Error:** Standard Error (\\( SE \\)) = \\( \\frac{s}{\\sqrt{n}} \\) where \\( s \\) is the sample standard deviation and \\( n \\) is the sample size. Margin of Error = \\( t \\times SE \\).\n",
    "\n",
    "\\[ SE = \\frac{3}{\\sqrt{30}} \\approx 0.546 \\]\n",
    "\n",
    "\\[ \\text{Margin of Error} = 2.045 \\times 0.546 \\approx 1.116 \\]\n",
    "\n",
    "5. **Confidence Interval:** \\( 65 \\pm 1.116 \\), which results in a confidence interval of \\( (63.884, 66.116) \\).\n",
    "\n",
    "Interpretation: With 95% confidence, we estimate that the true average height of the population lies between 63.884 inches and 66.116 inches."
   ]
  },
  {
   "cell_type": "markdown",
   "id": "7c630182-2649-45a6-8e1b-06762f983116",
   "metadata": {},
   "source": [
    "Q6. Use Bayes' Theorem to calculate the probability of an event occurring given prior knowledge of the\n",
    "event's probability and new evidence. Provide a sample problem and solution."
   ]
  },
  {
   "cell_type": "markdown",
   "id": "2708e651-c27c-44c4-ba9e-e745925b0e56",
   "metadata": {},
   "source": [
    "Ans: Problem:\n",
    "\n",
    "Suppose a factory produces widgets, and 2% of the widgets are defective. A quality control test correctly identifies 95% of defective widgets but also incorrectly identifies 3% of non-defective widgets as defective. If a randomly selected widget fails the quality control test, what is the probability that it is actually defective?"
   ]
  },
  {
   "cell_type": "code",
   "execution_count": 1,
   "id": "66a38472-e78f-4291-a588-d08a563954cf",
   "metadata": {},
   "outputs": [
    {
     "name": "stdout",
     "output_type": "stream",
     "text": [
      "The probability of a widget being defective given a positive test result is: 0.3926\n"
     ]
    }
   ],
   "source": [
    "# Given probabilities\n",
    "p_defective = 0.02  # Prior probability of a widget being defective\n",
    "p_non_defective = 1 - p_defective  # Prior probability of a widget not being defective\n",
    "\n",
    "p_positive_given_defective = 0.95  # Probability of a positive test given the widget is defective\n",
    "p_positive_given_non_defective = 0.03  # Probability of a positive test given the widget is not defective\n",
    "\n",
    "# Bayes' Theorem\n",
    "p_defective_given_positive = (p_positive_given_defective * p_defective) / (\n",
    "    (p_positive_given_defective * p_defective) + (p_positive_given_non_defective * p_non_defective)\n",
    ")\n",
    "\n",
    "# Display the result\n",
    "print(f\"The probability of a widget being defective given a positive test result is: {p_defective_given_positive:.4f}\")\n"
   ]
  },
  {
   "cell_type": "markdown",
   "id": "0cd139b3-6519-42b0-a3e0-11b34e8073de",
   "metadata": {},
   "source": [
    "Q7. Calculate the 95% confidence interval for a sample of data with a mean of 50 and a standard deviation\n",
    "of 5. Interpret the results."
   ]
  },
  {
   "cell_type": "code",
   "execution_count": 2,
   "id": "9c1ee8d0-c716-4a06-8bb1-d7625de1a624",
   "metadata": {},
   "outputs": [
    {
     "name": "stdout",
     "output_type": "stream",
     "text": [
      "95% Confidence Interval: (48.1329693162095, 51.8670306837905)\n"
     ]
    }
   ],
   "source": [
    "import scipy.stats as stats\n",
    "\n",
    "# Given data\n",
    "mean = 50\n",
    "std_dev = 5\n",
    "confidence_level = 0.95\n",
    "sample_size = 30  # You should replace this with your actual sample size\n",
    "\n",
    "# Calculate the critical value for a 95% confidence interval\n",
    "critical_value = stats.t.ppf((1 + confidence_level) / 2, df=sample_size - 1)\n",
    "\n",
    "# Calculate the margin of error\n",
    "margin_of_error = critical_value * (std_dev / (sample_size ** 0.5))\n",
    "\n",
    "# Calculate the confidence interval\n",
    "confidence_interval = (mean - margin_of_error, mean + margin_of_error)\n",
    "\n",
    "# Display the results\n",
    "print(f\"95% Confidence Interval: {confidence_interval}\")\n"
   ]
  },
  {
   "cell_type": "markdown",
   "id": "8d138e74-288f-42ee-885f-25c5b1a982d7",
   "metadata": {},
   "source": [
    "Q8. What is the margin of error in a confidence interval? How does sample size affect the margin of error?\n",
    "Provide an example of a scenario where a larger sample size would result in a smaller margin of error."
   ]
  },
  {
   "cell_type": "markdown",
   "id": "fb119fc2-a504-4ece-8359-fcb6d4b0f300",
   "metadata": {
    "tags": []
   },
   "source": [
    "Margin of Error in a Confidence Interval:\n",
    "\n",
    "The margin of error (MOE) in a confidence interval represents the range within which we expect the true population parameter to fall. It is calculated as half of the width of the confidence interval.\n",
    "\n",
    "Margin of Error (MOE)\n",
    "=\n",
    "Width of Confidence Interval\n",
    "2\n",
    "Margin of Error (MOE)= \n",
    "2\n",
    "Width of Confidence Interval\n",
    "​\t\n",
    " \n",
    "\n",
    "A larger margin of error indicates greater uncertainty and a wider range of possible values for the population parameter.\n",
    "\n",
    "Effect of Sample Size on Margin of Error:\n",
    "\n",
    "The margin of error is inversely proportional to the square root of the sample size. As the sample size increases, the margin of error decreases. Mathematically, it can be expressed as:\n",
    "\n",
    "MOE\n",
    "∝\n",
    "1\n",
    "Sample Size\n",
    "MOE∝ \n",
    "Sample Size\n",
    "​\t\n",
    " \n",
    "1\n",
    "​\t\n",
    " \n",
    "\n",
    "Example Scenario:\n",
    "\n",
    "Suppose you are conducting a political poll to estimate the percentage of voters who support a particular candidate. You want to calculate a 95% confidence interval for the true proportion of supporters. In one scenario, you survey 1000 voters, and in another scenario, you survey 5000 voters.\n",
    "\n"
   ]
  },
  {
   "cell_type": "code",
   "execution_count": 3,
   "id": "c3e4e513-fb8b-4427-9cda-f0e1cdeff0d6",
   "metadata": {},
   "outputs": [
    {
     "name": "stdout",
     "output_type": "stream",
     "text": [
      "Scenario 1 - Margin of Error: 0.03036363148515984\n",
      "Scenario 2 - Margin of Error: 0.01357902880891406\n"
     ]
    }
   ],
   "source": [
    "import scipy.stats as stats\n",
    "\n",
    "def calculate_moe(sample_size, sample_proportion, confidence_level=0.95):\n",
    "    critical_value = stats.norm.ppf((1 + confidence_level) / 2)\n",
    "    margin_of_error = critical_value * ((sample_proportion * (1 - sample_proportion)) / sample_size) ** 0.5\n",
    "    return margin_of_error\n",
    "\n",
    "# Scenario 1: Sample size = 1000\n",
    "sample_size_1 = 1000\n",
    "sample_proportion_1 = 0.6  # Assuming 60% support\n",
    "moe_1 = calculate_moe(sample_size_1, sample_proportion_1)\n",
    "\n",
    "# Scenario 2: Sample size = 5000\n",
    "sample_size_2 = 5000\n",
    "sample_proportion_2 = 0.6  # Assuming 60% support\n",
    "moe_2 = calculate_moe(sample_size_2, sample_proportion_2)\n",
    "\n",
    "print(f\"Scenario 1 - Margin of Error: {moe_1}\")\n",
    "print(f\"Scenario 2 - Margin of Error: {moe_2}\")\n"
   ]
  },
  {
   "cell_type": "markdown",
   "id": "26463d37-9dd7-4faf-a4fb-0c6deab1dc8c",
   "metadata": {},
   "source": [
    "Q9. Calculate the z-score for a data point with a value of 75, a population mean of 70, and a population\n",
    "standard deviation of 5. Interpret the results."
   ]
  },
  {
   "cell_type": "code",
   "execution_count": 4,
   "id": "528f97df-e576-4aff-b2db-6f2c93d39ef7",
   "metadata": {},
   "outputs": [
    {
     "name": "stdout",
     "output_type": "stream",
     "text": [
      "The z-score for the data point 75 is: 1.0\n"
     ]
    }
   ],
   "source": [
    "# Given data\n",
    "data_point = 75\n",
    "population_mean = 70\n",
    "population_std_dev = 5\n",
    "\n",
    "# Calculate the z-score\n",
    "z_score = (data_point - population_mean) / population_std_dev\n",
    "\n",
    "# Display the result\n",
    "print(f\"The z-score for the data point {data_point} is: {z_score}\")\n"
   ]
  },
  {
   "cell_type": "markdown",
   "id": "d93e7685-e5f4-442e-93ce-839e1fb5e8a1",
   "metadata": {},
   "source": [
    "Q10. In a study of the effectiveness of a new weight loss drug, a sample of 50 participants lost an average\n",
    "of 6 pounds with a standard deviation of 2.5 pounds. Conduct a hypothesis test to determine if the drug is\n",
    "significantly effective at a 95% confidence level using a t-test."
   ]
  },
  {
   "cell_type": "code",
   "execution_count": 5,
   "id": "2c0e6e9d-7a11-417e-a750-ec530488b39c",
   "metadata": {},
   "outputs": [
    {
     "name": "stdout",
     "output_type": "stream",
     "text": [
      "Reject the null hypothesis. The drug is significantly effective.\n"
     ]
    }
   ],
   "source": [
    "import scipy.stats as stats\n",
    "\n",
    "# Given data\n",
    "sample_mean = 6\n",
    "sample_std_dev = 2.5\n",
    "sample_size = 50\n",
    "hypothesized_mean = 0  # Null hypothesis: The drug is not significantly effective\n",
    "\n",
    "# Calculate the t-statistic\n",
    "t_statistic = (sample_mean - hypothesized_mean) / (sample_std_dev / (sample_size ** 0.5))\n",
    "\n",
    "# Set the significance level\n",
    "alpha = 0.05\n",
    "\n",
    "# Find critical values for a two-tailed test\n",
    "critical_value_lower = stats.t.ppf(alpha/2, df=sample_size-1)\n",
    "critical_value_upper = -critical_value_lower\n",
    "\n",
    "# Make a decision\n",
    "if t_statistic < critical_value_lower or t_statistic > critical_value_upper:\n",
    "    print(\"Reject the null hypothesis. The drug is significantly effective.\")\n",
    "else:\n",
    "    print(\"Fail to reject the null hypothesis. There is not enough evidence that the drug is significantly effective.\")\n"
   ]
  },
  {
   "cell_type": "markdown",
   "id": "32efbe98-90ca-419c-97d1-59b2f5350082",
   "metadata": {},
   "source": [
    "Q11. In a survey of 500 people, 65% reported being satisfied with their current job. Calculate the 95%\n",
    "confidence interval for the true proportion of people who are satisfied with their job."
   ]
  },
  {
   "cell_type": "code",
   "execution_count": 6,
   "id": "709481a7-f8c4-446f-b2f7-8608b4c21175",
   "metadata": {},
   "outputs": [
    {
     "name": "stdout",
     "output_type": "stream",
     "text": [
      "95% Confidence Interval for job satisfaction: (0.6081925393809212, 0.6918074606190788)\n"
     ]
    }
   ],
   "source": [
    "import scipy.stats as stats\n",
    "\n",
    "# Given data\n",
    "sample_proportion = 0.65\n",
    "sample_size = 500\n",
    "confidence_level = 0.95\n",
    "\n",
    "# Calculate the critical value for a 95% confidence interval\n",
    "z_score = stats.norm.ppf((1 + confidence_level) / 2)\n",
    "\n",
    "# Calculate the margin of error\n",
    "margin_of_error = z_score * ((sample_proportion * (1 - sample_proportion)) / sample_size) ** 0.5\n",
    "\n",
    "# Calculate the confidence interval\n",
    "confidence_interval = (sample_proportion - margin_of_error, sample_proportion + margin_of_error)\n",
    "\n",
    "# Display the results\n",
    "print(f\"95% Confidence Interval for job satisfaction: {confidence_interval}\")\n"
   ]
  },
  {
   "cell_type": "markdown",
   "id": "1786bb08-0968-4960-a76f-fe0e6e4d15bf",
   "metadata": {},
   "source": [
    "Q12. A researcher is testing the effectiveness of two different teaching methods on student performance.\n",
    "Sample A has a mean score of 85 with a standard deviation of 6, while sample B has a mean score of 82\n",
    "with a standard deviation of 5. Conduct a hypothesis test to determine if the two teaching methods have a\n",
    "significant difference in student performance using a t-test with a significance level of 0.01."
   ]
  },
  {
   "cell_type": "code",
   "execution_count": 7,
   "id": "6836b766-5328-47ff-82e0-26941f965d4b",
   "metadata": {},
   "outputs": [
    {
     "name": "stdout",
     "output_type": "stream",
     "text": [
      "Fail to reject the null hypothesis. There is not enough evidence to conclude a significant difference.\n"
     ]
    }
   ],
   "source": [
    "import scipy.stats as stats\n",
    "\n",
    "# Given data for Sample A\n",
    "mean_A = 85\n",
    "std_dev_A = 6\n",
    "sample_size_A = 30  # You should replace this with your actual sample size\n",
    "\n",
    "# Given data for Sample B\n",
    "mean_B = 82\n",
    "std_dev_B = 5\n",
    "sample_size_B = 30  # You should replace this with your actual sample size\n",
    "\n",
    "# Significance level\n",
    "alpha = 0.01\n",
    "\n",
    "# Calculate the t-statistic\n",
    "numerator = mean_A - mean_B\n",
    "denominator = ((std_dev_A**2) / sample_size_A + (std_dev_B**2) / sample_size_B) ** 0.5\n",
    "t_statistic = numerator / denominator\n",
    "\n",
    "# Degrees of freedom for a two-sample t-test\n",
    "degrees_of_freedom = min(sample_size_A - 1, sample_size_B - 1)\n",
    "\n",
    "# Calculate the critical value\n",
    "critical_value = stats.t.ppf(1 - alpha / 2, df=degrees_of_freedom)\n",
    "\n",
    "# Compare the t-statistic with the critical value\n",
    "if abs(t_statistic) > critical_value:\n",
    "    print(\"Reject the null hypothesis. There is a significant difference in student performance between the two teaching methods.\")\n",
    "else:\n",
    "    print(\"Fail to reject the null hypothesis. There is not enough evidence to conclude a significant difference.\")\n"
   ]
  },
  {
   "cell_type": "markdown",
   "id": "00ab8a51-1fb7-4d00-88f1-ef93a388df4e",
   "metadata": {},
   "source": [
    "Q13. A population has a mean of 60 and a standard deviation of 8. A sample of 50 observations has a mean\n",
    "of 65. Calculate the 90% confidence interval for the true population mean."
   ]
  },
  {
   "cell_type": "code",
   "execution_count": 8,
   "id": "792fff92-9a8c-4ddc-9d3e-50eec1b0a461",
   "metadata": {},
   "outputs": [
    {
     "name": "stdout",
     "output_type": "stream",
     "text": [
      "90% Confidence Interval for the true population mean: (63.13906055411732, 66.86093944588268)\n"
     ]
    }
   ],
   "source": [
    "import scipy.stats as stats\n",
    "\n",
    "# Given data\n",
    "sample_mean = 65\n",
    "population_std_dev = 8\n",
    "sample_size = 50\n",
    "confidence_level = 0.90\n",
    "\n",
    "# Calculate the critical value for a 90% confidence interval\n",
    "z_score = stats.norm.ppf((1 + confidence_level) / 2)\n",
    "\n",
    "# Calculate the margin of error\n",
    "margin_of_error = z_score * (population_std_dev / (sample_size ** 0.5))\n",
    "\n",
    "# Calculate the confidence interval\n",
    "confidence_interval = (sample_mean - margin_of_error, sample_mean + margin_of_error)\n",
    "\n",
    "# Display the results\n",
    "print(f\"90% Confidence Interval for the true population mean: {confidence_interval}\")\n"
   ]
  },
  {
   "cell_type": "markdown",
   "id": "6d5de790-e32e-4909-bd60-4a15ba3474bb",
   "metadata": {},
   "source": [
    "Q14. In a study of the effects of caffeine on reaction time, a sample of 30 participants had an average\n",
    "reaction time of 0.25 seconds with a standard deviation of 0.05 seconds. Conduct a hypothesis test to\n",
    "determine if the caffeine has a significant effect on reaction time at a 90% confidence level using a t-test."
   ]
  },
  {
   "cell_type": "code",
   "execution_count": 9,
   "id": "75036d9f-8c5a-4dc9-b5b1-466212e74413",
   "metadata": {},
   "outputs": [
    {
     "name": "stdout",
     "output_type": "stream",
     "text": [
      "Reject the null hypothesis. Caffeine has a significant effect on reaction time.\n"
     ]
    }
   ],
   "source": [
    "import scipy.stats as stats\n",
    "\n",
    "# Given data\n",
    "sample_mean = 0.25\n",
    "sample_std_dev = 0.05\n",
    "sample_size = 30\n",
    "hypothesized_mean = 0.20  # Null hypothesis: No effect\n",
    "\n",
    "# Calculate the t-statistic\n",
    "t_statistic = (sample_mean - hypothesized_mean) / (sample_std_dev / (sample_size ** 0.5))\n",
    "\n",
    "# Degrees of freedom for a one-sample t-test\n",
    "degrees_of_freedom = sample_size - 1\n",
    "\n",
    "# Set the significance level\n",
    "confidence_level = 0.90\n",
    "alpha = 1 - confidence_level\n",
    "\n",
    "# Find critical values for a two-tailed test\n",
    "critical_value_lower = stats.t.ppf(alpha / 2, df=degrees_of_freedom)\n",
    "critical_value_upper = -critical_value_lower\n",
    "\n",
    "# Make a decision\n",
    "if t_statistic < critical_value_lower or t_statistic > critical_value_upper:\n",
    "    print(\"Reject the null hypothesis. Caffeine has a significant effect on reaction time.\")\n",
    "else:\n",
    "    print(\"Fail to reject the null hypothesis. There is not enough evidence that caffeine has a significant effect on reaction time.\")\n"
   ]
  }
 ],
 "metadata": {
  "kernelspec": {
   "display_name": "Python 3 (ipykernel)",
   "language": "python",
   "name": "python3"
  },
  "language_info": {
   "codemirror_mode": {
    "name": "ipython",
    "version": 3
   },
   "file_extension": ".py",
   "mimetype": "text/x-python",
   "name": "python",
   "nbconvert_exporter": "python",
   "pygments_lexer": "ipython3",
   "version": "3.10.8"
  }
 },
 "nbformat": 4,
 "nbformat_minor": 5
}
