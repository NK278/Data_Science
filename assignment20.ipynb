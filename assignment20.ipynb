{
 "cells": [
  {
   "cell_type": "markdown",
   "id": "067853aa-47ce-4d44-955d-e783bacb28c9",
   "metadata": {},
   "source": [
    "Q1. List any five functions of the pandas library with execution."
   ]
  },
  {
   "cell_type": "markdown",
   "id": "d782f435-4963-4765-bb6a-eba686579a2d",
   "metadata": {},
   "source": [
    "Ans: 1)pd.DataFrame(): This function is used to create a DataFrame, which is a 2-dimensional data structure like a table.\n",
    "ex:"
   ]
  },
  {
   "cell_type": "code",
   "execution_count": 1,
   "id": "2eff5da9-579a-485a-8b25-b1f8dead2d7c",
   "metadata": {},
   "outputs": [
    {
     "name": "stdout",
     "output_type": "stream",
     "text": [
      "      Name  Age      City\n",
      "0    Alice   25  New York\n",
      "1      Bob   30    London\n",
      "2  Charlie   22     Tokyo\n"
     ]
    }
   ],
   "source": [
    "import pandas as pd\n",
    "\n",
    "# Create a DataFrame from a dictionary\n",
    "data = {'Name': ['Alice', 'Bob', 'Charlie'],\n",
    "        'Age': [25, 30, 22],\n",
    "        'City': ['New York', 'London', 'Tokyo']}\n",
    "\n",
    "df = pd.DataFrame(data)\n",
    "print(df)\n"
   ]
  },
  {
   "cell_type": "markdown",
   "id": "5dc1c805-c511-49b3-8297-bc0fce05879a",
   "metadata": {},
   "source": [
    "pd.Series(): This function creates a one-dimensional labeled array, similar to a column in a DataFrame.\n",
    "ex:"
   ]
  },
  {
   "cell_type": "code",
   "execution_count": 2,
   "id": "0e69c23d-357c-4f48-83fa-0862c0bbca3b",
   "metadata": {},
   "outputs": [
    {
     "name": "stdout",
     "output_type": "stream",
     "text": [
      "0    10\n",
      "1    20\n",
      "2    30\n",
      "3    40\n",
      "4    50\n",
      "dtype: int64\n"
     ]
    }
   ],
   "source": [
    "import pandas as pd\n",
    "\n",
    "# Create a Series from a list\n",
    "data = [10, 20, 30, 40, 50]\n",
    "\n",
    "series = pd.Series(data)\n",
    "print(series)\n"
   ]
  },
  {
   "cell_type": "markdown",
   "id": "c6a6b991-7fab-422b-a4c9-c457913a9bff",
   "metadata": {},
   "source": [
    "df.head(): This function returns the first n rows of a DataFrame. By default, it returns the first 5 rows.\n",
    "ex:"
   ]
  },
  {
   "cell_type": "code",
   "execution_count": 3,
   "id": "a5fcc1a8-63fb-4987-bf9c-2e93af7769fb",
   "metadata": {},
   "outputs": [
    {
     "name": "stdout",
     "output_type": "stream",
     "text": [
      "    Name  Age      City\n",
      "0  Alice   25  New York\n",
      "1    Bob   30    London\n"
     ]
    }
   ],
   "source": [
    "import pandas as pd\n",
    "\n",
    "# Create a DataFrame\n",
    "data = {'Name': ['Alice', 'Bob', 'Charlie'],\n",
    "        'Age': [25, 30, 22],\n",
    "        'City': ['New York', 'London', 'Tokyo']}\n",
    "\n",
    "df = pd.DataFrame(data)\n",
    "\n",
    "# Get the first 2 rows\n",
    "print(df.head(2))\n"
   ]
  },
  {
   "cell_type": "markdown",
   "id": "cf83f64a-36e0-4785-a22b-e6052bd56482",
   "metadata": {},
   "source": [
    "df.groupby(): This function is used to group data in a DataFrame based on a specific column or multiple columns.\n",
    "ex:"
   ]
  },
  {
   "cell_type": "code",
   "execution_count": 4,
   "id": "a8ea02b6-f4d8-4021-b0dd-b44b42c95d86",
   "metadata": {},
   "outputs": [
    {
     "name": "stdout",
     "output_type": "stream",
     "text": [
      "          Age\n",
      "Name         \n",
      "Alice    26.5\n",
      "Bob      32.5\n",
      "Charlie  22.0\n"
     ]
    },
    {
     "name": "stderr",
     "output_type": "stream",
     "text": [
      "/tmp/ipykernel_84/305417296.py:11: FutureWarning: The default value of numeric_only in DataFrameGroupBy.mean is deprecated. In a future version, numeric_only will default to False. Either specify numeric_only or select only columns which should be valid for the function.\n",
      "  grouped_df = df.groupby('Name').mean()\n"
     ]
    }
   ],
   "source": [
    "import pandas as pd\n",
    "\n",
    "# Create a DataFrame\n",
    "data = {'Name': ['Alice', 'Bob', 'Charlie', 'Alice', 'Bob'],\n",
    "        'Age': [25, 30, 22, 28, 35],\n",
    "        'City': ['New York', 'London', 'Tokyo', 'New York', 'London']}\n",
    "\n",
    "df = pd.DataFrame(data)\n",
    "\n",
    "# Group by 'Name' column and calculate the mean age for each group\n",
    "grouped_df = df.groupby('Name').mean()\n",
    "print(grouped_df)\n"
   ]
  },
  {
   "cell_type": "markdown",
   "id": "9e04478a-2c90-4e82-9fea-9bd122f144f1",
   "metadata": {},
   "source": [
    "df.merge(): This function is used to merge two DataFrames based on a common column.\n",
    "ex:"
   ]
  },
  {
   "cell_type": "code",
   "execution_count": 5,
   "id": "b2995030-1699-451e-ba96-ea8426df6036",
   "metadata": {},
   "outputs": [
    {
     "name": "stdout",
     "output_type": "stream",
     "text": [
      "   ID     Name  Age\n",
      "0   2      Bob   25\n",
      "1   3  Charlie   30\n"
     ]
    }
   ],
   "source": [
    "import pandas as pd\n",
    "\n",
    "# Create two DataFrames\n",
    "data1 = {'ID': [1, 2, 3],\n",
    "         'Name': ['Alice', 'Bob', 'Charlie']}\n",
    "data2 = {'ID': [2, 3, 4],\n",
    "         'Age': [25, 30, 22]}\n",
    "\n",
    "df1 = pd.DataFrame(data1)\n",
    "df2 = pd.DataFrame(data2)\n",
    "\n",
    "# Merge the DataFrames based on the 'ID' column\n",
    "merged_df = df1.merge(df2, on='ID')\n",
    "print(merged_df)\n"
   ]
  },
  {
   "cell_type": "markdown",
   "id": "c4f3fcda-9d20-40c2-b9ec-91b1589faa18",
   "metadata": {},
   "source": [
    "Q2. Given a Pandas DataFrame df with columns 'A', 'B', and 'C', write a Python function to re-index the\n",
    "DataFrame with a new index that starts from 1 and increments by 2 for each row."
   ]
  },
  {
   "cell_type": "code",
   "execution_count": 6,
   "id": "43aeb83e-5f40-4a9b-a7d9-9b1a5c7597a6",
   "metadata": {},
   "outputs": [],
   "source": [
    "import pandas as pd\n",
    "\n",
    "def reindex_dataframe(df):\n",
    "    # Reset the index to get the default integer index\n",
    "    df.reset_index(drop=True, inplace=True)\n",
    "    \n",
    "    # Create a new index starting from 1 and incrementing by 2\n",
    "    new_index = pd.RangeIndex(start=1, stop=2 * len(df), step=2)\n",
    "    \n",
    "    # Assign the new index to the DataFrame\n",
    "    df.index = new_index\n",
    "    \n",
    "    return df\n",
    "\n"
   ]
  },
  {
   "cell_type": "markdown",
   "id": "5efba77c-8ac4-41f5-bae6-ee1ff44af178",
   "metadata": {},
   "source": [
    "Q3. You have a Pandas DataFrame df with a column named 'Values'. Write a Python function that\n",
    "iterates over the DataFrame and calculates the sum of the first three values in the 'Values' column. The\n",
    "function should print the sum to the console."
   ]
  },
  {
   "cell_type": "code",
   "execution_count": 7,
   "id": "05e6b968-97dd-41cb-a650-e3cd7661fa57",
   "metadata": {},
   "outputs": [],
   "source": [
    "def cal_sum(df):\n",
    "    sm=0\n",
    "    for idx,val in enumerate(df['values']):\n",
    "        if idx<3: sm+=val\n",
    "        else: break\n",
    "    print(\"sum of first three values in values col: \",sm)"
   ]
  },
  {
   "cell_type": "markdown",
   "id": "42a0d0b1-4019-40fb-a4e7-ee20d4c8c8f6",
   "metadata": {},
   "source": [
    "Q4. Given a Pandas DataFrame df with a column 'Text', write a Python function to create a new column\n",
    "'Word_Count' that contains the number of words in each row of the 'Text' column."
   ]
  },
  {
   "cell_type": "code",
   "execution_count": 8,
   "id": "f59a2db1-747b-473e-90b7-82702200a1d0",
   "metadata": {},
   "outputs": [],
   "source": [
    "def wrd_c(df):\n",
    "    cnt= lambda txt: len(txt.split())\n",
    "    df['Word_Count']=df['Text'].apply(cnt)\n",
    "    return df"
   ]
  },
  {
   "cell_type": "markdown",
   "id": "58954e10-b2b3-47f6-8d87-2e0b8af13a1f",
   "metadata": {},
   "source": [
    "Q5. How are DataFrame.size() and DataFrame.shape() different?"
   ]
  },
  {
   "cell_type": "markdown",
   "id": "fe68733f-6ff2-4bad-ad70-083624542698",
   "metadata": {},
   "source": [
    "Ans: DataFrame.size and DataFrame.shape are both attributes of a pandas DataFrame, but they provide different information about the DataFrame. Here's how they are different:\n",
    "\n",
    "1)DataFrame.size:\n",
    ">DataFrame.size gives the total number of elements in the DataFrame.\n",
    ">It counts the total number of cells in the DataFrame, including both rows and columns.\n",
    ">The value returned by DataFrame.size is an integer representing the total number of elements.\n",
    "\n",
    "2)DataFrame.shape:\n",
    ">DataFrame.shape gives the dimensions of the DataFrame as a tuple of (rows, columns).\n",
    ">It provides the number of rows and columns present in the DataFrame.\n",
    ">The value returned by DataFrame.shape is a tuple containing two elements: the number of rows and the number of columns."
   ]
  },
  {
   "cell_type": "markdown",
   "id": "29c02fe0-f666-40b5-aaa4-383142df0192",
   "metadata": {},
   "source": [
    "Q6. Which function of pandas do we use to read an excel file?"
   ]
  },
  {
   "cell_type": "markdown",
   "id": "95cdcb8f-a9b9-4592-b0ef-c4d431fa32f1",
   "metadata": {},
   "source": [
    "Ans:To read an Excel file in pandas, you can use the pd.read_excel() function. This function allows you to read data from an Excel file and create a pandas DataFrame from it."
   ]
  },
  {
   "cell_type": "markdown",
   "id": "ccc17186-7da6-44f0-9ef7-e06508d1ec15",
   "metadata": {},
   "source": [
    "Q7. You have a Pandas DataFrame df that contains a column named 'Email' that contains email\n",
    "addresses in the format 'username@domain.com'. Write a Python function that creates a new column\n",
    "'Username' in df that contains only the username part of each email address."
   ]
  },
  {
   "cell_type": "code",
   "execution_count": 9,
   "id": "b28f8684-925b-4f77-aa8d-b080eb44f55e",
   "metadata": {},
   "outputs": [],
   "source": [
    "def ex_usr(df):\n",
    "    df['Username']=df['Email'].apply( lambda e: e.split('@')[0])\n",
    "    return df"
   ]
  },
  {
   "cell_type": "markdown",
   "id": "d3d9fd58-e391-4b70-b382-464965e17dec",
   "metadata": {},
   "source": [
    "Q8. You have a Pandas DataFrame df with columns 'A', 'B', and 'C'. Write a Python function that selects\n",
    "all rows where the value in column 'A' is greater than 5 and the value in column 'B' is less than 10. The\n",
    "function should return a new DataFrame that contains only the selected rows."
   ]
  },
  {
   "cell_type": "code",
   "execution_count": 10,
   "id": "6c4a07f1-d297-47a4-ad8d-cd3587af4247",
   "metadata": {},
   "outputs": [],
   "source": [
    "def new_df(df):\n",
    "    s_row=df[(df['A']>5) & (df['B']<10)]\n",
    "    return s_row"
   ]
  },
  {
   "cell_type": "code",
   "execution_count": 11,
   "id": "f0836387-57d2-47e7-b91a-f2eb927a11bc",
   "metadata": {},
   "outputs": [],
   "source": [
    "data = {'A': [3, 8, 6, 2, 9],\n",
    "        'B': [5, 2, 9, 3, 1],\n",
    "        'C': [1, 7, 4, 5, 2]}\n",
    "\n",
    "df = pd.DataFrame(data)"
   ]
  },
  {
   "cell_type": "code",
   "execution_count": 12,
   "id": "d7a14be9-fc90-417a-a43f-57a9d60de9ce",
   "metadata": {},
   "outputs": [
    {
     "name": "stdout",
     "output_type": "stream",
     "text": [
      "   A  B  C\n",
      "0  3  5  1\n",
      "1  8  2  7\n",
      "2  6  9  4\n",
      "3  2  3  5\n",
      "4  9  1  2\n"
     ]
    }
   ],
   "source": [
    "print(df)"
   ]
  },
  {
   "cell_type": "code",
   "execution_count": 13,
   "id": "b7eb1576-17b4-491d-9a24-03fb699d9c25",
   "metadata": {},
   "outputs": [
    {
     "name": "stdout",
     "output_type": "stream",
     "text": [
      "   A  B  C\n",
      "1  8  2  7\n",
      "2  6  9  4\n",
      "4  9  1  2\n"
     ]
    }
   ],
   "source": [
    "print(new_df(df))"
   ]
  },
  {
   "cell_type": "markdown",
   "id": "d6178a51-e211-4461-99ea-7fb750f504a0",
   "metadata": {},
   "source": [
    "Q9. Given a Pandas DataFrame df with a column 'Values', write a Python function to calculate the mean,\n",
    "median, and standard deviation of the values in the 'Values' column."
   ]
  },
  {
   "cell_type": "code",
   "execution_count": 14,
   "id": "45539d0b-8654-4e4a-92bb-9a700778c370",
   "metadata": {},
   "outputs": [],
   "source": [
    "def statistics(df):\n",
    "    mean_v=df['Values'].mean()\n",
    "    median_v=df['Values'].median()\n",
    "    std_v=df['Values'].std()\n",
    "    return mean_v,median_v,std_v"
   ]
  },
  {
   "cell_type": "markdown",
   "id": "80a19dbf-a0ed-4713-8074-c1b38482fb9f",
   "metadata": {},
   "source": [
    "Q10. Given a Pandas DataFrame df with a column 'Sales' and a column 'Date', write a Python function to\n",
    "create a new column 'MovingAverage' that contains the moving average of the sales for the past 7 days\n",
    "for each row in the DataFrame. The moving average should be calculated using a window of size 7 and\n",
    "should include the current day."
   ]
  },
  {
   "cell_type": "code",
   "execution_count": 15,
   "id": "48cad445-2c3d-4409-81a0-3487650845a3",
   "metadata": {},
   "outputs": [],
   "source": [
    "def avg_7(df):\n",
    "    df.sort_values('Date',inplace=True)\n",
    "    df['MovingAverage']=df['Sales'].rolling(window=7,min_periods=1).mean()\n",
    "    return df"
   ]
  },
  {
   "cell_type": "markdown",
   "id": "8ff01f6f-d9b2-456a-92a8-faf6fca6db98",
   "metadata": {},
   "source": [
    "Q11. You have a Pandas DataFrame df with a column 'Date'. Write a Python function that creates a new\n",
    "column 'Weekday' in the DataFrame. The 'Weekday' column should contain the weekday name (e.g.\n",
    "Monday, Tuesday) corresponding to each date in the 'Date' column."
   ]
  },
  {
   "cell_type": "code",
   "execution_count": 16,
   "id": "f1262cc0-1c8e-490d-99fe-7349b502418a",
   "metadata": {},
   "outputs": [],
   "source": [
    "def push_df(df):\n",
    "    df['Date']=pd.to_datetime(df['Date'])\n",
    "    df['Weekday']=df['Date'].dt.strftime('%A')\n",
    "    return df"
   ]
  },
  {
   "cell_type": "code",
   "execution_count": 19,
   "id": "9ce4efed-c108-4ddb-8f6e-3822e570f4bc",
   "metadata": {},
   "outputs": [
    {
     "name": "stdout",
     "output_type": "stream",
     "text": [
      "         Date\n",
      "0  2023-01-01\n",
      "1  2023-01-02\n",
      "2  2023-01-03\n",
      "3  2023-01-04\n",
      "4  2023-01-05\n"
     ]
    }
   ],
   "source": [
    "date_data = ['2023-01-01', '2023-01-02', '2023-01-03', '2023-01-04', '2023-01-05']\n",
    "\n",
    "# Create the DataFrame\n",
    "df1 = pd.DataFrame({'Date': date_data})\n",
    "\n",
    "# Display the DataFrame\n",
    "print(df1)"
   ]
  },
  {
   "cell_type": "code",
   "execution_count": 20,
   "id": "f53aff96-e01f-42cf-9c08-805786e51949",
   "metadata": {},
   "outputs": [
    {
     "data": {
      "text/html": [
       "<div>\n",
       "<style scoped>\n",
       "    .dataframe tbody tr th:only-of-type {\n",
       "        vertical-align: middle;\n",
       "    }\n",
       "\n",
       "    .dataframe tbody tr th {\n",
       "        vertical-align: top;\n",
       "    }\n",
       "\n",
       "    .dataframe thead th {\n",
       "        text-align: right;\n",
       "    }\n",
       "</style>\n",
       "<table border=\"1\" class=\"dataframe\">\n",
       "  <thead>\n",
       "    <tr style=\"text-align: right;\">\n",
       "      <th></th>\n",
       "      <th>Date</th>\n",
       "      <th>Weekday</th>\n",
       "    </tr>\n",
       "  </thead>\n",
       "  <tbody>\n",
       "    <tr>\n",
       "      <th>0</th>\n",
       "      <td>2023-01-01</td>\n",
       "      <td>Sunday</td>\n",
       "    </tr>\n",
       "    <tr>\n",
       "      <th>1</th>\n",
       "      <td>2023-01-02</td>\n",
       "      <td>Monday</td>\n",
       "    </tr>\n",
       "    <tr>\n",
       "      <th>2</th>\n",
       "      <td>2023-01-03</td>\n",
       "      <td>Tuesday</td>\n",
       "    </tr>\n",
       "    <tr>\n",
       "      <th>3</th>\n",
       "      <td>2023-01-04</td>\n",
       "      <td>Wednesday</td>\n",
       "    </tr>\n",
       "    <tr>\n",
       "      <th>4</th>\n",
       "      <td>2023-01-05</td>\n",
       "      <td>Thursday</td>\n",
       "    </tr>\n",
       "  </tbody>\n",
       "</table>\n",
       "</div>"
      ],
      "text/plain": [
       "        Date    Weekday\n",
       "0 2023-01-01     Sunday\n",
       "1 2023-01-02     Monday\n",
       "2 2023-01-03    Tuesday\n",
       "3 2023-01-04  Wednesday\n",
       "4 2023-01-05   Thursday"
      ]
     },
     "execution_count": 20,
     "metadata": {},
     "output_type": "execute_result"
    }
   ],
   "source": [
    "push_df(df1)"
   ]
  },
  {
   "cell_type": "markdown",
   "id": "ba48ae59-8ea2-4a33-ba3a-c67e6acf5a37",
   "metadata": {},
   "source": [
    "Q12. Given a Pandas DataFrame df with a column 'Date' that contains timestamps, write a Python\n",
    "function to select all rows where the date is between '2023-01-01' and '2023-01-31'."
   ]
  },
  {
   "cell_type": "code",
   "execution_count": 21,
   "id": "1c140cdf-a3a2-48ae-9b02-2cf06501e644",
   "metadata": {},
   "outputs": [],
   "source": [
    "def sel_time(df):\n",
    "    df['Date']=pd.to_datetime(df['Date'])\n",
    "    m=(df['Date']>='2023-01-01')&(df['Date']<='2023-01-31')\n",
    "    return df[m]"
   ]
  },
  {
   "cell_type": "code",
   "execution_count": 22,
   "id": "d9e086bb-c19d-4a0d-ba93-aba90fa26fac",
   "metadata": {},
   "outputs": [
    {
     "data": {
      "text/html": [
       "<div>\n",
       "<style scoped>\n",
       "    .dataframe tbody tr th:only-of-type {\n",
       "        vertical-align: middle;\n",
       "    }\n",
       "\n",
       "    .dataframe tbody tr th {\n",
       "        vertical-align: top;\n",
       "    }\n",
       "\n",
       "    .dataframe thead th {\n",
       "        text-align: right;\n",
       "    }\n",
       "</style>\n",
       "<table border=\"1\" class=\"dataframe\">\n",
       "  <thead>\n",
       "    <tr style=\"text-align: right;\">\n",
       "      <th></th>\n",
       "      <th>Date</th>\n",
       "      <th>Weekday</th>\n",
       "    </tr>\n",
       "  </thead>\n",
       "  <tbody>\n",
       "    <tr>\n",
       "      <th>0</th>\n",
       "      <td>2023-01-01</td>\n",
       "      <td>Sunday</td>\n",
       "    </tr>\n",
       "    <tr>\n",
       "      <th>1</th>\n",
       "      <td>2023-01-02</td>\n",
       "      <td>Monday</td>\n",
       "    </tr>\n",
       "    <tr>\n",
       "      <th>2</th>\n",
       "      <td>2023-01-03</td>\n",
       "      <td>Tuesday</td>\n",
       "    </tr>\n",
       "    <tr>\n",
       "      <th>3</th>\n",
       "      <td>2023-01-04</td>\n",
       "      <td>Wednesday</td>\n",
       "    </tr>\n",
       "    <tr>\n",
       "      <th>4</th>\n",
       "      <td>2023-01-05</td>\n",
       "      <td>Thursday</td>\n",
       "    </tr>\n",
       "  </tbody>\n",
       "</table>\n",
       "</div>"
      ],
      "text/plain": [
       "        Date    Weekday\n",
       "0 2023-01-01     Sunday\n",
       "1 2023-01-02     Monday\n",
       "2 2023-01-03    Tuesday\n",
       "3 2023-01-04  Wednesday\n",
       "4 2023-01-05   Thursday"
      ]
     },
     "execution_count": 22,
     "metadata": {},
     "output_type": "execute_result"
    }
   ],
   "source": [
    "sel_time(df1)"
   ]
  },
  {
   "cell_type": "markdown",
   "id": "453bb285-19bf-45e1-8038-f28cadb72eb3",
   "metadata": {},
   "source": [
    "Q13. To use the basic functions of pandas, what is the first and foremost necessary library that needs to\n",
    "be imported?"
   ]
  },
  {
   "cell_type": "markdown",
   "id": "53afa396-a9ea-4f95-b2b1-2e4217032995",
   "metadata": {},
   "source": [
    "Ans:To use the basic functions of pandas, the first and foremost necessary library that needs to be imported is the pandas library itself. The pandas library is a popular and powerful data manipulation library in Python, and it provides a DataFrame data structure that is widely used for data analysis and manipulation.\n",
    "\n",
    "To import the pandas library, you typically use the following import statement:\n",
    "import pandas as pd\n",
    "\n",
    "By convention, pandas is often imported with the alias pd, which makes it easier to refer to pandas functions and classes in your code.\n",
    "\n",
    "Once you have imported pandas, you can access all its functions and features using the pd prefix. For example, you can create a DataFrame using pd.DataFrame(), read data from a CSV file using pd.read_csv(), perform data analysis using various pandas functions, and much more."
   ]
  }
 ],
 "metadata": {
  "kernelspec": {
   "display_name": "Python 3 (ipykernel)",
   "language": "python",
   "name": "python3"
  },
  "language_info": {
   "codemirror_mode": {
    "name": "ipython",
    "version": 3
   },
   "file_extension": ".py",
   "mimetype": "text/x-python",
   "name": "python",
   "nbconvert_exporter": "python",
   "pygments_lexer": "ipython3",
   "version": "3.10.8"
  }
 },
 "nbformat": 4,
 "nbformat_minor": 5
}
