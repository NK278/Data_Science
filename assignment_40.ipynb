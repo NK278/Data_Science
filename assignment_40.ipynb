{
 "cells": [
  {
   "cell_type": "markdown",
   "id": "734782c2-eb43-4075-b3cc-4ca66a71ec0d",
   "metadata": {},
   "source": [
    "Q1. Write a Python function that takes in two arrays of data and calculates the F-value for a variance ratio\n",
    "test. The function should return the F-value and the corresponding p-value for the test."
   ]
  },
  {
   "cell_type": "code",
   "execution_count": 1,
   "id": "b210049d-ab27-4a1a-a221-2651011f428d",
   "metadata": {},
   "outputs": [
    {
     "name": "stdout",
     "output_type": "stream",
     "text": [
      "F-value: 5.493548743266716\n",
      "P-value: 0.02110598697730226\n"
     ]
    }
   ],
   "source": [
    "import numpy as np\n",
    "from scipy.stats import f_oneway\n",
    "\n",
    "def variance_ratio_test(array1, array2):\n",
    "    \"\"\"\n",
    "    Calculate F-value and p-value for a variance ratio test.\n",
    "\n",
    "    Parameters:\n",
    "    - array1, array2: Arrays of data for the two groups.\n",
    "\n",
    "    Returns:\n",
    "    - F-value, p-value\n",
    "    \"\"\"\n",
    "    # Perform variance ratio test\n",
    "    f_statistic, p_value = f_oneway(array1, array2)\n",
    "\n",
    "    return f_statistic, p_value\n",
    "\n",
    "# Example usage:\n",
    "group1_data = np.random.normal(loc=5, scale=2, size=50)\n",
    "group2_data = np.random.normal(loc=6, scale=2, size=50)\n",
    "\n",
    "f_value, p_value = variance_ratio_test(group1_data, group2_data)\n",
    "\n",
    "print(f\"F-value: {f_value}\")\n",
    "print(f\"P-value: {p_value}\")\n"
   ]
  },
  {
   "cell_type": "markdown",
   "id": "13453d6d-4580-44de-a15e-ee2b5e599dfb",
   "metadata": {},
   "source": [
    "Q2. Given a significance level of 0.05 and the degrees of freedom for the numerator and denominator of an\n",
    "F-distribution, write a Python function that returns the critical F-value for a two-tailed test."
   ]
  },
  {
   "cell_type": "code",
   "execution_count": 2,
   "id": "1c2e95e9-afdd-4345-9da6-66d716559009",
   "metadata": {},
   "outputs": [
    {
     "name": "stdout",
     "output_type": "stream",
     "text": [
      "Critical F-value: 4.18206059099611\n"
     ]
    }
   ],
   "source": [
    "from scipy.stats import f\n",
    "\n",
    "def critical_f_value(alpha, df_num, df_denom):\n",
    "    \"\"\"\n",
    "    Calculate the critical F-value for a two-tailed test.\n",
    "\n",
    "    Parameters:\n",
    "    - alpha: Significance level (e.g., 0.05 for a 5% significance level).\n",
    "    - df_num: Degrees of freedom for the numerator.\n",
    "    - df_denom: Degrees of freedom for the denominator.\n",
    "\n",
    "    Returns:\n",
    "    - Critical F-value\n",
    "    \"\"\"\n",
    "    alpha_over_2 = alpha / 2\n",
    "\n",
    "    # Percent point function (inverse of the cumulative distribution function)\n",
    "    f_critical = f.ppf(1 - alpha_over_2, df_num, df_denom)\n",
    "\n",
    "    return f_critical\n",
    "\n",
    "# Example usage:\n",
    "alpha_value = 0.05\n",
    "df_numerator = 2\n",
    "df_denominator = 30\n",
    "\n",
    "critical_f = critical_f_value(alpha_value, df_numerator, df_denominator)\n",
    "\n",
    "print(f\"Critical F-value: {critical_f}\")\n"
   ]
  },
  {
   "cell_type": "markdown",
   "id": "1604a722-07e9-4378-b1e5-630f14032649",
   "metadata": {},
   "source": [
    "Q3. Write a Python program that generates random samples from two normal distributions with known\n",
    "\n",
    "variances and uses an F-test to determine if the variances are equal. The program should output the F-\n",
    "value, degrees of freedom, and p-value for the test."
   ]
  },
  {
   "cell_type": "code",
   "execution_count": 3,
   "id": "bd3dca97-e255-4e1b-b564-75c5322bbd21",
   "metadata": {},
   "outputs": [
    {
     "name": "stdout",
     "output_type": "stream",
     "text": [
      "F-value: 1.0780353340129458\n",
      "Degrees of Freedom (Numerator): 29\n",
      "Degrees of Freedom (Denominator): 29\n",
      "P-value: 0.8410413689831162\n"
     ]
    }
   ],
   "source": [
    "import numpy as np\n",
    "from scipy.stats import f\n",
    "\n",
    "def equal_variances_f_test(sample1, sample2):\n",
    "    \"\"\"\n",
    "    Perform an F-test to determine if the variances of two samples are equal.\n",
    "\n",
    "    Parameters:\n",
    "    - sample1, sample2: Arrays representing the two samples.\n",
    "\n",
    "    Returns:\n",
    "    - F-value, degrees of freedom numerator, degrees of freedom denominator, p-value\n",
    "    \"\"\"\n",
    "    var1 = np.var(sample1, ddof=1)  # variance of sample 1\n",
    "    var2 = np.var(sample2, ddof=1)  # variance of sample 2\n",
    "\n",
    "    df_num = len(sample1) - 1  # degrees of freedom numerator\n",
    "    df_denom = len(sample2) - 1  # degrees of freedom denominator\n",
    "\n",
    "    f_value = var1 / var2 if var1 > var2 else var2 / var1\n",
    "\n",
    "    p_value = 2 * min(f.cdf(f_value, df_num, df_denom), 1 - f.cdf(f_value, df_num, df_denom))\n",
    "\n",
    "    return f_value, df_num, df_denom, p_value\n",
    "\n",
    "# Example usage:\n",
    "np.random.seed(123)  # for reproducibility\n",
    "\n",
    "# Generate random samples from normal distributions with known variances\n",
    "sample1 = np.random.normal(loc=5, scale=2, size=30)\n",
    "sample2 = np.random.normal(loc=5, scale=2, size=30)\n",
    "\n",
    "# Perform F-test\n",
    "f_value, df_num, df_denom, p_value = equal_variances_f_test(sample1, sample2)\n",
    "\n",
    "# Output results\n",
    "print(f\"F-value: {f_value}\")\n",
    "print(f\"Degrees of Freedom (Numerator): {df_num}\")\n",
    "print(f\"Degrees of Freedom (Denominator): {df_denom}\")\n",
    "print(f\"P-value: {p_value}\")\n"
   ]
  },
  {
   "cell_type": "markdown",
   "id": "76ad0ff2-868e-47b5-92a7-1f110e65a654",
   "metadata": {},
   "source": [
    "Q4.The variances of two populations are known to be 10 and 15. A sample of 12 observations is taken from\n",
    "each population. Conduct an F-test at the 5% significance level to determine if the variances are\n",
    "significantly different."
   ]
  },
  {
   "cell_type": "code",
   "execution_count": 4,
   "id": "c330a2ff-5024-4372-8ad0-22e8168b1dea",
   "metadata": {},
   "outputs": [
    {
     "name": "stdout",
     "output_type": "stream",
     "text": [
      "F-statistic: 1.5\n",
      "Critical F-value: 3.473699051085809\n",
      "P-value: 0.5123897987357995\n",
      "Fail to reject the null hypothesis. There is not enough evidence to suggest a significant difference in variances.\n"
     ]
    }
   ],
   "source": [
    "from scipy.stats import f\n",
    "\n",
    "# Given information\n",
    "variance_population1 = 10\n",
    "variance_population2 = 15\n",
    "sample_size = 12\n",
    "alpha = 0.05\n",
    "\n",
    "# Degrees of freedom\n",
    "df_num = sample_size - 1  # degrees of freedom numerator\n",
    "df_denom = sample_size - 1  # degrees of freedom denominator\n",
    "\n",
    "# F-statistic for a two-tailed test\n",
    "f_statistic = variance_population1 / variance_population2 if variance_population1 > variance_population2 else variance_population2 / variance_population1\n",
    "\n",
    "# P-value for a two-tailed test\n",
    "p_value = 2 * min(f.cdf(f_statistic, df_num, df_denom), 1 - f.cdf(f_statistic, df_num, df_denom))\n",
    "\n",
    "# Critical F-value\n",
    "critical_f = f.ppf(1 - alpha / 2, df_num, df_denom)\n",
    "\n",
    "# Print results\n",
    "print(f\"F-statistic: {f_statistic}\")\n",
    "print(f\"Critical F-value: {critical_f}\")\n",
    "print(f\"P-value: {p_value}\")\n",
    "\n",
    "# Check for significance based on p-value and critical F-value\n",
    "if p_value < alpha:\n",
    "    print(\"Reject the null hypothesis. The variances are significantly different.\")\n",
    "else:\n",
    "    print(\"Fail to reject the null hypothesis. There is not enough evidence to suggest a significant difference in variances.\")\n"
   ]
  },
  {
   "cell_type": "markdown",
   "id": "957f4405-47d1-44b1-ae33-7f059474c56d",
   "metadata": {},
   "source": [
    "Q5. A manufacturer claims that the variance of the diameter of a certain product is 0.005. A sample of 25\n",
    "products is taken, and the sample variance is found to be 0.006. Conduct an F-test at the 1% significance\n",
    "level to determine if the claim is justified."
   ]
  },
  {
   "cell_type": "code",
   "execution_count": 5,
   "id": "472c6b49-8603-49ef-881f-447762982801",
   "metadata": {},
   "outputs": [
    {
     "name": "stdout",
     "output_type": "stream",
     "text": [
      "F-statistic: 1.2\n",
      "Critical F-value: 6234.6308935330835\n",
      "P-value: 0.6296099619959358\n",
      "Fail to reject the null hypothesis. The claimed variance is justified at the 1% significance level.\n"
     ]
    }
   ],
   "source": [
    "from scipy.stats import f\n",
    "\n",
    "# Given information\n",
    "claimed_variance = 0.005\n",
    "sample_size = 25\n",
    "sample_variance = 0.006\n",
    "alpha = 0.01\n",
    "\n",
    "# Degrees of freedom\n",
    "df_num = sample_size - 1  # degrees of freedom numerator\n",
    "df_denom = 1  # degrees of freedom denominator for comparing a sample to a population\n",
    "\n",
    "# F-statistic for a one-tailed test\n",
    "f_statistic = sample_variance / claimed_variance\n",
    "\n",
    "# P-value for a one-tailed test\n",
    "p_value = 1 - f.cdf(f_statistic, df_num, df_denom)\n",
    "\n",
    "# Critical F-value\n",
    "critical_f = f.ppf(1 - alpha, df_num, df_denom)\n",
    "\n",
    "# Print results\n",
    "print(f\"F-statistic: {f_statistic}\")\n",
    "print(f\"Critical F-value: {critical_f}\")\n",
    "print(f\"P-value: {p_value}\")\n",
    "\n",
    "# Check for significance based on p-value and critical F-value\n",
    "if p_value < alpha:\n",
    "    print(\"Reject the null hypothesis. The claimed variance is not justified.\")\n",
    "else:\n",
    "    print(\"Fail to reject the null hypothesis. The claimed variance is justified at the 1% significance level.\")\n"
   ]
  },
  {
   "cell_type": "markdown",
   "id": "202d954f-b749-43ff-94dd-61064b933189",
   "metadata": {},
   "source": [
    "Q6. Write a Python function that takes in the degrees of freedom for the numerator and denominator of an\n",
    "F-distribution and calculates the mean and variance of the distribution. The function should return the\n",
    "mean and variance as a tuple."
   ]
  },
  {
   "cell_type": "code",
   "execution_count": 6,
   "id": "c69de104-6c04-47bb-926d-b45d1292b522",
   "metadata": {},
   "outputs": [
    {
     "name": "stdout",
     "output_type": "stream",
     "text": [
      "Mean: 1.5\n",
      "Variance: 5.25\n"
     ]
    }
   ],
   "source": [
    "def f_distribution_mean_variance(df_num, df_denom):\n",
    "    \"\"\"\n",
    "    Calculate the mean and variance of an F-distribution.\n",
    "\n",
    "    Parameters:\n",
    "    - df_num: Degrees of freedom for the numerator.\n",
    "    - df_denom: Degrees of freedom for the denominator.\n",
    "\n",
    "    Returns:\n",
    "    - Mean, Variance (as a tuple)\n",
    "    \"\"\"\n",
    "    if df_denom <= 2:\n",
    "        raise ValueError(\"Degrees of freedom for the denominator must be greater than 2.\")\n",
    "    \n",
    "    mean = df_denom / (df_denom - 2) if df_denom > 2 else None\n",
    "\n",
    "    if df_denom <= 4:\n",
    "        raise ValueError(\"Degrees of freedom for the denominator must be greater than 4 for variance calculation.\")\n",
    "\n",
    "    variance = (2 * (df_denom**2 * (df_num + df_denom - 2))) / (df_num * (df_denom - 2)**2 * (df_denom - 4))\n",
    "\n",
    "    return mean, variance\n",
    "\n",
    "# Example usage:\n",
    "df_num_example = 3\n",
    "df_denom_example = 6\n",
    "\n",
    "mean, variance = f_distribution_mean_variance(df_num_example, df_denom_example)\n",
    "\n",
    "print(f\"Mean: {mean}\")\n",
    "print(f\"Variance: {variance}\")\n"
   ]
  },
  {
   "cell_type": "markdown",
   "id": "2d33a12f-e971-487f-b5fe-2bb0e12ca14c",
   "metadata": {},
   "source": [
    "Q7. A random sample of 10 measurements is taken from a normal population with unknown variance. The\n",
    "sample variance is found to be 25. Another random sample of 15 measurements is taken from another\n",
    "normal population with unknown variance, and the sample variance is found to be 20. Conduct an F-test\n",
    "at the 10% significance level to determine if the variances are significantly different."
   ]
  },
  {
   "cell_type": "code",
   "execution_count": 7,
   "id": "1fd0fc45-fbec-4393-9979-df0aa9e5e92c",
   "metadata": {},
   "outputs": [
    {
     "name": "stdout",
     "output_type": "stream",
     "text": [
      "F-statistic: 1.25\n",
      "Critical F-value: 3.178893104458269\n",
      "P-value: 0.7450016995870201\n",
      "Fail to reject the null hypothesis. There is not enough evidence to suggest a significant difference in variances.\n"
     ]
    }
   ],
   "source": [
    "from scipy.stats import f\n",
    "\n",
    "# Given information\n",
    "sample_size1 = 10\n",
    "sample_variance1 = 25\n",
    "sample_size2 = 15\n",
    "sample_variance2 = 20\n",
    "alpha = 0.10\n",
    "\n",
    "# Degrees of freedom\n",
    "df_num1 = sample_size1 - 1  # degrees of freedom numerator for sample 1\n",
    "df_num2 = sample_size2 - 1  # degrees of freedom numerator for sample 2\n",
    "df_denom1 = df_num1  # degrees of freedom denominator for sample 1\n",
    "df_denom2 = df_num2  # degrees of freedom denominator for sample 2\n",
    "\n",
    "# F-statistic for a two-tailed test\n",
    "f_statistic = sample_variance1 / sample_variance2 if sample_variance1 > sample_variance2 else sample_variance2 / sample_variance1\n",
    "\n",
    "# P-value for a two-tailed test\n",
    "p_value = 2 * min(f.cdf(f_statistic, df_num1, df_denom1), 1 - f.cdf(f_statistic, df_num1, df_denom1))\n",
    "\n",
    "# Critical F-value\n",
    "critical_f = f.ppf(1 - alpha / 2, df_num1, df_denom1)\n",
    "\n",
    "# Print results\n",
    "print(f\"F-statistic: {f_statistic}\")\n",
    "print(f\"Critical F-value: {critical_f}\")\n",
    "print(f\"P-value: {p_value}\")\n",
    "\n",
    "# Check for significance based on p-value and critical F-value\n",
    "if p_value < alpha:\n",
    "    print(\"Reject the null hypothesis. The variances are significantly different.\")\n",
    "else:\n",
    "    print(\"Fail to reject the null hypothesis. There is not enough evidence to suggest a significant difference in variances.\")\n"
   ]
  },
  {
   "cell_type": "markdown",
   "id": "d51c9914-e31d-4ae8-9fd4-06b5ea760adb",
   "metadata": {},
   "source": [
    "Q8. The following data represent the waiting times in minutes at two different restaurants on a Saturday\n",
    "night: Restaurant A: 24, 25, 28, 23, 22, 20, 27; Restaurant B: 31, 33, 35, 30, 32, 36. Conduct an F-test at the 5%\n",
    "significance level to determine if the variances are significantly different."
   ]
  },
  {
   "cell_type": "code",
   "execution_count": 8,
   "id": "08476afa-9aec-4a86-b237-2fd05b69e8fe",
   "metadata": {},
   "outputs": [
    {
     "name": "stdout",
     "output_type": "stream",
     "text": [
      "F-statistic: 1.4551907719609583\n",
      "Critical F-value: 5.819756578960778\n",
      "P-value: 0.6602599723820768\n",
      "Fail to reject the null hypothesis. There is not enough evidence to suggest a significant difference in variances.\n"
     ]
    }
   ],
   "source": [
    "from scipy.stats import f\n",
    "\n",
    "# Given data\n",
    "data_restaurant_A = [24, 25, 28, 23, 22, 20, 27]\n",
    "data_restaurant_B = [31, 33, 35, 30, 32, 36]\n",
    "\n",
    "# Sample sizes and variances\n",
    "sample_size_A = len(data_restaurant_A)\n",
    "sample_variance_A = sum((x - sum(data_restaurant_A) / sample_size_A) ** 2 for x in data_restaurant_A) / (sample_size_A - 1)\n",
    "\n",
    "sample_size_B = len(data_restaurant_B)\n",
    "sample_variance_B = sum((x - sum(data_restaurant_B) / sample_size_B) ** 2 for x in data_restaurant_B) / (sample_size_B - 1)\n",
    "\n",
    "# Degrees of freedom\n",
    "df_num_A = sample_size_A - 1  # degrees of freedom numerator for sample A\n",
    "df_num_B = sample_size_B - 1  # degrees of freedom numerator for sample B\n",
    "df_denom_A = df_num_A  # degrees of freedom denominator for sample A\n",
    "df_denom_B = df_num_B  # degrees of freedom denominator for sample B\n",
    "\n",
    "# F-statistic for a two-tailed test\n",
    "f_statistic = sample_variance_A / sample_variance_B if sample_variance_A > sample_variance_B else sample_variance_B / sample_variance_A\n",
    "\n",
    "# P-value for a two-tailed test\n",
    "p_value = 2 * min(f.cdf(f_statistic, df_num_A, df_denom_A), 1 - f.cdf(f_statistic, df_num_A, df_denom_A))\n",
    "\n",
    "# Critical F-value\n",
    "alpha = 0.05\n",
    "critical_f = f.ppf(1 - alpha / 2, df_num_A, df_denom_A)\n",
    "\n",
    "# Print results\n",
    "print(f\"F-statistic: {f_statistic}\")\n",
    "print(f\"Critical F-value: {critical_f}\")\n",
    "print(f\"P-value: {p_value}\")\n",
    "\n",
    "# Check for significance based on p-value and critical F-value\n",
    "if p_value < alpha:\n",
    "    print(\"Reject the null hypothesis. The variances are significantly different.\")\n",
    "else:\n",
    "    print(\"Fail to reject the null hypothesis. There is not enough evidence to suggest a significant difference in variances.\")\n"
   ]
  },
  {
   "cell_type": "markdown",
   "id": "5854c57d-1cc4-4701-a8d5-35d2f5b2b407",
   "metadata": {},
   "source": [
    "Q9. The following data represent the test scores of two groups of students: Group A: 80, 85, 90, 92, 87, 83;\n",
    "Group B: 75, 78, 82, 79, 81, 84. Conduct an F-test at the 1% significance level to determine if the variances\n",
    "are significantly different."
   ]
  },
  {
   "cell_type": "code",
   "execution_count": 9,
   "id": "09a516d2-b631-437c-8305-3392f41dbb17",
   "metadata": {},
   "outputs": [
    {
     "name": "stdout",
     "output_type": "stream",
     "text": [
      "F-statistic: 1.9442622950819677\n",
      "Critical F-value: 14.939605459912224\n",
      "P-value: 0.4831043549070688\n",
      "Fail to reject the null hypothesis. There is not enough evidence to suggest a significant difference in variances.\n"
     ]
    }
   ],
   "source": [
    "from scipy.stats import f\n",
    "\n",
    "# Given data\n",
    "data_group_A = [80, 85, 90, 92, 87, 83]\n",
    "data_group_B = [75, 78, 82, 79, 81, 84]\n",
    "\n",
    "# Sample sizes and variances\n",
    "sample_size_A = len(data_group_A)\n",
    "sample_variance_A = sum((x - sum(data_group_A) / sample_size_A) ** 2 for x in data_group_A) / (sample_size_A - 1)\n",
    "\n",
    "sample_size_B = len(data_group_B)\n",
    "sample_variance_B = sum((x - sum(data_group_B) / sample_size_B) ** 2 for x in data_group_B) / (sample_size_B - 1)\n",
    "\n",
    "# Degrees of freedom\n",
    "df_num_A = sample_size_A - 1  # degrees of freedom numerator for group A\n",
    "df_num_B = sample_size_B - 1  # degrees of freedom numerator for group B\n",
    "df_denom_A = df_num_A  # degrees of freedom denominator for group A\n",
    "df_denom_B = df_num_B  # degrees of freedom denominator for group B\n",
    "\n",
    "# F-statistic for a two-tailed test\n",
    "f_statistic = sample_variance_A / sample_variance_B if sample_variance_A > sample_variance_B else sample_variance_B / sample_variance_A\n",
    "\n",
    "# P-value for a two-tailed test\n",
    "p_value = 2 * min(f.cdf(f_statistic, df_num_A, df_denom_A), 1 - f.cdf(f_statistic, df_num_A, df_denom_A))\n",
    "\n",
    "# Critical F-value\n",
    "alpha = 0.01\n",
    "critical_f = f.ppf(1 - alpha / 2, df_num_A, df_denom_A)\n",
    "\n",
    "# Print results\n",
    "print(f\"F-statistic: {f_statistic}\")\n",
    "print(f\"Critical F-value: {critical_f}\")\n",
    "print(f\"P-value: {p_value}\")\n",
    "\n",
    "# Check for significance based on p-value and critical F-value\n",
    "if p_value < alpha:\n",
    "    print(\"Reject the null hypothesis. The variances are significantly different.\")\n",
    "else:\n",
    "    print(\"Fail to reject the null hypothesis. There is not enough evidence to suggest a significant difference in variances.\")\n"
   ]
  }
 ],
 "metadata": {
  "kernelspec": {
   "display_name": "Python 3 (ipykernel)",
   "language": "python",
   "name": "python3"
  },
  "language_info": {
   "codemirror_mode": {
    "name": "ipython",
    "version": 3
   },
   "file_extension": ".py",
   "mimetype": "text/x-python",
   "name": "python",
   "nbconvert_exporter": "python",
   "pygments_lexer": "ipython3",
   "version": "3.10.8"
  }
 },
 "nbformat": 4,
 "nbformat_minor": 5
}
