{
 "cells": [
  {
   "cell_type": "code",
   "execution_count": null,
   "id": "87382c89-f3cf-4e83-b4cd-8cf71e9041ff",
   "metadata": {},
   "outputs": [],
   "source": [
    "# Q1. Create one variable containing following type of data:\n",
    "# (i) string\n",
    "# (ii) list\n",
    "# (iii) float\n",
    "# (iv) tuple\n",
    "s=\"Nishchal\"\n",
    "l=[1,2,3,4]\n",
    "c=3.1\n",
    "t=(13,56,66,'a')"
   ]
  },
  {
   "cell_type": "code",
   "execution_count": 9,
   "id": "0798ad04-247c-4836-a97b-57b4242410f4",
   "metadata": {},
   "outputs": [
    {
     "name": "stdout",
     "output_type": "stream",
     "text": [
      "<class 'str'>\n",
      "<class 'str'>\n",
      "<class 'list'>\n",
      "<class 'int'>\n"
     ]
    }
   ],
   "source": [
    "# Q2. Given are some following variables containing data:\n",
    "# (i) var1 = ‘ ‘\n",
    "# (ii) var2 = ‘[ DS , ML , Python]’\n",
    "# (iii) var3 = [ ‘DS’ , ’ML’ , ‘Python’ ]\n",
    "# (iv) var4 = 1.\n",
    "# What will be the data type of the above given variable.\n",
    "var1=' '\n",
    "print(type(var1))\n",
    "var2 = \"[ DS , ML , Python]\"\n",
    "print(type(var2))\n",
    "var3 = [ \"DS\" , \"ML\" , \"Python\" ]\n",
    "print(type(var3))\n",
    "var4=1\n",
    "print(type(var4))"
   ]
  },
  {
   "cell_type": "code",
   "execution_count": 13,
   "id": "a542ad2b-3994-43c2-b032-a7adbc3c7377",
   "metadata": {},
   "outputs": [
    {
     "name": "stdout",
     "output_type": "stream",
     "text": [
      "2.75\n",
      "3\n",
      "2\n",
      "14641\n"
     ]
    }
   ],
   "source": [
    "# Q3. Explain the use of the following operators using an example:\n",
    "# (i) /\n",
    "# (ii) %\n",
    "# (iii) //\n",
    "# (iv) **\n",
    "x=11/4\n",
    "print(x)\n",
    "y=11%4\n",
    "print(y)\n",
    "z=11//4\n",
    "print(z)\n",
    "q=11**4\n",
    "print(q)"
   ]
  },
  {
   "cell_type": "code",
   "execution_count": 17,
   "id": "c6e425a1-d17b-437f-9b20-f17f266efe42",
   "metadata": {},
   "outputs": [
    {
     "name": "stdout",
     "output_type": "stream",
     "text": [
      "22 ->type=<class 'int'>, 34 ->type=<class 'int'>, 7.1 ->type=<class 'float'>, sdd ->type=<class 'str'>, v ->type=<class 'str'>, "
     ]
    }
   ],
   "source": [
    "# Q4. Create a list of length 10 of your choice containing multiple types of data. Using for loop print the\n",
    "# element and its data type.\n",
    "v=[22,34,7.1,\"sdd\",'v']\n",
    "n=len(v)\n",
    "for i in range(n):\n",
    "    print(f\"{v[i]} ->type={type(v[i])},\",end=\" \")\n"
   ]
  },
  {
   "cell_type": "code",
   "execution_count": 18,
   "id": "59bc8d6f-d2c3-4c22-bb1b-e69da2ef0eec",
   "metadata": {},
   "outputs": [
    {
     "name": "stdin",
     "output_type": "stream",
     "text": [
      "Enter A: 34\n",
      "Enter B: 2\n"
     ]
    },
    {
     "name": "stdout",
     "output_type": "stream",
     "text": [
      "A=17.0 is divible by B=2 and by 1 times\n"
     ]
    }
   ],
   "source": [
    "# Q5. Using a while loop, verify if the number A is purely divisible by number B and if so then how many\n",
    "# times it can be divisible.\n",
    "A=int(input(\"Enter A:\"))\n",
    "B=int(input(\"Enter B:\"))\n",
    "cnt=0\n",
    "while(A%B==0):\n",
    "    A=A/B\n",
    "    cnt+=1\n",
    "print(f\"A={A} is divible by B={B} and by {cnt} times\")"
   ]
  },
  {
   "cell_type": "code",
   "execution_count": 25,
   "id": "6e3f5121-506c-44b0-958d-bf54f8b8480d",
   "metadata": {},
   "outputs": [
    {
     "name": "stdout",
     "output_type": "stream",
     "text": [
      "1 is not divisble by 3\n",
      "3 is divisble by 3\n",
      "55 is not divisble by 3\n",
      "6 is divisble by 3\n",
      "7 is not divisble by 3\n",
      "8 is not divisble by 3\n",
      "9 is divisble by 3\n",
      "44 is not divisble by 3\n",
      "67 is not divisble by 3\n",
      "68 is not divisble by 3\n",
      "45 is divisble by 3\n",
      "34 is not divisble by 3\n",
      "2 is not divisble by 3\n",
      "77 is not divisble by 3\n",
      "21 is divisble by 3\n",
      "24 is divisble by 3\n",
      "36 is divisble by 3\n",
      "47 is not divisble by 3\n",
      "59 is not divisble by 3\n",
      "23 is not divisble by 3\n",
      "90 is divisble by 3\n",
      "100 is not divisble by 3\n",
      "31 is not divisble by 3\n",
      "30 is divisble by 3\n",
      "88 is not divisble by 3\n"
     ]
    }
   ],
   "source": [
    "# Q6. Create a list containing 25 int type data. Using for loop and if-else condition print if the element is\n",
    "# divisible by 3 or not.\n",
    "v=[1,3,55,6,7,8,9,44,67,68,45,34,2,77,21 ,24, 36,47,59,23,90,100,31,30,88]\n",
    "for i in v:\n",
    "    if(i%3==0):\n",
    "        print(f\"{i} is divisble by 3\")\n",
    "    else:\n",
    "        print(f\"{i} is not divisble by 3\")\n"
   ]
  },
  {
   "cell_type": "code",
   "execution_count": 29,
   "id": "e4578dc7-93c6-4601-97ac-56a826894dfc",
   "metadata": {},
   "outputs": [
    {
     "name": "stdout",
     "output_type": "stream",
     "text": [
      "[1, 2, 3, 4]\n",
      "[1, 2, 3, 4, 5]\n",
      "{1: 33, 2: 34, 3: 35}\n",
      "{1: 88, 2: 34, 3: 35, 4: 36}\n",
      "(2, 3)\n",
      "(2, 3, 3, 4)\n"
     ]
    }
   ],
   "source": [
    "# Q7. What do you understand about mutable and immutable data types? Give examples for both showing\n",
    "# this property.\n",
    "# Mutable types\n",
    "v=[1,2,3,4] # ex1\n",
    "print(v)\n",
    "v.append(5)\n",
    "print(v)\n",
    "s={1:33,2:34,3:35} # ex2\n",
    "print(s)\n",
    "s[1]=88\n",
    "s[4]=36\n",
    "print(s)\n",
    "#Immutable types\n",
    "c=(2,3)\n",
    "print(c)\n",
    "# c[0]=3 #Type error\n",
    "n_c=c+(3,4)\n",
    "print(n_c)"
   ]
  },
  {
   "cell_type": "code",
   "execution_count": null,
   "id": "4394041d-7b7b-4fd7-89f7-71b4d3b81318",
   "metadata": {},
   "outputs": [],
   "source": []
  }
 ],
 "metadata": {
  "kernelspec": {
   "display_name": "Python 3 (ipykernel)",
   "language": "python",
   "name": "python3"
  },
  "language_info": {
   "codemirror_mode": {
    "name": "ipython",
    "version": 3
   },
   "file_extension": ".py",
   "mimetype": "text/x-python",
   "name": "python",
   "nbconvert_exporter": "python",
   "pygments_lexer": "ipython3",
   "version": "3.10.8"
  }
 },
 "nbformat": 4,
 "nbformat_minor": 5
}
