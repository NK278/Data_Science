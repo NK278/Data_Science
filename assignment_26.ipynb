{
 "cells": [
  {
   "cell_type": "markdown",
   "id": "5de03277-e63d-487f-b8d3-7f8099b9499c",
   "metadata": {},
   "source": [
    "Q1. What is the Probability density function?\n"
   ]
  },
  {
   "cell_type": "markdown",
   "id": "9f32b0c0-f798-4f8f-9a4b-7a14bdbb101b",
   "metadata": {},
   "source": [
    "Ans: The Probability Density Function (PDF) is a concept in probability theory and statistics. It describes the likelihood of a continuous random variable falling within a particular range of values. For a continuous random variable, the probability of it taking any specific value is technically zero. Instead, the PDF provides the probability of the variable falling within a small interval around a given value.\n",
    "\n",
    "Mathematically, the PDF is often denoted as \\( f(x) \\) and is defined such that the probability of the random variable \\( X \\) lying in the interval \\([a, b]\\) is given by the integral of the PDF over that interval:\n",
    "\n",
    "\\[ P(a \\leq X \\leq b) = \\int_{a}^{b} f(x) \\, dx \\]\n",
    "\n",
    "The properties of the PDF include:\n",
    "\n",
    "1. The PDF must be non-negative for all values of \\( x \\): \\( f(x) \\geq 0 \\).\n",
    "2. The total area under the PDF curve over the entire range of possible values is equal to 1: \\( \\int_{-\\infty}^{\\infty} f(x) \\, dx = 1 \\).\n",
    "\n",
    "The cumulative distribution function (CDF) is related to the PDF and gives the probability that the random variable \\( X \\) is less than or equal to a certain value \\( x \\). It is the integral of the PDF up to that point:\n",
    "\n",
    "\\[ F(x) = \\int_{-\\infty}^{x} f(t) \\, dt \\]\n",
    "\n",
    "In summary, the PDF is a fundamental concept in probability theory that helps describe the distribution of continuous random variables. It provides a way to model and analyze the likelihood of different outcomes within a continuous range."
   ]
  },
  {
   "cell_type": "markdown",
   "id": "b0fa0d11-6ae4-46f0-8c79-cb4b145bc443",
   "metadata": {},
   "source": [
    "Q2. What are the types of Probability distribution?\n"
   ]
  },
  {
   "cell_type": "markdown",
   "id": "23f6d902-fa47-4982-8ec3-ea321e246fb0",
   "metadata": {},
   "source": [
    "Ans: There are several types of probability distributions, and they are broadly categorized into two main classes: discrete probability distributions and continuous probability distributions.\n",
    "\n",
    "1. **Discrete Probability Distributions:**\n",
    "   - **Bernoulli Distribution:** Models a single trial of a binary experiment (success/failure) with a probability \\( p \\) of success.\n",
    "   - **Binomial Distribution:** Represents the number of successes in a fixed number of independent Bernoulli trials.\n",
    "   - **Poisson Distribution:** Describes the number of events that will occur within a fixed interval of time or space.\n",
    "\n",
    "2. **Continuous Probability Distributions:**\n",
    "   - **Uniform Distribution:** All outcomes in a given range are equally likely.\n",
    "   - **Normal (Gaussian) Distribution:** Describes a symmetric bell-shaped curve and is characterized by its mean and standard deviation.\n",
    "   - **Exponential Distribution:** Models the time between events in a Poisson process (events occur continuously and independently at a constant average rate).\n",
    "   - **Lognormal Distribution:** The logarithm of the random variable follows a normal distribution.\n",
    "   - **Gamma Distribution:** Generalizes the exponential distribution and can model the sum of independent exponential random variables.\n",
    "   - **Beta Distribution:** Often used to model the distribution of random variables limited to a fixed interval.\n",
    "   - **Cauchy Distribution:** Has heavy tails and is often used in physics and engineering.\n",
    "\n",
    "These are just a few examples, and there are many other probability distributions, each with its own characteristics and use cases. The choice of distribution depends on the nature of the data and the assumptions that can be made about the underlying processes. Probability distributions are fundamental in statistics and probability theory, providing a mathematical framework for modeling and analyzing random phenomena."
   ]
  },
  {
   "cell_type": "markdown",
   "id": "6155a3e3-b50c-4d7b-aa86-8147c3ceb372",
   "metadata": {},
   "source": [
    "Q3. Write a Python function to calculate the probability density function of a normal distribution with given mean and standard deviation at a given point.\n",
    "\n"
   ]
  },
  {
   "cell_type": "code",
   "execution_count": 2,
   "id": "8ed2d36b-0064-4694-b636-29e14fce207e",
   "metadata": {},
   "outputs": [
    {
     "name": "stdin",
     "output_type": "stream",
     "text": [
      " 3\n"
     ]
    },
    {
     "name": "stdout",
     "output_type": "stream",
     "text": [
      "pdf @ x=%d 0.0044318484119380075\n"
     ]
    }
   ],
   "source": [
    "import logging\n",
    "import math\n",
    "\n",
    "def normal_pdf(x,u,s):\n",
    "    \"\"\"\n",
    "    Calculate the probability density function (PDF) of a normal distribution.\n",
    "\n",
    "    Parameters:\n",
    "    - x: The point at which to calculate the PDF.\n",
    "    - mean: The mean of the normal distribution.\n",
    "    - std_dev: The standard deviation of the normal distribution.\n",
    "\n",
    "    Returns:\n",
    "    The PDF at the given point x.\n",
    "    \"\"\"\n",
    "    coeff=1/(s*(math.sqrt(2*math.pi)))\n",
    "    exp=-0.5*(((x-u)/s)**2)\n",
    "    val=coeff*math.exp(exp)\n",
    "    return val\n",
    "def z_dist(x):\n",
    "        v=normal_pdf(x,0,1)\n",
    "        return v\n",
    "if __name__==\"__main__\":\n",
    "             x=int(input())\n",
    "             print(f\"pdf @ x=%d\",z_dist(x))\n",
    "             "
   ]
  },
  {
   "cell_type": "markdown",
   "id": "71cb8d38-d5f3-4924-842b-eeafca0c25a5",
   "metadata": {},
   "source": [
    "Q4. What are the properties of Binomial distribution? Give two examples of events where binomial distribution can be applied.\n"
   ]
  },
  {
   "cell_type": "markdown",
   "id": "763e2a1c-5a92-4162-a7de-168a9131a97f",
   "metadata": {},
   "source": [
    "Ans: The Binomial distribution is a discrete probability distribution that models the number of successes in a fixed number of independent Bernoulli trials, where each trial has two possible outcomes: success or failure. The properties of the Binomial distribution include:\n",
    "\n",
    "1. **Number of Trials (n):** The distribution is based on a fixed number of trials, denoted by \\( n \\).\n",
    "\n",
    "2. **Two Possible Outcomes:** Each trial results in one of two outcomes: success (usually denoted by \\( p \\)) or failure (denoted by \\( 1 - p \\)).\n",
    "\n",
    "3. **Independence:** The trials must be independent, meaning the outcome of one trial does not affect the outcome of another.\n",
    "\n",
    "4. **Probability of Success (p):** The probability of success, denoted by \\( p \\), is constant for each trial.\n",
    "\n",
    "5. **Probability Mass Function (PMF):** The probability mass function of the Binomial distribution is given by:\n",
    "   \\[ P(X = k) = \\binom{n}{k} \\cdot p^k \\cdot (1 - p)^{n - k} \\]\n",
    "   where \\( X \\) is the random variable representing the number of successes, \\( k \\) is the number of successes, \\( n \\) is the number of trials, \\( p \\) is the probability of success, and \\( (1 - p) \\) is the probability of failure.\n",
    "\n",
    "Examples of events where the Binomial distribution can be applied:\n",
    "\n",
    "1. **Coin Flipping:** The classic example of a Binomial distribution is the number of heads obtained when flipping a biased coin multiple times. If you have a biased coin with a probability \\( p \\) of landing heads, and you flip it \\( n \\) times, the number of heads follows a Binomial distribution.\n",
    "\n",
    "2. **Quality Control:** In manufacturing processes, products are often classified as either defective or non-defective. The Binomial distribution can be used to model the number of defective items in a sample of a certain size, assuming each item is produced independently and has a constant probability of being defective."
   ]
  },
  {
   "cell_type": "markdown",
   "id": "a6ef28b7-b574-4a94-b4a2-c414b10cf036",
   "metadata": {},
   "source": [
    "Q5. Generate a random sample of size 1000 from a binomial distribution with probability of success 0.4 and plot a histogram of the results using matplotlib.\n"
   ]
  },
  {
   "cell_type": "code",
   "execution_count": 3,
   "id": "a0fb837b-85b0-4d29-85b4-b78a3b0e10a7",
   "metadata": {},
   "outputs": [
    {
     "data": {
      "image/png": "[encoded data removed]",
      "text/plain": [
       "<Figure size 640x480 with 1 Axes>"
      ]
     },
     "metadata": {},
     "output_type": "display_data"
    }
   ],
   "source": [
    "import numpy as np\n",
    "import matplotlib.pyplot as plt\n",
    "\n",
    "# Set the parameters for the binomial distribution\n",
    "n = 1000  # Number of trials\n",
    "p = 0.4   # Probability of success\n",
    "\n",
    "# Generate a random sample from the binomial distribution\n",
    "random_sample = np.random.binomial(n, p, size=1000)\n",
    "\n",
    "# Plot a histogram of the random sample\n",
    "plt.hist(random_sample, bins=np.arange(0, n + 1), density=True, alpha=0.75, color='blue', edgecolor='black')\n",
    "\n",
    "# Add labels and title to the plot\n",
    "plt.xlabel('Number of Successes')\n",
    "plt.ylabel('Probability')\n",
    "plt.title(f'Binomial Distribution (n={n}, p={p})')\n",
    "\n",
    "# Display the plot\n",
    "plt.show()\n"
   ]
  },
  {
   "cell_type": "markdown",
   "id": "f63bee3c-67e0-4e6a-9681-e117d8e8f7ff",
   "metadata": {},
   "source": [
    "Q6. Write a Python function to calculate the cumulative distribution function of a Poisson distribution with given mean at a given point.\n",
    "\n"
   ]
  },
  {
   "cell_type": "code",
   "execution_count": 4,
   "id": "7c277dc0-6dea-4035-a3cf-17ed9b836d2b",
   "metadata": {},
   "outputs": [
    {
     "name": "stdout",
     "output_type": "stream",
     "text": [
      "The CDF at k=3 is: 0.8571234604985472\n"
     ]
    }
   ],
   "source": [
    "import math\n",
    "\n",
    "def poisson_cdf(k, mean):\n",
    "    \"\"\"\n",
    "    Calculate the cumulative distribution function (CDF) of a Poisson distribution.\n",
    "\n",
    "    Parameters:\n",
    "    - k: The point at which to calculate the CDF.\n",
    "    - mean: The mean of the Poisson distribution.\n",
    "\n",
    "    Returns:\n",
    "    The CDF at the given point k.\n",
    "    \"\"\"\n",
    "    cdf_value = 0\n",
    "    for i in range(k + 1):\n",
    "        cdf_value += (math.exp(-mean) * (mean**i)) / math.factorial(i)\n",
    "    return cdf_value\n",
    "\n",
    "# Example usage:\n",
    "mean_value = 2  # Replace with the desired mean\n",
    "point = 3  # Replace with the desired point\n",
    "\n",
    "cdf_at_point = poisson_cdf(point, mean_value)\n",
    "print(f\"The CDF at k={point} is: {cdf_at_point}\")\n"
   ]
  },
  {
   "cell_type": "markdown",
   "id": "640b2599-7b51-4832-8bf7-53eb9d8abfe0",
   "metadata": {},
   "source": [
    "Q7. How Binomial distribution different from Poisson distribution?\n",
    "\n"
   ]
  },
  {
   "cell_type": "markdown",
   "id": "7f6ca6e8-0571-4829-82ab-7705f05dddd0",
   "metadata": {},
   "source": [
    "Ans: The Binomial distribution and the Poisson distribution are both probability distributions, but they are used to model different types of random phenomena. Here are some key differences between the Binomial distribution and the Poisson distribution:\n",
    "\n",
    "1. **Nature of Events:**\n",
    "   - **Binomial Distribution:** Models the number of successes in a fixed number of independent Bernoulli trials, where each trial has two possible outcomes (success or failure). The trials are discrete and finite.\n",
    "   - **Poisson Distribution:** Models the number of events that occur in a fixed interval of time or space. The events are assumed to occur independently, and the distribution is used to describe rare events in continuous time or space.\n",
    "\n",
    "2. **Number of Trials:**\n",
    "   - **Binomial Distribution:** Requires a fixed number of trials (\\(n\\)) to be specified in advance.\n",
    "   - **Poisson Distribution:** Does not involve a fixed number of trials; it describes the number of events in a continuous or large number of trials.\n",
    "\n",
    "3. **Probability of Success:**\n",
    "   - **Binomial Distribution:** Each trial has a constant probability of success (\\(p\\)).\n",
    "   - **Poisson Distribution:** Describes events that occur randomly and independently, and the parameter (\\(\\lambda\\)) represents the average rate of events per unit of time or space.\n",
    "\n",
    "4. **Type of Random Variable:**\n",
    "   - **Binomial Distribution:** Deals with a discrete random variable representing the number of successes in a fixed number of trials.\n",
    "   - **Poisson Distribution:** Deals with a discrete random variable representing the number of events in a fixed interval of time or space.\n",
    "\n",
    "5. **Conditions:**\n",
    "   - **Binomial Distribution:** Appropriate when there is a fixed number of trials, each with two possible outcomes, and the trials are independent.\n",
    "   - **Poisson Distribution:** Appropriate for rare events where the average rate of occurrence is constant, and events are independent.\n",
    "\n",
    "6. **Limiting Case:**\n",
    "   - **Binomial Distribution:** Converges to the Poisson distribution as the number of trials (\\(n\\)) becomes large and the probability of success (\\(p\\)) becomes small, while keeping the product \\(np\\) constant.\n",
    "   - **Poisson Distribution:** Can be considered a limiting case of the Binomial distribution when the number of trials is large and the probability of success is small.\n",
    "\n",
    "In summary, while both the Binomial and Poisson distributions deal with discrete random variables, they are applied to different types of scenarios—one involving a fixed number of trials with two outcomes, and the other involving the occurrence of rare events over a continuous interval."
   ]
  },
  {
   "cell_type": "markdown",
   "id": "6b5d0544-79f8-4113-aa9c-ebe2cf55435c",
   "metadata": {},
   "source": [
    "Q8. Generate a random sample of size 1000 from a Poisson distribution with mean 5 and calculate the sample mean and variance.\n",
    "\n"
   ]
  },
  {
   "cell_type": "code",
   "execution_count": 5,
   "id": "4710b5db-e127-43ca-b86f-a2bc466c3dc5",
   "metadata": {},
   "outputs": [
    {
     "name": "stdout",
     "output_type": "stream",
     "text": [
      "Sample Mean: 4.86\n",
      "Sample Variance: 4.5929929929929925\n"
     ]
    }
   ],
   "source": [
    "import numpy as np\n",
    "\n",
    "# Set the parameters for the Poisson distribution\n",
    "mean_value = 5\n",
    "\n",
    "# Generate a random sample from the Poisson distribution\n",
    "random_sample = np.random.poisson(mean_value, size=1000)\n",
    "\n",
    "# Calculate the sample mean and variance\n",
    "sample_mean = np.mean(random_sample)\n",
    "sample_variance = np.var(random_sample, ddof=1)  # ddof=1 for unbiased variance estimate\n",
    "\n",
    "# Print the results\n",
    "print(f\"Sample Mean: {sample_mean}\")\n",
    "print(f\"Sample Variance: {sample_variance}\")\n"
   ]
  },
  {
   "cell_type": "markdown",
   "id": "a7294ddc-a2f5-4e7c-aca2-3ffe24ac0d44",
   "metadata": {},
   "source": [
    "Q9. How mean and variance are related in Binomial distribution and Poisson distribution?\n",
    "\n"
   ]
  },
  {
   "cell_type": "markdown",
   "id": "859c1618-e1e5-4dfc-aae4-bff7eddd1106",
   "metadata": {},
   "source": [
    "Ans: The mean (\\(\\mu\\)) and variance (\\(\\sigma^2\\)) of a probability distribution provide information about the central tendency and the spread of the distribution, respectively. The relationship between the mean and variance differs between the Binomial distribution and the Poisson distribution.\n",
    "\n",
    "### Binomial Distribution:\n",
    "\n",
    "For a Binomial distribution with parameters \\(n\\) (number of trials) and \\(p\\) (probability of success in each trial), the mean (\\(\\mu\\)) and variance (\\(\\sigma^2\\)) are related as follows:\n",
    "\n",
    "\\[ \\mu = np \\]\n",
    "\n",
    "\\[ \\sigma^2 = np(1 - p) \\]\n",
    "\n",
    "In other words, the mean of a Binomial distribution is equal to the product of the number of trials (\\(n\\)) and the probability of success (\\(p\\)). The variance is the product of \\(np\\) and the probability of failure (\\(1 - p\\)).\n",
    "\n",
    "### Poisson Distribution:\n",
    "\n",
    "For a Poisson distribution with parameter \\(\\lambda\\) (average rate of events per unit of time or space), the mean (\\(\\mu\\)) and variance (\\(\\sigma^2\\)) are both equal to \\(\\lambda\\):\n",
    "\n",
    "\\[ \\mu = \\lambda \\]\n",
    "\n",
    "\\[ \\sigma^2 = \\lambda \\]\n",
    "\n",
    "In the Poisson distribution, the mean and variance are both determined by the parameter \\(\\lambda\\), which represents the average rate of events. This property arises from the assumption of independence and a constant rate of event occurrence.\n",
    "\n",
    "### Summary:\n",
    "\n",
    "- In the Binomial distribution, the variance depends on both the number of trials (\\(n\\)) and the probability of success (\\(p\\)).\n",
    "- In the Poisson distribution, the mean and variance are both determined by the average rate parameter (\\(\\lambda\\)), and they are equal to each other.\n",
    "\n",
    "Understanding the relationship between mean and variance is essential for characterizing the shape and variability of probability distributions and is useful in various statistical analyses."
   ]
  },
  {
   "cell_type": "markdown",
   "id": "8f8b0ba5-cd6c-4dad-9034-ad8d240de6ba",
   "metadata": {},
   "source": [
    "Q10. In normal distribution with respect to mean position, where does the least frequent data appear?\n"
   ]
  },
  {
   "cell_type": "markdown",
   "id": "568a74e4-b1b9-44ff-978c-444f9a348a9f",
   "metadata": {},
   "source": [
    "Ans: In a normal distribution, also known as a Gaussian distribution or bell curve, the data is symmetrically distributed around the mean. The mean is the central point of the distribution, and the probability density is highest at the mean.\n",
    "\n",
    "The least frequent data in a normal distribution appears in the tails, which are the regions farthest from the mean on either side. As you move away from the mean in either direction, the probability density decreases. The tails of the distribution represent extreme values, and data points in these regions are less likely to occur.\n",
    "\n",
    "In a standard normal distribution (a normal distribution with a mean of 0 and a standard deviation of 1), about 68% of the data falls within one standard deviation of the mean, 95% within two standard deviations, and approximately 99.7% within three standard deviations. This leaves only a small percentage (0.3%) in the tails beyond three standard deviations.\n",
    "\n",
    "So, the least frequent data in a normal distribution is found in the extreme tails, far away from the mean."
   ]
  }
 ],
 "metadata": {
  "kernelspec": {
   "display_name": "Python 3 (ipykernel)",
   "language": "python",
   "name": "python3"
  },
  "language_info": {
   "codemirror_mode": {
    "name": "ipython",
    "version": 3
   },
   "file_extension": ".py",
   "mimetype": "text/x-python",
   "name": "python",
   "nbconvert_exporter": "python",
   "pygments_lexer": "ipython3",
   "version": "3.10.8"
  }
 },
 "nbformat": 4,
 "nbformat_minor": 5
}
