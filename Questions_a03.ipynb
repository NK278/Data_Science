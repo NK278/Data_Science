{
 "cells": [
  {
   "cell_type": "code",
   "execution_count": 1,
   "id": "e4781a49-1c5b-4a57-83b1-4d8867cc1e91",
   "metadata": {},
   "outputs": [
    {
     "name": "stdout",
     "output_type": "stream",
     "text": [
      "[1, 3, 5, 7, 9, 11, 13, 15, 17, 19, 21, 23, 25]\n"
     ]
    }
   ],
   "source": [
    "# Q1. Which keyword is used to create a function? Create a function to return a list of odd numbers in the\n",
    "# range of 1 to 25.\n",
    "# Ans: def keyword is used to create a function\n",
    "def odd_n():\n",
    "    l=[]\n",
    "    for i in range(1,26):\n",
    "        if(i%2!=0): l.append(i)\n",
    "    return l\n",
    "l=odd_n()\n",
    "print(l)"
   ]
  },
  {
   "cell_type": "code",
   "execution_count": 4,
   "id": "8691cfd7-dee5-4b30-8d11-d2725d538762",
   "metadata": {},
   "outputs": [
    {
     "name": "stdout",
     "output_type": "stream",
     "text": [
      "OnePiece\n",
      "name:Nishchal\n",
      "rollno:2022330\n",
      "name:Niteen\n",
      "rollno:2022336\n"
     ]
    }
   ],
   "source": [
    "# Q2. Why *args and **kwargs is used in some functions? Create a function each for *args and **kwargs\n",
    "# to demonstrate their use.\n",
    "# Ans: The *args parameter allows a function to accept any number of positional arguments. It collects all the positional arguments passed to the function into a tuple.\n",
    "# Eg:\n",
    "def cn_s(*args):\n",
    "    r=\"\"\n",
    "    for i in args:\n",
    "        r+=i\n",
    "    return r\n",
    "print(cn_s(\"One\" ,\"Piece\"))\n",
    "# The **kwargs parameter allows a function to accept any number of keyword arguments (or named arguments). It collects all the keyword arguments passed to the function into a dictionary\n",
    "# Eg:\n",
    "def st_r(**kwargs):\n",
    "    for k,i in kwargs.items():\n",
    "        print(f\"{k}:{i}\")\n",
    "st_r(name=\"Nishchal\",rollno=2022330)\n",
    "st_r(name=\"Niteen\",rollno=2022336)"
   ]
  },
  {
   "cell_type": "code",
   "execution_count": 7,
   "id": "464f60ef-4f54-4f05-9e41-576d446acf3e",
   "metadata": {},
   "outputs": [
    {
     "name": "stdout",
     "output_type": "stream",
     "text": [
      "2 4 6 8 10 "
     ]
    }
   ],
   "source": [
    "# Q3. What is an iterator in python? Name the method used to initialise the iterator object and the method\n",
    "# used for iteration. Use these methods to print the first five elements of the given list [2, 4, 6, 8, 10, 12, 14,\n",
    "# 16, 18, 20].\n",
    "# Ans: In Python, an iterator is an object that implements the iterator protocol, which consists of the __iter__() and __next__() methods. An iterator allows you to traverse through a sequence of elements one by one.\n",
    "# The __iter__() method is used to initialize an iterator object. It is responsible for returning the iterator object itself. The __next__() method is used for iteration. It retrieves the next element from the iterator.\n",
    "l=[2, 4, 6, 8, 10, 12, 14,16, 18, 20]\n",
    "l1=iter(l)\n",
    "for i in range(5):\n",
    "    print(next(l1),end=\" \")"
   ]
  },
  {
   "cell_type": "code",
   "execution_count": 10,
   "id": "ad55f56b-77ea-4782-ba91-8d61c6e319ca",
   "metadata": {},
   "outputs": [
    {
     "name": "stdout",
     "output_type": "stream",
     "text": [
      "0 2 4 6 8 "
     ]
    }
   ],
   "source": [
    "# Q4. What is a generator function in python? Why yield keyword is used? Give an example of a generator\n",
    "# function.\n",
    "# Ans: a generator function is a special type of function that uses the yield keyword to return an iterator object. Instead of returning a single value like a regular function, a generator function generates a sequence of values that can be iterated over. The generator function is executed when the iterator is iterated, and it remembers its state between successive iterations.\n",
    "# The yield keyword is used in a generator function to define points at which the function should pause and yield a value. When the generator function encounters a yield statement, it returns the yielded value and temporarily suspends its execution. The function can then be resumed from where it left off, allowing it to generate the next value in the sequence when requested.\n",
    "# The primary benefit of using generator functions is that they are memory-efficient.\n",
    "# Eg:\n",
    "def even():\n",
    "    n=0\n",
    "    while(True):\n",
    "        yield n\n",
    "        n+=2\n",
    "f=even()\n",
    "for i in range(5):\n",
    "    print(next(f),end=\" \")"
   ]
  },
  {
   "cell_type": "code",
   "execution_count": 14,
   "id": "759be869-c6ff-416f-8a15-52630aa9230f",
   "metadata": {},
   "outputs": [
    {
     "name": "stdout",
     "output_type": "stream",
     "text": [
      "2 3 5 7 11 13 17 19 23 29 31 37 41 43 47 53 59 61 67 71 "
     ]
    }
   ],
   "source": [
    "# Q5. Create a generator function for prime numbers less than 1000. Use the next() method to print the\n",
    "# first 20 prime numbers.\n",
    "# Ans:\n",
    "def prime():\n",
    "    yield 2\n",
    "    p=[2]\n",
    "    x=3\n",
    "    while(x<1000):\n",
    "        is_p=True\n",
    "        for i in p:\n",
    "            if(i*i>x): break\n",
    "            if(x%i==0):\n",
    "                is_p=False\n",
    "                break\n",
    "        if(is_p):\n",
    "            p.append(x)\n",
    "            yield x\n",
    "        x+=2\n",
    "        \n",
    "d=prime()\n",
    "for i in range(20):\n",
    "    print(next(d),end=\" \")\n",
    "    "
   ]
  },
  {
   "cell_type": "code",
   "execution_count": 17,
   "id": "87305d82-772f-4d75-af67-0fa44be4e7d5",
   "metadata": {},
   "outputs": [
    {
     "name": "stdout",
     "output_type": "stream",
     "text": [
      "0 1 1 2 3 5 8 13 21 34 "
     ]
    }
   ],
   "source": [
    "# Q6. Write a python program to print the first 10 Fibonacci numbers using a while loop.\n",
    "def fib():\n",
    "    a,b=0,1\n",
    "    c=0\n",
    "    while(c<10):\n",
    "        print(a,end=\" \")\n",
    "        x=a+b\n",
    "        a=b\n",
    "        b=x\n",
    "        c+=1\n",
    "fib()"
   ]
  },
  {
   "cell_type": "code",
   "execution_count": 21,
   "id": "af842052-b71f-4f3d-9b35-ef3108125584",
   "metadata": {},
   "outputs": [
    {
     "name": "stdout",
     "output_type": "stream",
     "text": [
      "['p', 'w', 's', 'k', 'i', 'l', 'l', 's']\n"
     ]
    }
   ],
   "source": [
    "# Q7. Write a List Comprehension to iterate through the given string: ‘pwskills’.\n",
    "# Expected output: ['p', 'w', 's', 'k', 'i', 'l', 'l', 's']\n",
    "s=\"pwskills\"\n",
    "print(list(s))"
   ]
  },
  {
   "cell_type": "code",
   "execution_count": 27,
   "id": "78dd204c-5d6f-4a11-a214-e91abb2e9b7c",
   "metadata": {},
   "outputs": [
    {
     "name": "stdout",
     "output_type": "stream",
     "text": [
      "123 is not pallindrome\n",
      "None\n"
     ]
    }
   ],
   "source": [
    "# Q8. Write a python program to check whether a given number is Palindrome or not using a while loop.\n",
    "def palindrome(n):\n",
    "    t=n\n",
    "    v=[]\n",
    "    while(t>0):\n",
    "        v.insert(0,t%10)\n",
    "        t//=10\n",
    "    v_r=v.reverse()\n",
    "    if(v_r==v):\n",
    "        print(f\"{n} is pallindrome\")\n",
    "    else:\n",
    "        print(f\"{n} is not pallindrome\")\n",
    "print(palindrome(123))"
   ]
  },
  {
   "cell_type": "code",
   "execution_count": 29,
   "id": "8833d34a-255f-404d-b775-287c5b1882af",
   "metadata": {},
   "outputs": [
    {
     "name": "stdout",
     "output_type": "stream",
     "text": [
      "[1, 3, 5, 7, 9, 11, 13, 15, 17, 19, 21, 23, 25, 27, 29, 31, 33, 35, 37, 39, 41, 43, 45, 47, 49, 51, 53, 55, 57, 59, 61, 63, 65, 67, 69, 71, 73, 75, 77, 79, 81, 83, 85, 87, 89, 91, 93, 95, 97, 99]\n"
     ]
    }
   ],
   "source": [
    "# Q9. Write a code to print odd numbers from 1 to 100 using list comprehension.\n",
    "n=100\n",
    "l1=[i for i in range(1,n+1)]\n",
    "l2=list(filter(lambda x: x%2!=0,l1))\n",
    "print(l2)\n"
   ]
  },
  {
   "cell_type": "code",
   "execution_count": null,
   "id": "272ca621-d4b9-41eb-9088-72e425491999",
   "metadata": {},
   "outputs": [],
   "source": []
  },
  {
   "cell_type": "code",
   "execution_count": null,
   "id": "e00a67c9-2ebc-4b05-9b19-47b4aa849178",
   "metadata": {},
   "outputs": [],
   "source": []
  }
 ],
 "metadata": {
  "kernelspec": {
   "display_name": "Python 3 (ipykernel)",
   "language": "python",
   "name": "python3"
  },
  "language_info": {
   "codemirror_mode": {
    "name": "ipython",
    "version": 3
   },
   "file_extension": ".py",
   "mimetype": "text/x-python",
   "name": "python",
   "nbconvert_exporter": "python",
   "pygments_lexer": "ipython3",
   "version": "3.10.8"
  }
 },
 "nbformat": 4,
 "nbformat_minor": 5
}
