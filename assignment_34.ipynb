{
 "cells": [
  {
   "cell_type": "markdown",
   "id": "c75d07db-b5b0-449f-8bce-9b9b1352c590",
   "metadata": {},
   "source": [
    "Q1. Pearson correlation coefficient is a measure of the linear relationship between two variables. Suppose\n",
    "you have collected data on the amount of time students spend studying for an exam and their final exam\n",
    "scores. Calculate the Pearson correlation coefficient between these two variables and interpret the result."
   ]
  },
  {
   "cell_type": "code",
   "execution_count": 1,
   "id": "f10da479-f2e6-4724-8856-afe0163ae2ef",
   "metadata": {},
   "outputs": [
    {
     "name": "stdout",
     "output_type": "stream",
     "text": [
      "Pearson Correlation Coefficient: 0.9690327085521431\n"
     ]
    }
   ],
   "source": [
    "import numpy as np\n",
    "\n",
    "# Sample data (replace with your actual data)\n",
    "study_time = [10, 12, 8, 15, 9]\n",
    "exam_scores = [85, 88, 78, 92, 80]\n",
    "\n",
    "# Calculate Pearson correlation coefficient\n",
    "correlation_coefficient = np.corrcoef(study_time, exam_scores)[0, 1]\n",
    "\n",
    "# Display the result\n",
    "print(f\"Pearson Correlation Coefficient: {correlation_coefficient}\")\n"
   ]
  },
  {
   "cell_type": "markdown",
   "id": "379d90ac-23d7-47a0-b215-442fdf4f59c5",
   "metadata": {},
   "source": [
    "Q2. Spearman's rank correlation is a measure of the monotonic relationship between two variables.\n",
    "Suppose you have collected data on the amount of sleep individuals get each night and their overall job\n",
    "satisfaction level on a scale of 1 to 10. Calculate the Spearman's rank correlation between these two\n",
    "variables and interpret the result."
   ]
  },
  {
   "cell_type": "code",
   "execution_count": 2,
   "id": "2389c60b-bc92-4edf-86e8-8cee61bf5564",
   "metadata": {},
   "outputs": [
    {
     "name": "stdout",
     "output_type": "stream",
     "text": [
      "Spearman's Rank Correlation Coefficient: 0.9746794344808963\n",
      "P-value: 0.004818230468198566\n"
     ]
    }
   ],
   "source": [
    "from scipy.stats import spearmanr\n",
    "\n",
    "# Sample data (replace with your actual data)\n",
    "sleep_hours = [7, 5, 8, 6, 7]\n",
    "job_satisfaction = [8, 4, 9, 6, 7]\n",
    "\n",
    "# Calculate Spearman's rank correlation coefficient\n",
    "rho, p_value = spearmanr(sleep_hours, job_satisfaction)\n",
    "\n",
    "# Display the result\n",
    "print(f\"Spearman's Rank Correlation Coefficient: {rho}\")\n",
    "print(f\"P-value: {p_value}\")\n"
   ]
  },
  {
   "cell_type": "markdown",
   "id": "247dcad4-421c-48ee-a9dd-fd06e9868385",
   "metadata": {},
   "source": [
    "Q3. Suppose you are conducting a study to examine the relationship between the number of hours of\n",
    "exercise per week and body mass index (BMI) in a sample of adults. You collected data on both variables\n",
    "for 50 participants. Calculate the Pearson correlation coefficient and the Spearman's rank correlation\n",
    "between these two variables and compare the results."
   ]
  },
  {
   "cell_type": "code",
   "execution_count": 3,
   "id": "a6281f87-0355-442b-8dc5-a5d11abb80cc",
   "metadata": {},
   "outputs": [
    {
     "name": "stdout",
     "output_type": "stream",
     "text": [
      "Pearson Correlation Coefficient: 0.9794698748482661\n",
      "P-value: 4.8113973194307496e-35\n",
      "\n",
      "Spearman's Rank Correlation Coefficient: 0.98902239915174\n",
      "P-value: 1.5965718731320458e-41\n"
     ]
    }
   ],
   "source": [
    "import numpy as np\n",
    "from scipy.stats import pearsonr, spearmanr\n",
    "\n",
    "# Sample data (replace with your actual data)\n",
    "hours_of_exercise = [3, 5, 2, 4, 1, 6, 3, 5, 2, 4,\n",
    "                     1, 6, 3, 5, 2, 4, 1, 6, 3, 5,\n",
    "                     2, 4, 1, 6, 3, 5, 2, 4, 1, 6,\n",
    "                     3, 5, 2, 4, 1, 6, 3, 5, 2, 4,\n",
    "                     1, 6, 3, 5, 2, 4, 1, 6, 3, 5]\n",
    "\n",
    "bmi = [25, 30, 22, 28, 20, 32, 26, 31, 21, 29,\n",
    "       19, 33, 27, 30, 23, 28, 20, 32, 26, 31,\n",
    "       21, 29, 19, 33, 27, 30, 23, 28, 20, 32,\n",
    "       26, 31, 21, 29, 19, 33, 27, 30, 23, 28,\n",
    "       20, 32, 26, 31, 21, 29, 19, 33, 27, 30]\n",
    "\n",
    "# Calculate Pearson correlation coefficient\n",
    "pearson_corr, pearson_p_value = pearsonr(hours_of_exercise, bmi)\n",
    "\n",
    "# Calculate Spearman's rank correlation coefficient\n",
    "spearman_corr, spearman_p_value = spearmanr(hours_of_exercise, bmi)\n",
    "\n",
    "# Display the results\n",
    "print(f\"Pearson Correlation Coefficient: {pearson_corr}\")\n",
    "print(f\"P-value: {pearson_p_value}\")\n",
    "print()\n",
    "print(f\"Spearman's Rank Correlation Coefficient: {spearman_corr}\")\n",
    "print(f\"P-value: {spearman_p_value}\")\n"
   ]
  },
  {
   "cell_type": "markdown",
   "id": "b8e839f3-101b-4237-87d6-307df78d3ce6",
   "metadata": {},
   "source": [
    "Q4. A researcher is interested in examining the relationship between the number of hours individuals\n",
    "spend watching television per day and their level of physical activity. The researcher collected data on\n",
    "both variables from a sample of 50 participants. Calculate the Pearson correlation coefficient between\n",
    "these two variables."
   ]
  },
  {
   "cell_type": "code",
   "execution_count": 6,
   "id": "0d36dfef-a20e-4bce-8adf-1f777a46b582",
   "metadata": {},
   "outputs": [
    {
     "name": "stdout",
     "output_type": "stream",
     "text": [
      "Pearson Correlation Coefficient: -0.991827688728227\n",
      "P-value: 1.3829222974409048e-44\n"
     ]
    }
   ],
   "source": [
    "import numpy as np\n",
    "from scipy.stats import pearsonr\n",
    "\n",
    "# Sample data (replace with your actual data)\n",
    "hours_of_tv = [3, 5, 2, 4, 1, 6, 3, 5, 2, 4,\n",
    "               1, 6, 3, 5, 2, 4, 1, 6, 3, 5,\n",
    "               2, 4, 1, 6, 3, 5, 2, 4, 1, 6,\n",
    "               3, 5, 2, 4, 1, 6, 3, 5, 2, 4,\n",
    "               1, 6, 3, 5, 2, 4, 1, 6, 3, 5]\n",
    "\n",
    "physical_activity_level = [50, 30, 70, 40, 80, 20, 50, 30, 70, 40,\n",
    "                           80, 20, 50, 30, 70, 40, 80, 20, 50, 30,\n",
    "                           70, 40, 80, 20, 50, 30, 70, 40, 80, 20,\n",
    "                           50, 30, 70, 40, 80, 20, 50, 30, 70, 40,\n",
    "                           80, 20, 50, 30, 70, 40, 80, 20, 50, 30]\n",
    "\n",
    "# Calculate Pearson correlation coefficient\n",
    "pearson_corr ,pearson_p_value= pearsonr(hours_of_tv, physical_activity_level)\n",
    "\n",
    "# Display the result\n",
    "print(f\"Pearson Correlation Coefficient: {pearson_corr}\")\n",
    "print(f\"P-value: {pearson_p_value}\")\n"
   ]
  },
  {
   "cell_type": "markdown",
   "id": "a430ffae-4363-4cbb-b3b4-9ff6921f4197",
   "metadata": {},
   "source": [
    "Q5. A survey was conducted to examine the relationship between age and preference for a particular\n",
    "brand of soft drink. The survey results are shown below:\n",
    "\n",
    "Age(Years)\n",
    "25 Coke\n",
    "42 Pepsi\n",
    "37\n",
    "19\n",
    "31\n",
    "28\n",
    "\n",
    "Mountain dew\n",
    "Coke\n",
    "Pepsi\n",
    "Coke"
   ]
  },
  {
   "cell_type": "code",
   "execution_count": 10,
   "id": "d26fd8ac-c392-4746-bac6-d21c6d68ad3b",
   "metadata": {},
   "outputs": [
    {
     "name": "stdout",
     "output_type": "stream",
     "text": [
      "data:    Age  Preference\n",
      "0   25           1\n",
      "1   42           2\n",
      "2   37           3\n",
      "3   19           1\n",
      "4   31           2\n",
      "5   28           1\n",
      "Pearson Correlation Coefficient: 0.7587035441865057\n",
      "P-value: 0.08031134942324109\n"
     ]
    }
   ],
   "source": [
    "import pandas as pd\n",
    "import numpy as np\n",
    "from scipy.stats import pearsonr\n",
    "# Sample data (replace with your actual data)\n",
    "data = {\n",
    "    'Age': [25, 42, 37, 19, 31, 28],\n",
    "    'Preference': ['Coke', 'Pepsi', 'Mountain Dew', 'Coke', 'Pepsi', 'Coke']\n",
    "}\n",
    "\n",
    "df = pd.DataFrame(data)\n",
    "\n",
    "# Convert categorical preferences to numerical labels for correlation calculation\n",
    "preference_mapping = {'Coke': 1, 'Pepsi': 2, 'Mountain Dew': 3}\n",
    "df['Preference'] = df['Preference'].map(preference_mapping)\n",
    "\n",
    "# Calculate Pearson correlation coefficient\n",
    "pearson_corr, pearson_p_value = pearsonr(df['Age'], df['Preference'])\n",
    "\n",
    "# Display the result\n",
    "print(f\"data: {df }\")\n",
    "print(f\"Pearson Correlation Coefficient: {pearson_corr}\")\n",
    "print(f\"P-value: {pearson_p_value}\")\n"
   ]
  },
  {
   "cell_type": "markdown",
   "id": "adafa387-1923-4c90-a7d9-c90261937af9",
   "metadata": {},
   "source": [
    "Q6. A company is interested in examining the relationship between the number of sales calls made per day\n",
    "and the number of sales made per week. The company collected data on both variables from a sample of\n",
    "30 sales representatives. Calculate the Pearson correlation coefficient between these two variables."
   ]
  },
  {
   "cell_type": "code",
   "execution_count": 11,
   "id": "4e5ec8b0-4c23-4c95-aeef-ce67fa0cd365",
   "metadata": {},
   "outputs": [
    {
     "name": "stdout",
     "output_type": "stream",
     "text": [
      "Pearson Correlation Coefficient: 0.39110587423482873\n",
      "P-value: 0.03258927755831762\n"
     ]
    }
   ],
   "source": [
    "import numpy as np\n",
    "from scipy.stats import pearsonr\n",
    "# Sample data (replace with your actual data)\n",
    "sales_calls_per_day = [10, 12, 8, 15, 9, 14, 11, 13, 10, 16,\n",
    "                       12, 18, 14, 10, 15, 11, 13, 17, 12, 14,\n",
    "                       9, 16, 11, 14, 10, 13, 15, 12, 18, 16]\n",
    "\n",
    "sales_per_week = [3, 5, 2, 4, 1, 6, 3, 5, 2, 4,\n",
    "                  1, 6, 3, 5, 2, 4, 1, 6, 3, 5,\n",
    "                  2, 4, 1, 6, 3, 5, 2, 4, 1, 6]\n",
    "\n",
    "# Calculate Pearson correlation coefficient\n",
    "pearson_corr, pearson_p_value =pearsonr(sales_calls_per_day, sales_per_week)\n",
    "\n",
    "# Display the result\n",
    "print(f\"Pearson Correlation Coefficient: {pearson_corr}\")\n",
    "print(f\"P-value: {pearson_p_value}\")\n"
   ]
  }
 ],
 "metadata": {
  "kernelspec": {
   "display_name": "Python 3 (ipykernel)",
   "language": "python",
   "name": "python3"
  },
  "language_info": {
   "codemirror_mode": {
    "name": "ipython",
    "version": 3
   },
   "file_extension": ".py",
   "mimetype": "text/x-python",
   "name": "python",
   "nbconvert_exporter": "python",
   "pygments_lexer": "ipython3",
   "version": "3.10.8"
  }
 },
 "nbformat": 4,
 "nbformat_minor": 5
}
