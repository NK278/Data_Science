{
 "cells": [
  {
   "cell_type": "markdown",
   "id": "44368eb1-88df-4bd9-8ebd-b37d89801ec0",
   "metadata": {},
   "source": [
    "Q1. What is Flask Framework? What are the advantages of Flask Framework?"
   ]
  },
  {
   "cell_type": "markdown",
   "id": "79928ed2-d614-4081-abdd-6e6f3f08c6ae",
   "metadata": {},
   "source": [
    "Ans:Flask is a micro web framework for Python, designed to be simple, lightweight, and easy to use. It is classified as a micro-framework because it provides only the essential tools needed to build web applications. Flask is based on the Werkzeug WSGI toolkit and the Jinja2 template engine, both of which are commonly used in the Python web development ecosystem.\n",
    "\n",
    "Advantages of Flask Framework:\n",
    "1)Lightweight and Simple: Flask is minimalist in design, which means it has a small code base and offers only essential features. This simplicity makes it easy to learn and use for both beginners and experienced developers.\n",
    "\n",
    "2)Flexibility: Flask allows developers to choose the tools and libraries they want to use. It doesn't impose any specific project structure, database, or form-handling methods, giving developers the freedom to select the components that best suit their project's needs.\n",
    "\n",
    "3)Easy to Get Started: With its simple syntax and minimal setup, Flask is quick to get up and running. Developers can create a basic web application with just a few lines of code.\n",
    "\n",
    "4)Extensible: Despite being a micro-framework, Flask can be extended using Flask extensions. These extensions add additional functionality to the framework, making it suitable for a wide range of applications.\n",
    "\n",
    "5)RESTful Support: Flask provides easy-to-use tools for building RESTful APIs, making it an excellent choice for building web services and APIs.\n",
    "\n",
    "6)Well-Documented: Flask has comprehensive and well-organized documentation, making it easier for developers to find the information they need and troubleshoot issues.\n",
    "\n",
    "7)Large Community: Flask has a thriving community of developers, which means you can find a wealth of resources, tutorials, and third-party extensions to help you in your development journey.\n",
    "\n",
    "8)Testing Support: Flask comes with built-in support for unit testing, making it easier to write and execute tests for your web applications.\n",
    "\n",
    "9)Good for Prototyping: Due to its simplicity and speed, Flask is an excellent choice for prototyping and quickly bringing ideas to life.\n",
    "\n",
    "10)Production-Ready: While being lightweight, Flask is still robust enough to be used in production environments for various web applications.\n"
   ]
  },
  {
   "cell_type": "markdown",
   "id": "9d1182e2-9c70-45cc-a1b4-9cd1685fb0fd",
   "metadata": {},
   "source": [
    "Q2. Create a simple Flask application to display ‘Hello World!!’. Attach the screenshot of the output in\n",
    "Jupyter Notebook."
   ]
  },
  {
   "cell_type": "code",
   "execution_count": 1,
   "id": "eea2550a-7a53-4901-bc24-2342ed1565ee",
   "metadata": {},
   "outputs": [
    {
     "name": "stdout",
     "output_type": "stream",
     "text": [
      "Collecting Flask\n",
      "  Downloading Flask-2.3.2-py3-none-any.whl (96 kB)\n",
      "\u001b[2K     \u001b[90m━━━━━━━━━━━━━━━━━━━━━━━━━━━━━━━━━━━━━━━━\u001b[0m \u001b[32m96.9/96.9 kB\u001b[0m \u001b[31m11.7 MB/s\u001b[0m eta \u001b[36m0:00:00\u001b[0m\n",
      "\u001b[?25hCollecting blinker>=1.6.2\n",
      "  Downloading blinker-1.6.2-py3-none-any.whl (13 kB)\n",
      "Collecting itsdangerous>=2.1.2\n",
      "  Downloading itsdangerous-2.1.2-py3-none-any.whl (15 kB)\n",
      "Requirement already satisfied: Jinja2>=3.1.2 in /opt/conda/lib/python3.10/site-packages (from Flask) (3.1.2)\n",
      "Collecting Werkzeug>=2.3.3\n",
      "  Downloading Werkzeug-2.3.6-py3-none-any.whl (242 kB)\n",
      "\u001b[2K     \u001b[90m━━━━━━━━━━━━━━━━━━━━━━━━━━━━━━━━━━━━━━\u001b[0m \u001b[32m242.5/242.5 kB\u001b[0m \u001b[31m28.9 MB/s\u001b[0m eta \u001b[36m0:00:00\u001b[0m\n",
      "\u001b[?25hRequirement already satisfied: click>=8.1.3 in /opt/conda/lib/python3.10/site-packages (from Flask) (8.1.3)\n",
      "Requirement already satisfied: MarkupSafe>=2.0 in /opt/conda/lib/python3.10/site-packages (from Jinja2>=3.1.2->Flask) (2.1.1)\n",
      "Installing collected packages: Werkzeug, itsdangerous, blinker, Flask\n",
      "  Attempting uninstall: blinker\n",
      "    Found existing installation: blinker 1.5\n",
      "    Uninstalling blinker-1.5:\n",
      "      Successfully uninstalled blinker-1.5\n",
      "Successfully installed Flask-2.3.2 Werkzeug-2.3.6 blinker-1.6.2 itsdangerous-2.1.2\n",
      "Note: you may need to restart the kernel to use updated packages.\n"
     ]
    }
   ],
   "source": [
    "pip install Flask"
   ]
  },
  {
   "cell_type": "code",
   "execution_count": 1,
   "id": "17e0c27b-3849-410d-a385-4994a43ca939",
   "metadata": {},
   "outputs": [],
   "source": [
    "from flask import Flask"
   ]
  },
  {
   "cell_type": "code",
   "execution_count": 2,
   "id": "aa64f7a3-c268-4b6b-a0f2-74a70d4dc322",
   "metadata": {},
   "outputs": [],
   "source": [
    "app=Flask(__name__)"
   ]
  },
  {
   "cell_type": "code",
   "execution_count": null,
   "id": "1a4b67ba-76d9-4978-9dba-3177ba10648d",
   "metadata": {},
   "outputs": [
    {
     "name": "stdout",
     "output_type": "stream",
     "text": [
      " * Serving Flask app '__main__'\n",
      " * Debug mode: off\n"
     ]
    },
    {
     "name": "stderr",
     "output_type": "stream",
     "text": [
      "WARNING: This is a development server. Do not use it in a production deployment. Use a production WSGI server instead.\n",
      " * Running on all addresses (0.0.0.0)\n",
      " * Running on http://127.0.0.1:5000\n",
      " * Running on http://172.18.0.31:5000\n",
      "Press CTRL+C to quit\n",
      "172.18.0.2 - - [19/Jul/2023 06:57:04] \"GET / HTTP/1.1\" 200 -\n",
      "172.18.0.2 - - [19/Jul/2023 06:57:04] \"GET /favicon.ico HTTP/1.1\" 404 -\n"
     ]
    }
   ],
   "source": [
    "@app.route(\"/\")\n",
    "def hello_world():\n",
    "    return \"<h1>Hello, World!</h1>\"\n",
    "\n",
    "if __name__==\"__main__\":\n",
    "    app.run(host=\"0.0.0.0\")"
   ]
  },
  {
   "cell_type": "markdown",
   "id": "c372497e-a606-4796-ab96-b177feaa33bf",
   "metadata": {},
   "source": [
    "I have attached the screenshort of output"
   ]
  },
  {
   "cell_type": "markdown",
   "id": "ef4e5e4e-0db2-4358-aa62-128d486bcfa4",
   "metadata": {},
   "source": [
    "Q3. What is App routing in Flask? Why do we use app routes?"
   ]
  },
  {
   "cell_type": "markdown",
   "id": "2c58fef3-5647-4a23-88cb-0581f9cc96d5",
   "metadata": {},
   "source": [
    "Ans:In Flask, app routing refers to the process of mapping URLs (Uniform Resource Locators) to specific functions or views that handle the corresponding HTTP requests. These views are Python functions defined in the Flask application, and they are responsible for generating the HTTP response sent back to the client when a particular URL is accessed.\n",
    "\n",
    "In Flask, you define routes using the @app.route() decorator. The @app.route() decorator takes the URL pattern as an argument and associates it with a Python function. When a user makes an HTTP request to the specified URL, Flask will call the associated function (view) and return the response it generates.\n",
    "\n"
   ]
  },
  {
   "cell_type": "markdown",
   "id": "54567d75-ac85-4e47-a888-6c5b014cefcd",
   "metadata": {},
   "source": [
    "Q4. Create a “/welcome” route to display the welcome message “Welcome to ABC Corporation” and a “/”\n",
    "route to show the following details:\n",
    "Company Name: ABC Corporation\n",
    "Location: India\n",
    "Contact Detail: 999-999-9999"
   ]
  },
  {
   "cell_type": "code",
   "execution_count": null,
   "id": "fda98030-4646-4e51-b055-c71059575012",
   "metadata": {},
   "outputs": [],
   "source": [
    "from flask import Flask"
   ]
  },
  {
   "cell_type": "code",
   "execution_count": 2,
   "id": "c343114b-d0c1-42f9-95d1-786d4a407f84",
   "metadata": {},
   "outputs": [],
   "source": [
    "app=Flask(__name__)"
   ]
  },
  {
   "cell_type": "code",
   "execution_count": null,
   "id": "62c0ed04-2d70-49cf-a7ae-7be44d3ebd36",
   "metadata": {},
   "outputs": [
    {
     "name": "stdout",
     "output_type": "stream",
     "text": [
      " * Serving Flask app '__main__'\n",
      " * Debug mode: off\n"
     ]
    },
    {
     "name": "stderr",
     "output_type": "stream",
     "text": [
      "WARNING: This is a development server. Do not use it in a production deployment. Use a production WSGI server instead.\n",
      " * Running on all addresses (0.0.0.0)\n",
      " * Running on http://127.0.0.1:5000\n",
      " * Running on http://172.18.0.31:5000\n",
      "Press CTRL+C to quit\n",
      "172.18.0.2 - - [19/Jul/2023 07:15:20] \"GET / HTTP/1.1\" 200 -\n"
     ]
    }
   ],
   "source": [
    "@app.route(\"/welcome\")\n",
    "def welcome():\n",
    "    return \"<h1>Welcome to ABC Corporation</h1>\"\n",
    "@app.route(\"/\")\n",
    "def company_datails():\n",
    "    return '''<h2>Company Name: ABC Corporation\n",
    "Location: India\n",
    "Contact Detail: 999-999-9999</h2>'''\n",
    "if __name__==\"__main__\":\n",
    "    app.run(host=\"0.0.0.0\")"
   ]
  },
  {
   "cell_type": "markdown",
   "id": "967b4cb2-467b-415a-b984-d29fd7b47544",
   "metadata": {},
   "source": [
    "Q5. What function is used in Flask for URL Building? Write a Python code to demonstrate the working of the\n",
    "url_for() function."
   ]
  },
  {
   "cell_type": "markdown",
   "id": "f125c3e8-3e61-4c47-97e7-125bd5bc471c",
   "metadata": {},
   "source": [
    "Ans:In Flask, the url_for() function is used for URL building. It helps generate URLs for different routes in your application based on the endpoint name, allowing you to avoid hardcoding URLs in your templates or code. The url_for() function takes the endpoint name as its first argument and any additional keyword arguments for URL parameters."
   ]
  },
  {
   "cell_type": "code",
   "execution_count": 1,
   "id": "e3fd6a47-32bd-40ae-a5db-84486ab764a5",
   "metadata": {},
   "outputs": [],
   "source": [
    "from flask import Flask,url_for"
   ]
  },
  {
   "cell_type": "code",
   "execution_count": 2,
   "id": "748e14df-1694-4253-9bf0-8f5edc2c31d5",
   "metadata": {},
   "outputs": [],
   "source": [
    "app=Flask(__name__)"
   ]
  },
  {
   "cell_type": "code",
   "execution_count": null,
   "id": "a9b6cde8-11bd-4345-b597-53419df5bfac",
   "metadata": {},
   "outputs": [
    {
     "name": "stdout",
     "output_type": "stream",
     "text": [
      " * Serving Flask app '__main__'\n",
      " * Debug mode: off\n"
     ]
    },
    {
     "name": "stderr",
     "output_type": "stream",
     "text": [
      "WARNING: This is a development server. Do not use it in a production deployment. Use a production WSGI server instead.\n",
      " * Running on all addresses (0.0.0.0)\n",
      " * Running on http://127.0.0.1:5000\n",
      " * Running on http://172.18.0.31:5000\n",
      "Press CTRL+C to quit\n",
      "172.18.0.2 - - [19/Jul/2023 07:32:49] \"GET / HTTP/1.1\" 200 -\n",
      "172.18.0.2 - - [19/Jul/2023 07:32:53] \"GET /welcome HTTP/1.1\" 200 -\n"
     ]
    }
   ],
   "source": [
    "@app.route(\"/\")\n",
    "def idx():\n",
    "    wel_url=url_for(\"welcome\")\n",
    "    return f'<a href=\"{wel_url}\"> click it</a>'\n",
    "@app.route(\"/welcome\")\n",
    "def welcome():\n",
    "    return \"<h1>Welcome to ABC Corporation</h1>\"\n",
    "if __name__==\"__main__\":\n",
    "    app.run(host=\"0.0.0.0\")"
   ]
  }
 ],
 "metadata": {
  "kernelspec": {
   "display_name": "Python 3 (ipykernel)",
   "language": "python",
   "name": "python3"
  },
  "language_info": {
   "codemirror_mode": {
    "name": "ipython",
    "version": 3
   },
   "file_extension": ".py",
   "mimetype": "text/x-python",
   "name": "python",
   "nbconvert_exporter": "python",
   "pygments_lexer": "ipython3",
   "version": "3.10.8"
  }
 },
 "nbformat": 4,
 "nbformat_minor": 5
}
