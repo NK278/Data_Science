{
 "cells": [
  {
   "cell_type": "code",
   "execution_count": 3,
   "id": "3ef805bb-3198-4eca-8ae6-3c6e486006da",
   "metadata": {},
   "outputs": [],
   "source": [
    "# Q1. How do you comment code in Python? What are the different types of comments?\n",
    "\n",
    "# Ans: To comment code in Python, you can use the # symbol to indicate a single-line comment. Anything after the # symbol on the same line will be treated as a comment and will be ignored by the Python interpreter.\n",
    "       # '''Python also supports multi-line comments, which are often used for longer explanations or documentation. You can enclose multi-line comments using triple quotes ' (''' or \"\"\")'.'''\n"
   ]
  },
  {
   "cell_type": "code",
   "execution_count": 4,
   "id": "6caca193-bb81-44a0-920e-f384760566c6",
   "metadata": {},
   "outputs": [
    {
     "name": "stdout",
     "output_type": "stream",
     "text": [
      " 10,10.98,my\n"
     ]
    }
   ],
   "source": [
    "# Q2. What are variables in Python? How do you declare and assign values to variables?\n",
    "# Ans: In Python, variables are used to store data values. They act as containers that hold different types of information such as numbers, strings, lists, or objects.\n",
    "# declation:\n",
    "a=10\n",
    "b=10.98\n",
    "c=\"my\"\n",
    "print(f\" {a},{b},{c}\")"
   ]
  },
  {
   "cell_type": "code",
   "execution_count": 7,
   "id": "931ad79e-f518-44a4-9b9c-db47e8f57feb",
   "metadata": {},
   "outputs": [
    {
     "name": "stdout",
     "output_type": "stream",
     "text": [
      "2.0\n",
      "2\n",
      "9000\n",
      "3.33\n",
      "(1, 2, 3)\n",
      "['a', 'b', 'c']\n"
     ]
    }
   ],
   "source": [
    "# Q3. How do you convert one data type to another in Python?\n",
    "# Ans: In Python, you can convert one data type to another using type conversion functions or methods. Here are some commonly used methods for type conversion:\n",
    "\n",
    "# int(): Converts a value to an integer.\n",
    "# float(): Converts a value to a floating-point number.\n",
    "# str(): Converts a value to a string.\n",
    "# list(): Converts a value to a list.\n",
    "# tuple(): Converts a value to a tuple.\n",
    "# dict(): Converts a value to a dictionary.\n",
    "# set(): Converts a value to a set.\n",
    "# examples:\n",
    "# Integer to float\n",
    "x = 2\n",
    "y = float(x)\n",
    "print(y)  # Output: 5.0\n",
    "\n",
    "# Float to integer\n",
    "a = 2.68\n",
    "b = int(a)\n",
    "print(b)  # Output: 3\n",
    "\n",
    "# String to integer\n",
    "num_str = \"9000\"\n",
    "num_int = int(num_str)\n",
    "print(num_int)  # Output: 10\n",
    "\n",
    "# String to float\n",
    "pi_str = \"3.33\"\n",
    "pi_float = float(pi_str)\n",
    "print(pi_float)  # Output: 3.14\n",
    "\n",
    "# List to tuple\n",
    "my_list = [1, 2, 3]\n",
    "my_tuple = tuple(my_list)\n",
    "print(my_tuple)  # Output: (1, 2, 3)\n",
    "\n",
    "# Dictionary to list of keys\n",
    "my_dict = {\"a\": 1, \"b\": 2, \"c\": 3}\n",
    "keys_list = list(my_dict)\n",
    "print(keys_list)  # Output: ['a', 'b', 'c']\n",
    "\n"
   ]
  },
  {
   "cell_type": "code",
   "execution_count": null,
   "id": "b195de39-6fca-4855-8a2a-6cdd5a0b722a",
   "metadata": {},
   "outputs": [],
   "source": [
    "# Q4. How do you write and execute a Python script from the command line?\n",
    "# Ans: To write and execute a Python script from the command line, follow these steps:\n",
    "\n",
    "# 1)Open a text editor and write your Python script. Save the file with a .py extension. For example, you can create a file named script.py.\n",
    "# 2)Open a command prompt or terminal and navigate to the directory where your Python script is saved. You can use the cd command to change directories.\n",
    "# To execute the Python script, use the python command followed by the name of the script file. For example: questions.py"
   ]
  },
  {
   "cell_type": "code",
   "execution_count": 9,
   "id": "fc660cc5-5b90-4967-97c4-e28f40580b2c",
   "metadata": {},
   "outputs": [
    {
     "name": "stdout",
     "output_type": "stream",
     "text": [
      "[2, 3]\n"
     ]
    }
   ],
   "source": [
    "# Q5. Given a list my_list = [1, 2, 3, 4, 5], write the code to slice the list and obtain the sub-list [2, 3].\n",
    "my_list=[1, 2, 3, 4, 5]\n",
    "new_list=my_list[1:3]\n",
    "print(new_list)"
   ]
  },
  {
   "cell_type": "code",
   "execution_count": 13,
   "id": "bbe6448a-5b49-44cb-8003-449fc6af0157",
   "metadata": {},
   "outputs": [
    {
     "name": "stdout",
     "output_type": "stream",
     "text": [
      "complex number:(3+5j), REAL PART:3.0, IMAGINARY PART:5.0\n"
     ]
    }
   ],
   "source": [
    "# Q6. What is a complex number in mathematics, and how is it represented in Python?\n",
    "# Ans: Complex number z=x+iy, x=Re(z), y=Im(z)\n",
    "z=complex(3,5)\n",
    "print(f\"complex number:{z}, REAL PART:{z.real}, IMAGINARY PART:{z.imag}\")"
   ]
  },
  {
   "cell_type": "code",
   "execution_count": 14,
   "id": "f685dd74-c7b1-437e-8aef-16626eeef473",
   "metadata": {},
   "outputs": [
    {
     "name": "stdout",
     "output_type": "stream",
     "text": [
      "25\n"
     ]
    }
   ],
   "source": [
    "# Q7. What is the correct way to declare a variable named age and assign the value 25 to it?\n",
    "age=25\n",
    "print(age)"
   ]
  },
  {
   "cell_type": "code",
   "execution_count": 15,
   "id": "1af13754-adcb-44b1-b2d3-c2c423b28537",
   "metadata": {},
   "outputs": [
    {
     "name": "stdout",
     "output_type": "stream",
     "text": [
      "9.99, type of variable:<class 'float'>\n"
     ]
    }
   ],
   "source": [
    "# Q8. Declare a variable named price and assign the value 9.99 to it. What data type does this variable\n",
    "# belong to?\n",
    "price=9.99\n",
    "print(f\"{price}, type of variable:{type(price)}\")"
   ]
  },
  {
   "cell_type": "code",
   "execution_count": 16,
   "id": "d8ea9d20-2be8-4923-a5bd-f261dd8f309e",
   "metadata": {},
   "outputs": [
    {
     "name": "stdout",
     "output_type": "stream",
     "text": [
      "Nishchal Gaur\n"
     ]
    }
   ],
   "source": [
    "# Q9. Create a variable named name and assign your full name to it as a string. How would you print the\n",
    "# value of this variable?\n",
    "name=\"Nishchal Gaur\"\n",
    "print(name)"
   ]
  },
  {
   "cell_type": "code",
   "execution_count": 19,
   "id": "75c58e54-433e-4670-9e03-757a6daabf97",
   "metadata": {},
   "outputs": [
    {
     "name": "stdout",
     "output_type": "stream",
     "text": [
      "World\n"
     ]
    }
   ],
   "source": [
    "# Q10. Given the string \"Hello, World!\", extract the substring \"World\".\n",
    "s=\"Hello, World!\"\n",
    "s1=s[s.find(\"W\"):s.find(\"d\")+1]\n",
    "print(s1)"
   ]
  },
  {
   "cell_type": "code",
   "execution_count": 20,
   "id": "65c6819f-94b2-4028-8415-bcc7fa68411f",
   "metadata": {},
   "outputs": [
    {
     "name": "stdout",
     "output_type": "stream",
     "text": [
      "True\n"
     ]
    }
   ],
   "source": [
    "# Q11. Create a variable named \"is_student\" and assign it a boolean value indicating whether you are\n",
    "# currently a student or not.\n",
    "is_student=True\n",
    "print(is_student)"
   ]
  },
  {
   "cell_type": "code",
   "execution_count": null,
   "id": "3a0b10d0-2fec-458a-96fe-36d7bf7d1c1b",
   "metadata": {},
   "outputs": [],
   "source": []
  }
 ],
 "metadata": {
  "kernelspec": {
   "display_name": "Python 3 (ipykernel)",
   "language": "python",
   "name": "python3"
  },
  "language_info": {
   "codemirror_mode": {
    "name": "ipython",
    "version": 3
   },
   "file_extension": ".py",
   "mimetype": "text/x-python",
   "name": "python",
   "nbconvert_exporter": "python",
   "pygments_lexer": "ipython3",
   "version": "3.10.8"
  }
 },
 "nbformat": 4,
 "nbformat_minor": 5
}
