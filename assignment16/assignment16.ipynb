{
 "cells": [
  {
   "cell_type": "markdown",
   "id": "9ba45773-d334-4803-ba40-568e52ffa44a",
   "metadata": {},
   "source": [
    "Q1. Explain GET and POST methods."
   ]
  },
  {
   "cell_type": "markdown",
   "id": "73f8368e-c446-4dbf-a05d-bae93ed5d3d8",
   "metadata": {},
   "source": [
    "Ans: GET method:\n",
    "1)Purpose: The GET method is used to request data from a specified resource on the server. It is primarily used for retrieving data and should not be used for operations that modify the server's state.\n",
    "\n",
    "2)Data handling: When you use a GET request, the data you send is appended to the URL as query parameters. For example, if you want to retrieve information about a product with an ID of 123, the URL might look like this: https://example.com/products?id=123. The data is visible in the URL, and there are limitations on the amount of data you can send.\n",
    "\n",
    "3)Caching: GET requests can be cached by browsers, proxies, and other intermediate servers. This can improve performance for subsequent requests, but it may also lead to outdated data being served under certain circumstances.\n",
    "\n",
    "POST method:\n",
    "1)Purpose: The POST method is used to submit data to be processed to a specified resource on the server. It is typically used for operations that modify the server's state, such as creating a new resource, updating existing data, or submitting a form with sensitive information.\n",
    "\n",
    "2)Data handling: When you use a POST request, the data you send is included in the body of the HTTP request rather than in the URL. This allows for more data to be sent, and it is not visible in the URL, providing better security for sensitive information.\n",
    "\n",
    "3)Caching: POST requests are generally not cached by browsers or intermediate servers because they are considered non-idempotent, meaning that multiple identical requests may have different effects.\n"
   ]
  },
  {
   "cell_type": "markdown",
   "id": "5822ced4-e15d-446a-bdf1-8fe99eefaee6",
   "metadata": {},
   "source": [
    "Q2. Why is request used in Flask?"
   ]
  },
  {
   "cell_type": "markdown",
   "id": "c6be7c31-41eb-474b-86b2-93a20158576c",
   "metadata": {},
   "source": [
    "Ans:In Flask, the term \"request\" refers to an object that contains the incoming client request data when a user interacts with a web application hosted on a Flask server. This request object is an essential part of handling HTTP requests and allows Flask developers to access and process data sent by clients, such as web browsers or mobile apps.\n",
    "\n",
    "The \"request\" object in Flask provides various attributes and methods that make it easy to work with the data sent by the client, including:\n",
    "\n",
    "1)Form Data: The \"request.form\" attribute allows access to data submitted via HTML forms using the POST method. Developers can access form fields and their values using this attribute.\n",
    "\n",
    "2)Query Parameters: The \"request.args\" attribute provides access to the query parameters sent in the URL. These parameters are typically used in GET requests and can be used to pass data to the server.\n",
    "\n",
    "3)JSON Data: The \"request.get_json()\" method allows Flask applications to retrieve JSON data sent in the body of a request. This is useful when clients send data in JSON format, such as when using API endpoints.\n",
    "\n",
    "4)File Uploads: The \"request.files\" attribute allows handling file uploads. It allows developers to access files uploaded by the client through HTML forms.\n",
    "\n",
    "5)Request Headers: The \"request.headers\" attribute provides access to the HTTP headers sent by the client, which can be useful for authentication and other custom information."
   ]
  },
  {
   "cell_type": "markdown",
   "id": "71e269c7-6547-4a50-9863-11d8f4f4d9f5",
   "metadata": {},
   "source": [
    "Q3. Why is redirect() used in Flask?"
   ]
  },
  {
   "cell_type": "markdown",
   "id": "8ecddf64-96b4-4f65-abed-d27812dd3e21",
   "metadata": {},
   "source": [
    "Ans:In Flask, the redirect() function is used to redirect a client's web browser to a different URL. It is a useful utility for handling certain scenarios in web applications when you want to guide users to a different route or page after they perform a specific action or when certain conditions are met.\n",
    "\n",
    "The primary reasons for using redirect() in Flask are as follows:\n",
    "\n",
    "1)Handling Form Submissions: After processing form data submitted by a user, you may want to redirect them to another page to display the results or a success message. This helps prevent users from inadvertently resubmitting the form data if they refresh the page.\n",
    "\n",
    "2)User Authentication and Authorization: In web applications that require user authentication, if a user tries to access a restricted page without logging in, you can use redirect() to send them to the login page instead.\n",
    "\n",
    "3)Handling URL Changes: When you change the URL structure or the route names in your Flask application, using redirect() ensures that users who try to access the old URLs are automatically redirected to the new URLs, thus maintaining a smooth user experience during changes or updates to your application.\n",
    "\n",
    "4)Route Logic: In certain cases, you might want to perform some processing before displaying a specific page. For example, you might want to check if a user is authorized to access a particular page or check for some specific conditions. If the conditions are not met, you can use redirect() to send the user to a different page or display an error message."
   ]
  },
  {
   "cell_type": "markdown",
   "id": "701f04da-10cb-4aaf-8205-d4d3c17830ef",
   "metadata": {},
   "source": [
    "Q4. What are templates in Flask? Why is the render_template() function used?"
   ]
  },
  {
   "cell_type": "markdown",
   "id": "50b75c84-6937-417a-b582-aeb470483ce9",
   "metadata": {},
   "source": [
    "Ans:In Flask, templates are files used to generate dynamic HTML content that will be sent to the client's web browser. Templates are an essential part of separating the presentation layer from the application logic in web development. They allow developers to create reusable and modular views that can be populated with data dynamically.\n",
    "\n",
    "Templates in Flask are usually written using a templating engine, such as Jinja2, which is the default templating engine for Flask. Jinja2 allows you to embed dynamic data and control structures (e.g., loops, conditionals) within your HTML templates using special tags and syntax.\n",
    "\n",
    "The render_template() function in Flask is used to render these templates and generate the final HTML output. It takes the name of the template file as an argument and optionally any data required to populate the template. The function then processes the template, replaces placeholders with the provided data, and returns the HTML content as a response to the client's request."
   ]
  },
  {
   "cell_type": "markdown",
   "id": "8830e160-9315-4782-a35b-8467cec42f1a",
   "metadata": {},
   "source": [
    "Q5. Create a simple API. Use Postman to test it. Attach the screenshot of the output in the Jupyter Notebook."
   ]
  },
  {
   "cell_type": "code",
   "execution_count": 1,
   "id": "9ddf05ea-0f10-4443-9bb6-4a62dd34ea0a",
   "metadata": {},
   "outputs": [
    {
     "name": "stdout",
     "output_type": "stream",
     "text": [
      "Collecting flask\n",
      "  Downloading Flask-2.3.2-py3-none-any.whl (96 kB)\n",
      "\u001b[2K     \u001b[90m━━━━━━━━━━━━━━━━━━━━━━━━━━━━━━━━━━━━━━━━\u001b[0m \u001b[32m96.9/96.9 kB\u001b[0m \u001b[31m4.3 MB/s\u001b[0m eta \u001b[36m0:00:00\u001b[0m\n",
      "\u001b[?25hCollecting blinker>=1.6.2\n",
      "  Downloading blinker-1.6.2-py3-none-any.whl (13 kB)\n",
      "Collecting Werkzeug>=2.3.3\n",
      "  Downloading Werkzeug-2.3.6-py3-none-any.whl (242 kB)\n",
      "\u001b[2K     \u001b[90m━━━━━━━━━━━━━━━━━━━━━━━━━━━━━━━━━━━━━━\u001b[0m \u001b[32m242.5/242.5 kB\u001b[0m \u001b[31m24.9 MB/s\u001b[0m eta \u001b[36m0:00:00\u001b[0m\n",
      "\u001b[?25hCollecting itsdangerous>=2.1.2\n",
      "  Downloading itsdangerous-2.1.2-py3-none-any.whl (15 kB)\n",
      "Requirement already satisfied: Jinja2>=3.1.2 in /opt/conda/lib/python3.10/site-packages (from flask) (3.1.2)\n",
      "Requirement already satisfied: click>=8.1.3 in /opt/conda/lib/python3.10/site-packages (from flask) (8.1.3)\n",
      "Requirement already satisfied: MarkupSafe>=2.0 in /opt/conda/lib/python3.10/site-packages (from Jinja2>=3.1.2->flask) (2.1.1)\n",
      "Installing collected packages: Werkzeug, itsdangerous, blinker, flask\n",
      "  Attempting uninstall: blinker\n",
      "    Found existing installation: blinker 1.5\n",
      "    Uninstalling blinker-1.5:\n",
      "      Successfully uninstalled blinker-1.5\n",
      "Successfully installed Werkzeug-2.3.6 blinker-1.6.2 flask-2.3.2 itsdangerous-2.1.2\n",
      "Note: you may need to restart the kernel to use updated packages.\n"
     ]
    }
   ],
   "source": [
    "pip install flask"
   ]
  },
  {
   "cell_type": "code",
   "execution_count": 1,
   "id": "bc2e0f89-7340-441c-9067-a0c9a91f23e8",
   "metadata": {},
   "outputs": [],
   "source": [
    "from flask import Flask,request,render_template,jsonify\n",
    "import math"
   ]
  },
  {
   "cell_type": "code",
   "execution_count": 2,
   "id": "f8059c79-bd28-4f81-9b3f-d1f61719b082",
   "metadata": {},
   "outputs": [],
   "source": [
    "app=Flask(__name__)"
   ]
  },
  {
   "cell_type": "code",
   "execution_count": 3,
   "id": "23b1ddb6-3a48-4c9b-9b4c-9a7e71fe8a76",
   "metadata": {},
   "outputs": [],
   "source": [
    "@app.route('/')\n",
    "def home_page():\n",
    "    return render_template('index.html')"
   ]
  },
  {
   "cell_type": "code",
   "execution_count": 4,
   "id": "91da5307-e1a1-4900-96e7-e768b26b0d63",
   "metadata": {},
   "outputs": [],
   "source": [
    "@app.route('/math',methods=['POST'])\n",
    "def math_o():\n",
    "    if(request.method=='POST'):\n",
    "        op=request.form['operation']\n",
    "        n1=int(request.form['n1'])\n",
    "        n2=int(request.form['n2'])\n",
    "        if op=='add':\n",
    "            r=n1+n2\n",
    "            res=\"Sum of\"+str(n1) + 'and'+ str(n2) + \"=\"+str(r)\n",
    "        if op=='subtract':\n",
    "            r=n1-n2\n",
    "            res=\"difference of\"+str(n1) + 'and'+ str(n2) + \"=\"+str(r)\n",
    "        if op=='multiply':\n",
    "            r=n1*n2\n",
    "            res=\"Product of\"+str(n1) + 'and'+ str(n2) + \"=\"+str(r)\n",
    "        if op=='divide':\n",
    "            r=n1/n2\n",
    "            res=\"Division of\"+str(n1) + 'and'+ str(n2) + \"=\"+str(r)\n",
    "        if op=='log':\n",
    "            r=n1*math.log(n2,10)\n",
    "            res=\"log of\"+str(n1) + 'and'+ str(n2) + \"=\"+str(r)\n",
    "        return render_template('results.html',r=res)\n",
    "\n",
    "        "
   ]
  },
  {
   "cell_type": "code",
   "execution_count": 5,
   "id": "a006d127-dba0-49e2-9ce3-dc3f371f39a4",
   "metadata": {},
   "outputs": [],
   "source": [
    "@app.route('/postman_action',methods=['POST'])\n",
    "def math_o1():\n",
    "    if(request.method=='POST'):\n",
    "        op=request.json['operation']\n",
    "        n1=int(request.json['n1'])\n",
    "        n2=int(request.json['n2'])\n",
    "        if op=='add':\n",
    "            r=n1+n2\n",
    "            res=\"Sum of\"+str(n1) + 'and'+ str(n2) + \"=\"+str(r)\n",
    "        if op=='subtract':\n",
    "            r=n1-n2\n",
    "            res=\"difference of\"+str(n1) + 'and'+ str(n2) + \"=\"+str(r)\n",
    "        if op=='multiply':\n",
    "            r=n1*n2\n",
    "            res=\"Product of\"+str(n1) + 'and'+ str(n2) + \"=\"+str(r)\n",
    "        if op=='divide':\n",
    "            r=n1/n2\n",
    "            res=\"Division of\"+str(n1) + 'and'+ str(n2) + \"=\"+str(r)\n",
    "        if op=='log':\n",
    "            r=n1*math.log(n2,10)\n",
    "            res=\"log of\"+str(n1) + 'and'+ str(n2) + \"=\"+str(r)\n",
    "        return jsonify(res)"
   ]
  },
  {
   "cell_type": "code",
   "execution_count": null,
   "id": "6140db11-b5ca-45d3-afec-193e3b262ea2",
   "metadata": {},
   "outputs": [
    {
     "name": "stdout",
     "output_type": "stream",
     "text": [
      " * Serving Flask app '__main__'\n",
      " * Debug mode: off\n"
     ]
    },
    {
     "name": "stderr",
     "output_type": "stream",
     "text": [
      "WARNING: This is a development server. Do not use it in a production deployment. Use a production WSGI server instead.\n",
      " * Running on all addresses (0.0.0.0)\n",
      " * Running on http://127.0.0.1:5000\n",
      " * Running on http://172.18.0.30:5000\n",
      "Press CTRL+C to quit\n",
      "[2023-07-20 07:28:06,619] ERROR in app: Exception on / [GET]\n",
      "Traceback (most recent call last):\n",
      "  File \"/opt/conda/lib/python3.10/site-packages/flask/app.py\", line 2190, in wsgi_app\n",
      "    response = self.full_dispatch_request()\n",
      "  File \"/opt/conda/lib/python3.10/site-packages/flask/app.py\", line 1486, in full_dispatch_request\n",
      "    rv = self.handle_user_exception(e)\n",
      "  File \"/opt/conda/lib/python3.10/site-packages/flask/app.py\", line 1484, in full_dispatch_request\n",
      "    rv = self.dispatch_request()\n",
      "  File \"/opt/conda/lib/python3.10/site-packages/flask/app.py\", line 1469, in dispatch_request\n",
      "    return self.ensure_sync(self.view_functions[rule.endpoint])(**view_args)\n",
      "  File \"/tmp/ipykernel_1111/218680629.py\", line 3, in home_page\n",
      "    return render_template('index.html')\n",
      "  File \"/opt/conda/lib/python3.10/site-packages/flask/templating.py\", line 150, in render_template\n",
      "    template = app.jinja_env.get_or_select_template(template_name_or_list)\n",
      "  File \"/opt/conda/lib/python3.10/site-packages/jinja2/environment.py\", line 1081, in get_or_select_template\n",
      "    return self.get_template(template_name_or_list, parent, globals)\n",
      "  File \"/opt/conda/lib/python3.10/site-packages/jinja2/environment.py\", line 1010, in get_template\n",
      "    return self._load_template(name, globals)\n",
      "  File \"/opt/conda/lib/python3.10/site-packages/jinja2/environment.py\", line 969, in _load_template\n",
      "    template = self.loader.load(self, name, self.make_globals(globals))\n",
      "  File \"/opt/conda/lib/python3.10/site-packages/jinja2/loaders.py\", line 126, in load\n",
      "    source, filename, uptodate = self.get_source(environment, name)\n",
      "  File \"/opt/conda/lib/python3.10/site-packages/flask/templating.py\", line 64, in get_source\n",
      "    return self._get_source_fast(environment, template)\n",
      "  File \"/opt/conda/lib/python3.10/site-packages/flask/templating.py\", line 98, in _get_source_fast\n",
      "    raise TemplateNotFound(template)\n",
      "jinja2.exceptions.TemplateNotFound: index.html\n",
      "172.18.0.2 - - [20/Jul/2023 07:28:06] \"GET / HTTP/1.1\" 500 -\n",
      "172.18.0.2 - - [20/Jul/2023 07:28:14] \"GET /math HTTP/1.1\" 405 -\n",
      "[2023-07-20 07:31:45,338] ERROR in app: Exception on / [GET]\n",
      "Traceback (most recent call last):\n",
      "  File \"/opt/conda/lib/python3.10/site-packages/flask/app.py\", line 2190, in wsgi_app\n",
      "    response = self.full_dispatch_request()\n",
      "  File \"/opt/conda/lib/python3.10/site-packages/flask/app.py\", line 1486, in full_dispatch_request\n",
      "    rv = self.handle_user_exception(e)\n",
      "  File \"/opt/conda/lib/python3.10/site-packages/flask/app.py\", line 1484, in full_dispatch_request\n",
      "    rv = self.dispatch_request()\n",
      "  File \"/opt/conda/lib/python3.10/site-packages/flask/app.py\", line 1469, in dispatch_request\n",
      "    return self.ensure_sync(self.view_functions[rule.endpoint])(**view_args)\n",
      "  File \"/tmp/ipykernel_1111/218680629.py\", line 3, in home_page\n",
      "    return render_template('index.html')\n",
      "  File \"/opt/conda/lib/python3.10/site-packages/flask/templating.py\", line 150, in render_template\n",
      "    template = app.jinja_env.get_or_select_template(template_name_or_list)\n",
      "  File \"/opt/conda/lib/python3.10/site-packages/jinja2/environment.py\", line 1081, in get_or_select_template\n",
      "    return self.get_template(template_name_or_list, parent, globals)\n",
      "  File \"/opt/conda/lib/python3.10/site-packages/jinja2/environment.py\", line 1010, in get_template\n",
      "    return self._load_template(name, globals)\n",
      "  File \"/opt/conda/lib/python3.10/site-packages/jinja2/environment.py\", line 969, in _load_template\n",
      "    template = self.loader.load(self, name, self.make_globals(globals))\n",
      "  File \"/opt/conda/lib/python3.10/site-packages/jinja2/loaders.py\", line 126, in load\n",
      "    source, filename, uptodate = self.get_source(environment, name)\n",
      "  File \"/opt/conda/lib/python3.10/site-packages/flask/templating.py\", line 64, in get_source\n",
      "    return self._get_source_fast(environment, template)\n",
      "  File \"/opt/conda/lib/python3.10/site-packages/flask/templating.py\", line 98, in _get_source_fast\n",
      "    raise TemplateNotFound(template)\n",
      "jinja2.exceptions.TemplateNotFound: index.html\n",
      "172.18.0.2 - - [20/Jul/2023 07:31:45] \"GET / HTTP/1.1\" 500 -\n",
      "172.18.0.2 - - [20/Jul/2023 07:32:18] \"GET /postman_action HTTP/1.1\" 405 -\n"
     ]
    }
   ],
   "source": [
    "if __name__==\"__main__\":\n",
    "    app.run(host=\"0.0.0.0\")"
   ]
  },
  {
   "cell_type": "code",
   "execution_count": null,
   "id": "cd7fcf1e-51a0-41e8-a8ae-09629af2c28d",
   "metadata": {},
   "outputs": [],
   "source": []
  }
 ],
 "metadata": {
  "kernelspec": {
   "display_name": "Python 3 (ipykernel)",
   "language": "python",
   "name": "python3"
  },
  "language_info": {
   "codemirror_mode": {
    "name": "ipython",
    "version": 3
   },
   "file_extension": ".py",
   "mimetype": "text/x-python",
   "name": "python",
   "nbconvert_exporter": "python",
   "pygments_lexer": "ipython3",
   "version": "3.10.8"
  }
 },
 "nbformat": 4,
 "nbformat_minor": 5
}
