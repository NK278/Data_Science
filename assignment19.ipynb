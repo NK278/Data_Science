{
 "cells": [
  {
   "cell_type": "markdown",
   "id": "b86dc250-ff03-4937-ba3b-e5effa410bd9",
   "metadata": {},
   "source": [
    "Q1. Create a Pandas Series that contains the following data: 4, 8, 15, 16, 23, and 42. Then, print the series."
   ]
  },
  {
   "cell_type": "code",
   "execution_count": 1,
   "id": "fa32cd29-e434-4aad-bd66-57a721c861a1",
   "metadata": {},
   "outputs": [
    {
     "name": "stdout",
     "output_type": "stream",
     "text": [
      "Requirement already satisfied: pandas in /opt/conda/lib/python3.10/site-packages (1.5.2)\n",
      "Requirement already satisfied: python-dateutil>=2.8.1 in /opt/conda/lib/python3.10/site-packages (from pandas) (2.8.2)\n",
      "Requirement already satisfied: pytz>=2020.1 in /opt/conda/lib/python3.10/site-packages (from pandas) (2022.6)\n",
      "Requirement already satisfied: numpy>=1.21.0 in /opt/conda/lib/python3.10/site-packages (from pandas) (1.23.5)\n",
      "Requirement already satisfied: six>=1.5 in /opt/conda/lib/python3.10/site-packages (from python-dateutil>=2.8.1->pandas) (1.16.0)\n",
      "Note: you may need to restart the kernel to use updated packages.\n"
     ]
    }
   ],
   "source": [
    "pip install pandas\n"
   ]
  },
  {
   "cell_type": "code",
   "execution_count": 4,
   "id": "490f5fce-24f2-4689-a5d7-d47b2f5fbd2a",
   "metadata": {},
   "outputs": [],
   "source": [
    "import pandas as pd\n",
    "import logging"
   ]
  },
  {
   "cell_type": "code",
   "execution_count": 2,
   "id": "6c231940-df1d-433b-9ede-49073a45fcd9",
   "metadata": {},
   "outputs": [],
   "source": [
    "data=[4, 8, 15, 16, 23, 42]"
   ]
  },
  {
   "cell_type": "code",
   "execution_count": 3,
   "id": "ba2dbc4f-84f9-4666-a173-9eba7272b5c1",
   "metadata": {},
   "outputs": [],
   "source": [
    "ser=pd.Series(data)"
   ]
  },
  {
   "cell_type": "code",
   "execution_count": 5,
   "id": "c99cebb4-4196-4e6d-9d9e-5843b0ea93f3",
   "metadata": {},
   "outputs": [],
   "source": [
    "logging.basicConfig(level=logging.INFO)"
   ]
  },
  {
   "cell_type": "code",
   "execution_count": 6,
   "id": "119de605-12b4-4a50-8d95-030e362440e4",
   "metadata": {},
   "outputs": [
    {
     "name": "stderr",
     "output_type": "stream",
     "text": [
      "INFO:root:panda series\n",
      "INFO:root:0     4\n",
      "1     8\n",
      "2    15\n",
      "3    16\n",
      "4    23\n",
      "5    42\n",
      "dtype: int64\n"
     ]
    }
   ],
   "source": [
    "logging.info(\"panda series\")\n",
    "logging.info(ser)"
   ]
  },
  {
   "cell_type": "markdown",
   "id": "2c249f86-9184-463b-8a0e-987df41e00b4",
   "metadata": {},
   "source": [
    "Q2. Create a variable of list type containing 10 elements in it, and apply pandas.Series function on the\n",
    "variable print it."
   ]
  },
  {
   "cell_type": "code",
   "execution_count": 8,
   "id": "18a85a44-8bf7-427c-8c63-77306bed6c3b",
   "metadata": {},
   "outputs": [],
   "source": [
    "l=[i for i in range(1,11)]\n",
    "l_sr=pd.Series(l)"
   ]
  },
  {
   "cell_type": "code",
   "execution_count": 9,
   "id": "32873bd7-6fe4-4d9d-ba34-33f75132207c",
   "metadata": {},
   "outputs": [
    {
     "name": "stderr",
     "output_type": "stream",
     "text": [
      "INFO:root:list\n",
      "INFO:root:0     1\n",
      "1     2\n",
      "2     3\n",
      "3     4\n",
      "4     5\n",
      "5     6\n",
      "6     7\n",
      "7     8\n",
      "8     9\n",
      "9    10\n",
      "dtype: int64\n"
     ]
    }
   ],
   "source": [
    "logging.info(\"list\")\n",
    "logging.info(l_sr)"
   ]
  },
  {
   "cell_type": "markdown",
   "id": "c1f40c02-699c-49d9-a53a-257c5ae98392",
   "metadata": {},
   "source": [
    "Q3. Create a Pandas DataFrame that contains the following data:\n",
    "Then, print the DataFrame."
   ]
  },
  {
   "cell_type": "code",
   "execution_count": 10,
   "id": "43e21fbc-1dd8-4c21-98ab-1ace26c0c065",
   "metadata": {},
   "outputs": [],
   "source": [
    "data2={\n",
    "'Name':['Alice','Bob','Claire'],\n",
    "'Age':[25,30,27],\n",
    "'Gender':['Female','Male','Female']}"
   ]
  },
  {
   "cell_type": "code",
   "execution_count": 11,
   "id": "46f6699f-3aef-455a-8abf-e4c9b6c70895",
   "metadata": {},
   "outputs": [],
   "source": [
    "df=pd.DataFrame(data2)"
   ]
  },
  {
   "cell_type": "code",
   "execution_count": 13,
   "id": "926d32d9-b3c3-4a69-ab37-9afa54c899ad",
   "metadata": {},
   "outputs": [
    {
     "name": "stderr",
     "output_type": "stream",
     "text": [
      "INFO:root:dataframe\n",
      "INFO:root:     Name  Age  Gender\n",
      "0   Alice   25  Female\n",
      "1     Bob   30    Male\n",
      "2  Claire   27  Female\n"
     ]
    }
   ],
   "source": [
    "logging.info(\"dataframe\")\n",
    "logging.info(df)"
   ]
  },
  {
   "cell_type": "markdown",
   "id": "b161bf84-7af9-4aaa-9e54-892b87b443d1",
   "metadata": {},
   "source": [
    "Q4. What is ‘DataFrame’ in pandas and how is it different from pandas.series? Explain with an example."
   ]
  },
  {
   "cell_type": "markdown",
   "id": "5e227ee7-ad9c-4155-beac-2e23fb3d1489",
   "metadata": {},
   "source": [
    "Ans: In Pandas, a DataFrame is a two-dimensional, tabular data structure that is designed to store and manipulate data in rows and columns. It is similar to a spreadsheet or a SQL table, where data is organized in a grid-like format. Each column in a DataFrame represents a different variable or feature, and each row represents an individual observation or entry. DataFrames are a powerful data structure for data analysis, as they offer various functions for data manipulation, filtering, aggregation, and more."
   ]
  },
  {
   "cell_type": "markdown",
   "id": "6e4de9b0-79a1-43fe-8936-54c4c19d0818",
   "metadata": {},
   "source": [
    "On the other hand, a Pandas Series is a one-dimensional array-like object that can store a sequence of data values, along with an associated index for each value. Essentially, a Series is a single column of data with labeled indices. You can think of a DataFrame as a collection of Series objects, where each Series represents a column."
   ]
  },
  {
   "cell_type": "markdown",
   "id": "2a24d3de-5d17-40d9-af1e-8bc4d13017ac",
   "metadata": {},
   "source": [
    "above questions are example of this question."
   ]
  },
  {
   "cell_type": "markdown",
   "id": "652bc9fd-866f-4be7-b1ef-5f1253df8766",
   "metadata": {},
   "source": [
    "Q5. What are some common functions you can use to manipulate data in a Pandas DataFrame? Can\n",
    "you give an example of when you might use one of these functions?"
   ]
  },
  {
   "cell_type": "markdown",
   "id": "ed5f698a-d977-4f3e-8415-0b91db30f262",
   "metadata": {},
   "source": [
    "Pandas provides a wide range of functions to manipulate data in a DataFrame. Some common functions you can use are:\n",
    "\n",
    "1)head() and tail(): These functions allow you to view the first few rows (head()) or the last few rows (tail()) of the DataFrame. They are useful for quickly inspecting the structure and contents of the DataFrame."
   ]
  },
  {
   "cell_type": "code",
   "execution_count": 14,
   "id": "7f76e645-8c90-4548-a77c-882214ca10fd",
   "metadata": {},
   "outputs": [
    {
     "name": "stdout",
     "output_type": "stream",
     "text": [
      "   Name  Age      City\n",
      "0  John   28  New York\n",
      "1  Jane   24    London\n",
      "2   Tom   22     Paris\n",
      "    Name  Age     City\n",
      "3  Alice   30   Sydney\n",
      "4   Mike   25  Toronto\n"
     ]
    }
   ],
   "source": [
    "import pandas as pd\n",
    "\n",
    "# Create a sample DataFrame\n",
    "data = {\n",
    "    'Name': ['John', 'Jane', 'Tom', 'Alice', 'Mike'],\n",
    "    'Age': [28, 24, 22, 30, 25],\n",
    "    'City': ['New York', 'London', 'Paris', 'Sydney', 'Toronto']\n",
    "}\n",
    "\n",
    "df = pd.DataFrame(data)\n",
    "\n",
    "# Using head() to view the first few rows\n",
    "print(df.head(3))\n",
    "\n",
    "# Using tail() to view the last few rows\n",
    "print(df.tail(2))\n"
   ]
  },
  {
   "cell_type": "markdown",
   "id": "3be0f30a-b9da-47e7-b101-c22e45e15acc",
   "metadata": {},
   "source": [
    "2)info(): This function gives a concise summary of the DataFrame, showing the data types, non-null values, and memory usage. It is helpful to get an overview of the DataFrame's data structure.\n",
    "ex:"
   ]
  },
  {
   "cell_type": "code",
   "execution_count": 15,
   "id": "6cfae2ea-084d-41f9-b0c0-996d59438bef",
   "metadata": {},
   "outputs": [
    {
     "name": "stdout",
     "output_type": "stream",
     "text": [
      "<class 'pandas.core.frame.DataFrame'>\n",
      "RangeIndex: 5 entries, 0 to 4\n",
      "Data columns (total 3 columns):\n",
      " #   Column  Non-Null Count  Dtype \n",
      "---  ------  --------------  ----- \n",
      " 0   Name    5 non-null      object\n",
      " 1   Age     5 non-null      int64 \n",
      " 2   City    5 non-null      object\n",
      "dtypes: int64(1), object(2)\n",
      "memory usage: 248.0+ bytes\n",
      "None\n"
     ]
    }
   ],
   "source": [
    "# Using info() to get DataFrame summary\n",
    "print(df.info())\n"
   ]
  },
  {
   "cell_type": "markdown",
   "id": "bd6eca6f-be44-4a4d-800f-b1fab051e831",
   "metadata": {},
   "source": [
    "3)describe(): This function generates descriptive statistics of the numerical columns in the DataFrame, providing information on count, mean, standard deviation, minimum, and maximum values, among others.\n",
    "ex:"
   ]
  },
  {
   "cell_type": "code",
   "execution_count": 16,
   "id": "b1c85759-ccff-4192-b3d7-8fd9d9a26fec",
   "metadata": {},
   "outputs": [
    {
     "name": "stdout",
     "output_type": "stream",
     "text": [
      "             Age\n",
      "count   5.000000\n",
      "mean   25.800000\n",
      "std     3.193744\n",
      "min    22.000000\n",
      "25%    24.000000\n",
      "50%    25.000000\n",
      "75%    28.000000\n",
      "max    30.000000\n"
     ]
    }
   ],
   "source": [
    "# Using describe() to get descriptive statistics\n",
    "print(df.describe())\n"
   ]
  },
  {
   "cell_type": "markdown",
   "id": "e56809c7-e47b-4972-abd1-534c2872fdea",
   "metadata": {},
   "source": [
    "4)filter(): This function allows you to filter the DataFrame based on certain conditions. You can use it to extract specific rows or columns that meet a given criteria.\n",
    "ex:"
   ]
  },
  {
   "cell_type": "code",
   "execution_count": 17,
   "id": "8eedee34-571a-40c8-b045-c1cc665c651a",
   "metadata": {},
   "outputs": [
    {
     "name": "stdout",
     "output_type": "stream",
     "text": [
      "    Name  Age      City\n",
      "0   John   28  New York\n",
      "3  Alice   30    Sydney\n"
     ]
    }
   ],
   "source": [
    "# Filter rows where Age is greater than 25\n",
    "filtered_df = df[df['Age'] > 25]\n",
    "print(filtered_df)\n"
   ]
  },
  {
   "cell_type": "markdown",
   "id": "8ae3375c-01da-4316-80e3-3c0623f0bb13",
   "metadata": {},
   "source": [
    "5)groupby(): This function is used for grouping data based on one or more columns and then applying a function to each group. It's helpful for aggregating data or performing group-based operations.\n",
    "ex:"
   ]
  },
  {
   "cell_type": "code",
   "execution_count": 18,
   "id": "bb545bf7-808f-4ffb-925b-ec1b19c77bd2",
   "metadata": {},
   "outputs": [
    {
     "name": "stdout",
     "output_type": "stream",
     "text": [
      "City\n",
      "London      24.0\n",
      "New York    28.0\n",
      "Paris       22.0\n",
      "Sydney      30.0\n",
      "Toronto     25.0\n",
      "Name: Age, dtype: float64\n"
     ]
    }
   ],
   "source": [
    "# Grouping the data by the 'City' column and finding the average age in each city\n",
    "grouped_df = df.groupby('City')['Age'].mean()\n",
    "print(grouped_df)\n"
   ]
  },
  {
   "cell_type": "markdown",
   "id": "5c693b1e-09f4-4284-9aa3-1118cac1c69b",
   "metadata": {},
   "source": [
    "6)sort_values(): This function allows you to sort the DataFrame by one or more columns, either in ascending or descending order.\n",
    "ex:"
   ]
  },
  {
   "cell_type": "code",
   "execution_count": 19,
   "id": "63a5b9b2-0681-4967-8abb-f9d764035c30",
   "metadata": {},
   "outputs": [
    {
     "name": "stdout",
     "output_type": "stream",
     "text": [
      "    Name  Age      City\n",
      "3  Alice   30    Sydney\n",
      "0   John   28  New York\n",
      "4   Mike   25   Toronto\n",
      "1   Jane   24    London\n",
      "2    Tom   22     Paris\n"
     ]
    }
   ],
   "source": [
    "# Sorting the DataFrame by 'Age' column in descending order\n",
    "sorted_df = df.sort_values(by='Age', ascending=False)\n",
    "print(sorted_df)\n"
   ]
  },
  {
   "cell_type": "markdown",
   "id": "6398fba4-c2cf-409c-828b-5c7fc3e0115a",
   "metadata": {},
   "source": [
    "Q6. Which of the following is mutable in nature Series, DataFrame, Panel?"
   ]
  },
  {
   "cell_type": "markdown",
   "id": "b3f56a7b-fe02-49d2-9b81-0188e0bf91eb",
   "metadata": {},
   "source": [
    "In Pandas, both Series and DataFrame are mutable in nature, while Panel is not. Let's understand the difference:\n",
    "\n",
    "1)Series: A Series is a one-dimensional labeled array that can hold data of any type (integer, float, string, etc.). It is mutable, which means you can modify the values within a Series after it has been created. You can change the values, add new elements, or remove existing ones.\n",
    "\n",
    "2)DataFrame: A DataFrame is a two-dimensional labeled data structure, similar to a table or spreadsheet. It consists of rows and columns, where each column is a Series. Like Series, DataFrames are also mutable. You can modify individual cell values, add or delete rows and columns, or perform other data manipulation operations.\n",
    "\n",
    "3)"
   ]
  }
 ],
 "metadata": {
  "kernelspec": {
   "display_name": "Python 3 (ipykernel)",
   "language": "python",
   "name": "python3"
  },
  "language_info": {
   "codemirror_mode": {
    "name": "ipython",
    "version": 3
   },
   "file_extension": ".py",
   "mimetype": "text/x-python",
   "name": "python",
   "nbconvert_exporter": "python",
   "pygments_lexer": "ipython3",
   "version": "3.10.8"
  }
 },
 "nbformat": 4,
 "nbformat_minor": 5
}
